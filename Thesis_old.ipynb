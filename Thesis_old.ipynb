{
 "cells": [
  {
   "cell_type": "code",
   "execution_count": 30,
   "metadata": {
    "collapsed": false
   },
   "outputs": [
    {
     "name": "stdout",
     "output_type": "stream",
     "text": [
      "Populating the interactive namespace from numpy and matplotlib\n"
     ]
    },
    {
     "name": "stderr",
     "output_type": "stream",
     "text": [
      "WARNING: pylab import has clobbered these variables: ['test']\n",
      "`%matplotlib` prevents importing * from pylab and numpy\n"
     ]
    }
   ],
   "source": [
    "import numpy as np\n",
    "import scipy as sp\n",
    "import pandas as pd\n",
    "import matplotlib.pyplot as plt\n",
    "%pylab inline "
   ]
  },
  {
   "cell_type": "code",
   "execution_count": 32,
   "metadata": {
    "collapsed": false
   },
   "outputs": [],
   "source": [
    "data =pd.read_csv(\"thesis_patient.csv\")"
   ]
  },
  {
   "cell_type": "code",
   "execution_count": 33,
   "metadata": {
    "collapsed": false
   },
   "outputs": [],
   "source": [
    "pd.set_option('display.mpl_style', 'default') # Make the graphs a bit prettier\n",
    "figsize(15, 5)\n",
    "pd.set_option('display.width',1000)"
   ]
  },
  {
   "cell_type": "code",
   "execution_count": 39,
   "metadata": {
    "collapsed": false
   },
   "outputs": [
    {
     "data": {
      "text/html": [
       "<div style=\"max-height:1000px;max-width:1500px;overflow:auto;\">\n",
       "<table border=\"1\" class=\"dataframe\">\n",
       "  <thead>\n",
       "    <tr style=\"text-align: right;\">\n",
       "      <th></th>\n",
       "      <th>patient_id</th>\n",
       "      <th>group</th>\n",
       "      <th>patient_name</th>\n",
       "      <th>age</th>\n",
       "      <th>gender</th>\n",
       "      <th>type_of_vitiligo</th>\n",
       "      <th>duration_of_vitiligo_yrs</th>\n",
       "      <th>sites</th>\n",
       "      <th>stability_yrs</th>\n",
       "      <th>donar_area</th>\n",
       "      <th>donar_size_cm2</th>\n",
       "      <th>transpanted_area_cm2</th>\n",
       "      <th>no_of_recipient_sites</th>\n",
       "    </tr>\n",
       "  </thead>\n",
       "  <tbody>\n",
       "    <tr>\n",
       "      <th>0</th>\n",
       "      <td> 1</td>\n",
       "      <td> A</td>\n",
       "      <td> Srishti</td>\n",
       "      <td> 17</td>\n",
       "      <td> F</td>\n",
       "      <td> Segmental vitiligo</td>\n",
       "      <td> 14</td>\n",
       "      <td>   Rt leg</td>\n",
       "      <td> 1.0</td>\n",
       "      <td>  Lt thigh</td>\n",
       "      <td>  8</td>\n",
       "      <td> 11.500000</td>\n",
       "      <td>  3</td>\n",
       "    </tr>\n",
       "    <tr>\n",
       "      <th>1</th>\n",
       "      <td> 2</td>\n",
       "      <td> A</td>\n",
       "      <td>    Aman</td>\n",
       "      <td> 12</td>\n",
       "      <td> M</td>\n",
       "      <td>  vitiligo vulgaris</td>\n",
       "      <td>  3</td>\n",
       "      <td> Rt ankle</td>\n",
       "      <td> 1.5</td>\n",
       "      <td> Rt thigh </td>\n",
       "      <td>  4</td>\n",
       "      <td>  7.346429</td>\n",
       "      <td>  4</td>\n",
       "    </tr>\n",
       "    <tr>\n",
       "      <th>2</th>\n",
       "      <td> 3</td>\n",
       "      <td> A</td>\n",
       "      <td> Jahnavi</td>\n",
       "      <td> 18</td>\n",
       "      <td> F</td>\n",
       "      <td>  vitiligo vulgaris</td>\n",
       "      <td> 10</td>\n",
       "      <td>  Lt hand</td>\n",
       "      <td> 2.0</td>\n",
       "      <td> Rt thigh </td>\n",
       "      <td>  4</td>\n",
       "      <td>  9.000000</td>\n",
       "      <td>  2</td>\n",
       "    </tr>\n",
       "    <tr>\n",
       "      <th>3</th>\n",
       "      <td> 4</td>\n",
       "      <td> A</td>\n",
       "      <td> Surabhi</td>\n",
       "      <td> 21</td>\n",
       "      <td> F</td>\n",
       "      <td>  vitiligo vulgaris</td>\n",
       "      <td> 14</td>\n",
       "      <td>  Rt foot</td>\n",
       "      <td> 3.0</td>\n",
       "      <td> Rt thigh </td>\n",
       "      <td> 20</td>\n",
       "      <td> 63.250000</td>\n",
       "      <td> 13</td>\n",
       "    </tr>\n",
       "    <tr>\n",
       "      <th>4</th>\n",
       "      <td> 5</td>\n",
       "      <td> A</td>\n",
       "      <td> Surabhi</td>\n",
       "      <td> 22</td>\n",
       "      <td> F</td>\n",
       "      <td>  vitiligo vulgaris</td>\n",
       "      <td> 15</td>\n",
       "      <td>   Lt leg</td>\n",
       "      <td> 4.0</td>\n",
       "      <td>  lt thigh</td>\n",
       "      <td> 15</td>\n",
       "      <td> 37.928571</td>\n",
       "      <td>  7</td>\n",
       "    </tr>\n",
       "  </tbody>\n",
       "</table>\n",
       "</div>"
      ],
      "text/plain": [
       "   patient_id group patient_name  age gender    type_of_vitiligo  duration_of_vitiligo_yrs     sites  stability_yrs donar_area donar_size_cm2  transpanted_area_cm2  no_of_recipient_sites\n",
       "0           1     A      Srishti   17      F  Segmental vitiligo                        14    Rt leg            1.0   Lt thigh              8             11.500000                      3\n",
       "1           2     A         Aman   12      M   vitiligo vulgaris                         3  Rt ankle            1.5  Rt thigh               4              7.346429                      4\n",
       "2           3     A      Jahnavi   18      F   vitiligo vulgaris                        10   Lt hand            2.0  Rt thigh               4              9.000000                      2\n",
       "3           4     A      Surabhi   21      F   vitiligo vulgaris                        14   Rt foot            3.0  Rt thigh              20             63.250000                     13\n",
       "4           5     A      Surabhi   22      F   vitiligo vulgaris                        15    Lt leg            4.0   lt thigh             15             37.928571                      7"
      ]
     },
     "execution_count": 39,
     "metadata": {},
     "output_type": "execute_result"
    }
   ],
   "source": [
    "data.head()"
   ]
  },
  {
   "cell_type": "code",
   "execution_count": 78,
   "metadata": {
    "collapsed": false
   },
   "outputs": [],
   "source": [
    "age_dist_A = data[data.group=='A']['age']\n",
    "age_dist_B = data[data.group=='B']['age'].copy()"
   ]
  },
  {
   "cell_type": "code",
   "execution_count": 69,
   "metadata": {
    "collapsed": false
   },
   "outputs": [
    {
     "data": {
      "text/plain": [
       "(array([1, 0, 0, 0, 0, 1, 2, 0, 0, 2]),\n",
       " array([ 12.,  13.,  14.,  15.,  16.,  17.,  18.,  19.,  20.,  21.,  22.]),\n",
       " <a list of 10 Patch objects>)"
      ]
     },
     "execution_count": 69,
     "metadata": {},
     "output_type": "execute_result"
    },
    {
     "data": {
      "image/png": "[encoded data removed]",
      "text/plain": [
       "<matplotlib.figure.Figure at 0x56b5410>"
      ]
     },
     "metadata": {},
     "output_type": "display_data"
    }
   ],
   "source": [
    "#plt.hist(age_dist)\n",
    "plt.hist(age_dist_A)\n",
    "#plt.hist(age_dist_B)"
   ]
  },
  {
   "cell_type": "code",
   "execution_count": 96,
   "metadata": {
    "collapsed": false
   },
   "outputs": [
    {
     "data": {
      "text/plain": [
       "(array([1, 0, 1, 0, 0, 0, 0, 0, 1, 2]),\n",
       " array([ 15. ,  17.7,  20.4,  23.1,  25.8,  28.5,  31.2,  33.9,  36.6,\n",
       "         39.3,  42. ]),\n",
       " <a list of 10 Patch objects>)"
      ]
     },
     "execution_count": 96,
     "metadata": {},
     "output_type": "execute_result"
    },
    {
     "data": {
      "image/png": "[encoded data removed]",
      "text/plain": [
       "<matplotlib.figure.Figure at 0x7d74cd0>"
      ]
     },
     "metadata": {},
     "output_type": "display_data"
    }
   ],
   "source": [
    "age_dist_B.index = arange(0,5)\n",
    "plt.hist(age_dist_A,color='r')\n",
    "plt.hist(age_dist_B,color='g')"
   ]
  },
  {
   "cell_type": "code",
   "execution_count": 91,
   "metadata": {
    "collapsed": true
   },
   "outputs": [],
   "source": [
    "plt.hist?"
   ]
  },
  {
   "cell_type": "code",
   "execution_count": 42,
   "metadata": {
    "collapsed": false
   },
   "outputs": [
    {
     "data": {
      "text/plain": [
       "count     5.000000\n",
       "mean     31.400000\n",
       "std      12.461942\n",
       "min      15.000000\n",
       "25%      21.000000\n",
       "50%      39.000000\n",
       "75%      40.000000\n",
       "max      42.000000\n",
       "Name: age, dtype: float64"
      ]
     },
     "execution_count": 42,
     "metadata": {},
     "output_type": "execute_result"
    }
   ],
   "source": [
    "age_dist_B.describe()"
   ]
  },
  {
   "cell_type": "code",
   "execution_count": 62,
   "metadata": {
    "collapsed": true
   },
   "outputs": [],
   "source": [
    "age_dist = data.age\n",
    "age_dist_M = data[data.gender=='M']['age']\n",
    "age_dist_F = data[data.gender=='F']['age']"
   ]
  },
  {
   "cell_type": "code",
   "execution_count": 63,
   "metadata": {
    "collapsed": false
   },
   "outputs": [
    {
     "data": {
      "text/plain": [
       "count     5.000000\n",
       "mean     26.000000\n",
       "std      14.089003\n",
       "min      12.000000\n",
       "25%      15.000000\n",
       "50%      21.000000\n",
       "75%      40.000000\n",
       "max      42.000000\n",
       "Name: age, dtype: float64"
      ]
     },
     "execution_count": 63,
     "metadata": {},
     "output_type": "execute_result"
    }
   ],
   "source": [
    "age_dist_M.describe()"
   ]
  },
  {
   "cell_type": "code",
   "execution_count": 64,
   "metadata": {
    "collapsed": false
   },
   "outputs": [
    {
     "data": {
      "text/plain": [
       "count     6.000000\n",
       "mean     22.500000\n",
       "std       8.312641\n",
       "min      17.000000\n",
       "25%      18.000000\n",
       "50%      19.500000\n",
       "75%      21.750000\n",
       "max      39.000000\n",
       "Name: age, dtype: float64"
      ]
     },
     "execution_count": 64,
     "metadata": {},
     "output_type": "execute_result"
    }
   ],
   "source": [
    "age_dist_F.describe()"
   ]
  },
  {
   "cell_type": "code",
   "execution_count": 65,
   "metadata": {
    "collapsed": false
   },
   "outputs": [
    {
     "data": {
      "text/plain": [
       "Index([u'patient_id', u'group', u'patient_name', u'age', u'gender', u'type_of_vitiligo', u'duration_of_vitiligo_yrs', u'sites', u'stability_yrs', u'donar_area', u'donar_size_cm2', u'transpanted_area_cm2', u'no_of_recipient_sites'], dtype='object')"
      ]
     },
     "execution_count": 65,
     "metadata": {},
     "output_type": "execute_result"
    }
   ],
   "source": [
    "data.columns"
   ]
  },
  {
   "cell_type": "code",
   "execution_count": 66,
   "metadata": {
    "collapsed": true
   },
   "outputs": [],
   "source": [
    "ta_A = data[data.group=='A']['transpanted_area_cm2']\n",
    "ta_B = data[data.group=='B']['transpanted_area_cm2']"
   ]
  },
  {
   "cell_type": "code",
   "execution_count": 67,
   "metadata": {
    "collapsed": false
   },
   "outputs": [
    {
     "data": {
      "text/plain": [
       "count     6.000000\n",
       "mean     21.754167\n",
       "std      23.954734\n",
       "min       1.500000\n",
       "25%       7.759821\n",
       "50%      10.250000\n",
       "75%      31.321429\n",
       "max      63.250000\n",
       "Name: transpanted_area_cm2, dtype: float64"
      ]
     },
     "execution_count": 67,
     "metadata": {},
     "output_type": "execute_result"
    }
   ],
   "source": [
    "ta_A.describe()"
   ]
  },
  {
   "cell_type": "code",
   "execution_count": 68,
   "metadata": {
    "collapsed": false
   },
   "outputs": [
    {
     "data": {
      "text/plain": [
       "count     5.000000\n",
       "mean     19.578571\n",
       "std      25.351888\n",
       "min       1.000000\n",
       "25%       6.839286\n",
       "50%      11.285714\n",
       "75%      14.785714\n",
       "max      63.982143\n",
       "Name: transpanted_area_cm2, dtype: float64"
      ]
     },
     "execution_count": 68,
     "metadata": {},
     "output_type": "execute_result"
    }
   ],
   "source": [
    "ta_B.describe()"
   ]
  },
  {
   "cell_type": "code",
   "execution_count": 100,
   "metadata": {
    "collapsed": false
   },
   "outputs": [],
   "source": [
    "tra_area_A = data[data.group == 'A']['transpanted_area_cm2']\n",
    "tra_area_B = data[data.group == 'B']['transpanted_area_cm2']"
   ]
  },
  {
   "cell_type": "code",
   "execution_count": 102,
   "metadata": {
    "collapsed": false
   },
   "outputs": [
    {
     "data": {
      "text/plain": [
       "count     6.000000\n",
       "mean     21.754167\n",
       "std      23.954734\n",
       "min       1.500000\n",
       "25%       7.759821\n",
       "50%      10.250000\n",
       "75%      31.321429\n",
       "max      63.250000\n",
       "Name: transpanted_area_cm2, dtype: float64"
      ]
     },
     "execution_count": 102,
     "metadata": {},
     "output_type": "execute_result"
    }
   ],
   "source": [
    "tra_area_A.describe()"
   ]
  },
  {
   "cell_type": "code",
   "execution_count": 103,
   "metadata": {
    "collapsed": false
   },
   "outputs": [
    {
     "data": {
      "text/plain": [
       "count     5.000000\n",
       "mean     19.578571\n",
       "std      25.351888\n",
       "min       1.000000\n",
       "25%       6.839286\n",
       "50%      11.285714\n",
       "75%      14.785714\n",
       "max      63.982143\n",
       "Name: transpanted_area_cm2, dtype: float64"
      ]
     },
     "execution_count": 103,
     "metadata": {},
     "output_type": "execute_result"
    }
   ],
   "source": [
    "tra_area_B.describe()"
   ]
  },
  {
   "cell_type": "code",
   "execution_count": 125,
   "metadata": {
    "collapsed": false
   },
   "outputs": [
    {
     "data": {
      "text/plain": [
       "(array([2, 1, 1, 0, 0, 0, 0, 0, 0, 1]),\n",
       " array([  1.        ,   7.29821429,  13.59642857,  19.89464286,\n",
       "         26.19285714,  32.49107143,  38.78928572,  45.0875    ,\n",
       "         51.38571429,  57.68392857,  63.98214286]),\n",
       " <a list of 10 Patch objects>)"
      ]
     },
     "execution_count": 125,
     "metadata": {},
     "output_type": "execute_result"
    },
    {
     "data": {
      "image/png": "[encoded data removed]",
      "text/plain": [
       "<matplotlib.figure.Figure at 0x9bc7ed0>"
      ]
     },
     "metadata": {},
     "output_type": "display_data"
    }
   ],
   "source": [
    "tra_area_B.index = arange(len(tra_area_B))\n",
    "plt.hist(tra_area_A,color='b')\n",
    "plt.hist(tra_area_B,color='g')"
   ]
  },
  {
   "cell_type": "code",
   "execution_count": 115,
   "metadata": {
    "collapsed": true
   },
   "outputs": [],
   "source": [
    "dur_vit_A = data[data.group=='A']['duration_of_vitiligo_yrs']\n",
    "dur_vit_B = data[data.group=='B']['duration_of_vitiligo_yrs']\n",
    "dur_vit_B.index = arange(len(dur_vit_B))"
   ]
  },
  {
   "cell_type": "code",
   "execution_count": 124,
   "metadata": {
    "collapsed": false
   },
   "outputs": [
    {
     "data": {
      "text/plain": [
       "<matplotlib.text.Text at 0xa315250>"
      ]
     },
     "execution_count": 124,
     "metadata": {},
     "output_type": "execute_result"
    },
    {
     "data": {
      "image/png": "[encoded data removed]",
      "text/plain": [
       "<matplotlib.figure.Figure at 0xa2f1dd0>"
      ]
     },
     "metadata": {},
     "output_type": "display_data"
    }
   ],
   "source": [
    "plt.hist(dur_vit_A,color='g')\n",
    "plt.hist(dur_vit_B,color='r')\n",
    "plt.title(\"Duration of Vitiligo\\n\\n\",color=\"b\")\n",
    "plt.xlabel(\"Duration(Years)\")\n",
    "plt.ylabel(\"No of patients\")"
   ]
  },
  {
   "cell_type": "code",
   "execution_count": null,
   "metadata": {
    "collapsed": true
   },
   "outputs": [],
   "source": []
  }
 ],
 "metadata": {
  "kernelspec": {
   "display_name": "Python 2",
   "language": "python",
   "name": "python2"
  },
  "language_info": {
   "codemirror_mode": {
    "name": "ipython",
    "version": 2
   },
   "file_extension": ".py",
   "mimetype": "text/x-python",
   "name": "python",
   "nbconvert_exporter": "python",
   "pygments_lexer": "ipython2",
   "version": "2.7.3"
  }
 },
 "nbformat": 4,
 "nbformat_minor": 0
}
