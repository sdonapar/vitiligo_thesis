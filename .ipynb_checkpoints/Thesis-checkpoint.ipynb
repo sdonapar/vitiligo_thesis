{
 "cells": [
  {
   "cell_type": "markdown",
   "metadata": {},
   "source": [
    "# Results"
   ]
  },
  {
   "cell_type": "code",
   "execution_count": 1,
   "metadata": {
    "collapsed": false
   },
   "outputs": [],
   "source": [
    "import numpy as np\n",
    "import scipy as sp\n",
    "import pandas as pd\n",
    "from pandas import DataFrame\n",
    "import matplotlib.pyplot as plt\n",
    "import matplotlib\n",
    "%matplotlib inline\n",
    "from scipy.stats import chi2_contingency\n",
    "from thesis import get_range_percentages,get_cat_percentages\n",
    "from thesis import print_attr_stats,plot_graph,analyse_range,analyse_category"
   ]
  },
  {
   "cell_type": "code",
   "execution_count": 2,
   "metadata": {
    "collapsed": false
   },
   "outputs": [],
   "source": [
    "#The labels were very light color, so removed this styling\n",
    "# set the sytle only if necessary\n",
    "\n",
    "#plt.style.use('ggplot')\n",
    "#plt.style.use('fivethirtyeight')"
   ]
  },
  {
   "cell_type": "code",
   "execution_count": 2,
   "metadata": {
    "collapsed": true
   },
   "outputs": [],
   "source": [
    "# Read the data from csv files\n",
    "patients_df = pd.read_csv(\"thesis_patient.csv\")\n",
    "pdf_a = patients_df[patients_df.group==\"A\"]\n",
    "pdf_b = patients_df[patients_df.group==\"B\"]\n",
    "sites_df = pd.read_csv(\"thesis_sites.csv\")\n",
    "sdf_a = sites_df[sites_df.group==\"A\"]\n",
    "sdf_b = sites_df[sites_df.group==\"B\"]"
   ]
  },
  {
   "cell_type": "markdown",
   "metadata": {},
   "source": [
    "A total of **11** patients were enrolled in the study, which included 30 vitiligo sites for split thickness skin grafting (STSG) (Group A) and 30 sites for autologous noncultured melanocyte transfer (AMT)(Group B). Though 30 sites each were subjected to surgery in both the groups,Therefore data of only 30 sites each of both the groups(total of 11 patients) were considered for the statistical analysis"
   ]
  },
  {
   "cell_type": "markdown",
   "metadata": {},
   "source": [
    "## Age Wise Distribution of patients"
   ]
  },
  {
   "cell_type": "code",
   "execution_count": 7,
   "metadata": {
    "collapsed": false
   },
   "outputs": [],
   "source": [
    "# Set the input data\n",
    "attribute = \"age\"\n",
    "age_ranges = [[12,25],[26,50]]\n",
    "age_unit = \"Years\"\n",
    "data = (pdf_a,pdf_b)"
   ]
  },
  {
   "cell_type": "code",
   "execution_count": 8,
   "metadata": {
    "collapsed": false
   },
   "outputs": [
    {
     "name": "stdout",
     "output_type": "stream",
     "text": [
      "age Statistics\n",
      "Number of elements:11\n",
      "ranges from 12 to 42 with mean=24.09 and SD=10.83\n",
      "age Statistics\n",
      "Number of elements:6\n",
      "ranges from 12 to 22 with mean=18.00 and SD=3.52\n",
      "age Statistics\n",
      "Number of elements:5\n",
      "ranges from 15 to 42 with mean=31.40 and SD=12.46\n"
     ]
    }
   ],
   "source": [
    "# Print stats\n",
    "print_attr_stats(patients_df,attribute)\n",
    "print_attr_stats(pdf_a,attribute)\n",
    "print_attr_stats(pdf_b,attribute)"
   ]
  },
  {
   "cell_type": "code",
   "execution_count": 9,
   "metadata": {
    "collapsed": false,
    "scrolled": true
   },
   "outputs": [
    {
     "name": "stdout",
     "output_type": "stream",
     "text": [
      "chi-square:4.950,p_value:0.026\n"
     ]
    }
   ],
   "source": [
    "# Analyze data\n",
    "(mydf,obs,chi_square_value,p_value) = analyse_range(data,age_ranges,attribute,age_unit)\n",
    "print \"chi-square:%.3f,p_value:%.3f\"%(chi_square_value,p_value)"
   ]
  },
  {
   "cell_type": "code",
   "execution_count": 10,
   "metadata": {
    "collapsed": false
   },
   "outputs": [
    {
     "data": {
      "text/html": [
       "<div>\n",
       "<table border=\"1\" class=\"dataframe\">\n",
       "  <thead>\n",
       "    <tr style=\"text-align: right;\">\n",
       "      <th></th>\n",
       "      <th>12-25 Years</th>\n",
       "      <th>26-50 Years</th>\n",
       "    </tr>\n",
       "  </thead>\n",
       "  <tbody>\n",
       "    <tr>\n",
       "      <th>Group-A</th>\n",
       "      <td>100</td>\n",
       "      <td>0</td>\n",
       "    </tr>\n",
       "    <tr>\n",
       "      <th>Group-B</th>\n",
       "      <td>40</td>\n",
       "      <td>60</td>\n",
       "    </tr>\n",
       "  </tbody>\n",
       "</table>\n",
       "</div>"
      ],
      "text/plain": [
       "         12-25 Years  26-50 Years\n",
       "Group-A          100            0\n",
       "Group-B           40           60"
      ]
     },
     "execution_count": 10,
     "metadata": {},
     "output_type": "execute_result"
    }
   ],
   "source": [
    "mydf.head()"
   ]
  },
  {
   "cell_type": "code",
   "execution_count": 12,
   "metadata": {
    "collapsed": false
   },
   "outputs": [
    {
     "name": "stdout",
     "output_type": "stream",
     "text": [
      "[[ 6.  0.]\n",
      " [ 2.  3.]]\n"
     ]
    }
   ],
   "source": [
    "print(obs)"
   ]
  },
  {
   "cell_type": "code",
   "execution_count": 14,
   "metadata": {
    "collapsed": false
   },
   "outputs": [
    {
     "data": {
      "image/png": "[encoded data removed]",
      "text/plain": [
       "<matplotlib.figure.Figure at 0x3f38290>"
      ]
     },
     "metadata": {},
     "output_type": "display_data"
    }
   ],
   "source": [
    "#mydf.plot(kind='bar',fontsize=15,figsize=(8,5),colormap=matplotlib.cm.Accent,rot=360)\n",
    "plot_graph(mydf,style=\"grayscale\",fname=\"age_distribution\")"
   ]
  },
  {
   "cell_type": "markdown",
   "metadata": {},
   "source": [
    "## Gender Wise Distribution of patients"
   ]
  },
  {
   "cell_type": "code",
   "execution_count": 15,
   "metadata": {
    "collapsed": true
   },
   "outputs": [],
   "source": [
    "# Set the input data\n",
    "attribute = \"gender\"\n",
    "data = (pdf_a,pdf_b)"
   ]
  },
  {
   "cell_type": "code",
   "execution_count": 16,
   "metadata": {
    "collapsed": false
   },
   "outputs": [
    {
     "name": "stdout",
     "output_type": "stream",
     "text": [
      "chi-square:4.412,p_value:0.036\n"
     ]
    }
   ],
   "source": [
    "# Analyze data\n",
    "mydf,obs,chi_square_value,p_value = analyse_category(data,attribute)\n",
    "print \"chi-square:%.3f,p_value:%.3f\"%(chi_square_value,p_value)"
   ]
  },
  {
   "cell_type": "code",
   "execution_count": 17,
   "metadata": {
    "collapsed": false
   },
   "outputs": [
    {
     "data": {
      "text/html": [
       "<div>\n",
       "<table border=\"1\" class=\"dataframe\">\n",
       "  <thead>\n",
       "    <tr style=\"text-align: right;\">\n",
       "      <th></th>\n",
       "      <th>F</th>\n",
       "      <th>M</th>\n",
       "    </tr>\n",
       "  </thead>\n",
       "  <tbody>\n",
       "    <tr>\n",
       "      <th>Group-A</th>\n",
       "      <td>83.333333</td>\n",
       "      <td>16.666667</td>\n",
       "    </tr>\n",
       "    <tr>\n",
       "      <th>Group-B</th>\n",
       "      <td>20.000000</td>\n",
       "      <td>80.000000</td>\n",
       "    </tr>\n",
       "  </tbody>\n",
       "</table>\n",
       "</div>"
      ],
      "text/plain": [
       "                 F          M\n",
       "Group-A  83.333333  16.666667\n",
       "Group-B  20.000000  80.000000"
      ]
     },
     "execution_count": 17,
     "metadata": {},
     "output_type": "execute_result"
    }
   ],
   "source": [
    "mydf.head()"
   ]
  },
  {
   "cell_type": "code",
   "execution_count": 18,
   "metadata": {
    "collapsed": false
   },
   "outputs": [
    {
     "name": "stdout",
     "output_type": "stream",
     "text": [
      "[[ 5.  1.]\n",
      " [ 1.  4.]]\n"
     ]
    }
   ],
   "source": [
    "print(obs)"
   ]
  },
  {
   "cell_type": "code",
   "execution_count": 19,
   "metadata": {
    "collapsed": false,
    "scrolled": true
   },
   "outputs": [
    {
     "data": {
      "image/png": "[encoded data removed]",
      "text/plain": [
       "<matplotlib.figure.Figure at 0x3f38310>"
      ]
     },
     "metadata": {},
     "output_type": "display_data"
    }
   ],
   "source": [
    "#mydf.plot(kind='bar',title=\"Gender wise Distribution\\n\",colormap=matplotlib.cm.Accent)\n",
    "plot_graph(mydf,style=\"grayscale\",fname=\"gender_distribution\")"
   ]
  },
  {
   "cell_type": "markdown",
   "metadata": {},
   "source": [
    "## Duration of Vitiligo by sites"
   ]
  },
  {
   "cell_type": "code",
   "execution_count": 35,
   "metadata": {
    "collapsed": true
   },
   "outputs": [],
   "source": [
    "# Set the input data\n",
    "attribute = \"duration_of_vitiligo_yrs\"\n",
    "dur_ranges = [[1,5],[6,10],[11,20],[21,100]]\n",
    "dur_unit = \"Years\"\n",
    "data = (sdf_a,sdf_b)"
   ]
  },
  {
   "cell_type": "code",
   "execution_count": 36,
   "metadata": {
    "collapsed": false
   },
   "outputs": [
    {
     "name": "stdout",
     "output_type": "stream",
     "text": [
      "duration_of_vitiligo_yrs Statistics\n",
      "Number of elements:60\n",
      "ranges from 2 to 32 with mean=18.77 and SD=9.61\n",
      "duration_of_vitiligo_yrs Statistics\n",
      "Number of elements:30\n",
      "ranges from 3 to 15 with mean=12.13 and SD=4.31\n",
      "duration_of_vitiligo_yrs Statistics\n",
      "Number of elements:30\n",
      "ranges from 2 to 32 with mean=25.40 and SD=8.85\n"
     ]
    }
   ],
   "source": [
    "# print stats\n",
    "print_attr_stats(sites_df,attribute)\n",
    "print_attr_stats(sdf_a,attribute)\n",
    "print_attr_stats(sdf_b,attribute)"
   ]
  },
  {
   "cell_type": "code",
   "execution_count": 37,
   "metadata": {
    "collapsed": false
   },
   "outputs": [
    {
     "name": "stdout",
     "output_type": "stream",
     "text": [
      "chi-square:51.111,p_value:0.000\n"
     ]
    }
   ],
   "source": [
    "# Analyze\n",
    "mydf,obs,chi_square_value,p_value = analyse_range(data,dur_ranges,attribute,dur_unit)\n",
    "print \"chi-square:%.3f,p_value:%.3f\"%(chi_square_value,p_value)"
   ]
  },
  {
   "cell_type": "code",
   "execution_count": 38,
   "metadata": {
    "collapsed": false
   },
   "outputs": [
    {
     "data": {
      "text/html": [
       "<div>\n",
       "<table border=\"1\" class=\"dataframe\">\n",
       "  <thead>\n",
       "    <tr style=\"text-align: right;\">\n",
       "      <th></th>\n",
       "      <th>1-5 Years</th>\n",
       "      <th>6-10 Years</th>\n",
       "      <th>11-20 Years</th>\n",
       "      <th>&gt;21 Years</th>\n",
       "    </tr>\n",
       "  </thead>\n",
       "  <tbody>\n",
       "    <tr>\n",
       "      <th>Group-A</th>\n",
       "      <td>16.666667</td>\n",
       "      <td>6.666667</td>\n",
       "      <td>76.666667</td>\n",
       "      <td>0.000000</td>\n",
       "    </tr>\n",
       "    <tr>\n",
       "      <th>Group-B</th>\n",
       "      <td>13.333333</td>\n",
       "      <td>0.000000</td>\n",
       "      <td>0.000000</td>\n",
       "      <td>86.666667</td>\n",
       "    </tr>\n",
       "  </tbody>\n",
       "</table>\n",
       "</div>"
      ],
      "text/plain": [
       "         1-5 Years  6-10 Years  11-20 Years  >21 Years\n",
       "Group-A  16.666667    6.666667    76.666667   0.000000\n",
       "Group-B  13.333333    0.000000     0.000000  86.666667"
      ]
     },
     "execution_count": 38,
     "metadata": {},
     "output_type": "execute_result"
    }
   ],
   "source": [
    "mydf.head()"
   ]
  },
  {
   "cell_type": "code",
   "execution_count": 39,
   "metadata": {
    "collapsed": false
   },
   "outputs": [
    {
     "data": {
      "image/png": "[encoded data removed]",
      "text/plain": [
       "<matplotlib.figure.Figure at 0x4233390>"
      ]
     },
     "metadata": {},
     "output_type": "display_data"
    }
   ],
   "source": [
    "plot_graph(mydf,style=\"grayscale\",fname=\"duration_vitiligo\")"
   ]
  },
  {
   "cell_type": "markdown",
   "metadata": {},
   "source": [
    "## Stability Duration by site"
   ]
  },
  {
   "cell_type": "code",
   "execution_count": 46,
   "metadata": {
    "collapsed": true
   },
   "outputs": [],
   "source": [
    "# Set the input data\n",
    "attribute = \"stability_yrs\"\n",
    "stb_ranges = [[1,2],[3,5],[6,10],[11,100]]\n",
    "stb_unit = \"Years\"\n",
    "data = (sdf_a,sdf_b)"
   ]
  },
  {
   "cell_type": "code",
   "execution_count": 47,
   "metadata": {
    "collapsed": false
   },
   "outputs": [
    {
     "name": "stdout",
     "output_type": "stream",
     "text": [
      "stability_yrs Statistics\n",
      "Number of elements:60\n",
      "ranges from 1 to 12 with mean=5.95 and SD=4.03\n",
      "stability_yrs Statistics\n",
      "Number of elements:30\n",
      "ranges from 1 to 4 with mean=2.77 and SD=0.99\n",
      "stability_yrs Statistics\n",
      "Number of elements:30\n",
      "ranges from 1 to 12 with mean=9.13 and SD=3.33\n"
     ]
    }
   ],
   "source": [
    "# print Stats\n",
    "print_attr_stats(sites_df,attribute)\n",
    "print_attr_stats(sdf_a,attribute)\n",
    "print_attr_stats(sdf_b,attribute)"
   ]
  },
  {
   "cell_type": "code",
   "execution_count": 48,
   "metadata": {
    "collapsed": false
   },
   "outputs": [
    {
     "name": "stdout",
     "output_type": "stream",
     "text": [
      "chi-square:48.923,p_value:0.000\n"
     ]
    }
   ],
   "source": [
    "# Analyze\n",
    "mydf,obs,chi_square_value,p_value = analyse_range(data,stb_ranges,attribute,stb_unit)\n",
    "print \"chi-square:%.3f,p_value:%.3f\"%(chi_square_value,p_value)"
   ]
  },
  {
   "cell_type": "code",
   "execution_count": 43,
   "metadata": {
    "collapsed": false
   },
   "outputs": [
    {
     "data": {
      "text/html": [
       "<div>\n",
       "<table border=\"1\" class=\"dataframe\">\n",
       "  <thead>\n",
       "    <tr style=\"text-align: right;\">\n",
       "      <th></th>\n",
       "      <th>1-2 Years</th>\n",
       "      <th>3-5 Years</th>\n",
       "      <th>6-10 Years</th>\n",
       "      <th>&gt;11 Years</th>\n",
       "    </tr>\n",
       "  </thead>\n",
       "  <tbody>\n",
       "    <tr>\n",
       "      <th>Group-A</th>\n",
       "      <td>30.000000</td>\n",
       "      <td>70</td>\n",
       "      <td>0</td>\n",
       "      <td>0.000000</td>\n",
       "    </tr>\n",
       "    <tr>\n",
       "      <th>Group-B</th>\n",
       "      <td>13.333333</td>\n",
       "      <td>0</td>\n",
       "      <td>70</td>\n",
       "      <td>16.666667</td>\n",
       "    </tr>\n",
       "  </tbody>\n",
       "</table>\n",
       "</div>"
      ],
      "text/plain": [
       "         1-2 Years  3-5 Years  6-10 Years  >11 Years\n",
       "Group-A  30.000000         70           0   0.000000\n",
       "Group-B  13.333333          0          70  16.666667"
      ]
     },
     "execution_count": 43,
     "metadata": {},
     "output_type": "execute_result"
    }
   ],
   "source": [
    "mydf.head()"
   ]
  },
  {
   "cell_type": "code",
   "execution_count": 44,
   "metadata": {
    "collapsed": false
   },
   "outputs": [
    {
     "name": "stdout",
     "output_type": "stream",
     "text": [
      "[[  9.  21.   0.   0.]\n",
      " [  4.   0.  21.   5.]]\n"
     ]
    }
   ],
   "source": [
    "print(obs)"
   ]
  },
  {
   "cell_type": "code",
   "execution_count": 49,
   "metadata": {
    "collapsed": false
   },
   "outputs": [
    {
     "data": {
      "image/png": "[encoded data removed]",
      "text/plain": [
       "<matplotlib.figure.Figure at 0x3f42850>"
      ]
     },
     "metadata": {},
     "output_type": "display_data"
    }
   ],
   "source": [
    "plot_graph(mydf,style=\"grayscale\",fname=\"stability_vitiligo\")"
   ]
  },
  {
   "cell_type": "markdown",
   "metadata": {},
   "source": [
    "## Type of Vitiligo Distribution by sites"
   ]
  },
  {
   "cell_type": "code",
   "execution_count": 51,
   "metadata": {
    "collapsed": false
   },
   "outputs": [],
   "source": [
    "# Set input data\n",
    "attribute = \"type_of_vitiligo\"\n",
    "data = (sdf_a,sdf_b)\n",
    "categories = sites_df.type_of_vitiligo.unique()"
   ]
  },
  {
   "cell_type": "code",
   "execution_count": 52,
   "metadata": {
    "collapsed": false
   },
   "outputs": [
    {
     "name": "stdout",
     "output_type": "stream",
     "text": [
      "chi-square:4.286,p_value:0.117\n"
     ]
    }
   ],
   "source": [
    "# Analyze data\n",
    "mydf,obs,chi_square_value,p_value = analyse_category(data,attribute,categories=categories)\n",
    "print \"chi-square:%.3f,p_value:%.3f\"%(chi_square_value,p_value)"
   ]
  },
  {
   "cell_type": "code",
   "execution_count": 53,
   "metadata": {
    "collapsed": false
   },
   "outputs": [
    {
     "data": {
      "text/html": [
       "<div>\n",
       "<table border=\"1\" class=\"dataframe\">\n",
       "  <thead>\n",
       "    <tr style=\"text-align: right;\">\n",
       "      <th></th>\n",
       "      <th>Segmental vitiligo</th>\n",
       "      <th>Non Segmental</th>\n",
       "      <th>Focal viitligo</th>\n",
       "    </tr>\n",
       "  </thead>\n",
       "  <tbody>\n",
       "    <tr>\n",
       "      <th>Group-A</th>\n",
       "      <td>10</td>\n",
       "      <td>86.666667</td>\n",
       "      <td>3.333333</td>\n",
       "    </tr>\n",
       "    <tr>\n",
       "      <th>Group-B</th>\n",
       "      <td>0</td>\n",
       "      <td>100.000000</td>\n",
       "      <td>0.000000</td>\n",
       "    </tr>\n",
       "  </tbody>\n",
       "</table>\n",
       "</div>"
      ],
      "text/plain": [
       "         Segmental vitiligo  Non Segmental  Focal viitligo\n",
       "Group-A                  10      86.666667        3.333333\n",
       "Group-B                   0     100.000000        0.000000"
      ]
     },
     "execution_count": 53,
     "metadata": {},
     "output_type": "execute_result"
    }
   ],
   "source": [
    "mydf.head()"
   ]
  },
  {
   "cell_type": "code",
   "execution_count": 54,
   "metadata": {
    "collapsed": false
   },
   "outputs": [
    {
     "name": "stdout",
     "output_type": "stream",
     "text": [
      "[[  3.  26.   1.]\n",
      " [  0.  30.   0.]]\n"
     ]
    }
   ],
   "source": [
    "print(obs)"
   ]
  },
  {
   "cell_type": "code",
   "execution_count": 55,
   "metadata": {
    "collapsed": false
   },
   "outputs": [
    {
     "data": {
      "image/png": "[encoded data removed]",
      "text/plain": [
       "<matplotlib.figure.Figure at 0x45bee90>"
      ]
     },
     "metadata": {},
     "output_type": "display_data"
    }
   ],
   "source": [
    "plot_graph(mydf,style=\"grayscale\",fname=\"type_of_vitiligo\")"
   ]
  },
  {
   "cell_type": "markdown",
   "metadata": {},
   "source": [
    "## Sites of Vitiligo"
   ]
  },
  {
   "cell_type": "code",
   "execution_count": 3,
   "metadata": {
    "collapsed": false
   },
   "outputs": [],
   "source": [
    "# Set input data\n",
    "attribute = \"norm_sites\"\n",
    "data = (sdf_a,sdf_b)\n",
    "categories = sites_df.norm_sites.unique()"
   ]
  },
  {
   "cell_type": "code",
   "execution_count": 4,
   "metadata": {
    "collapsed": false
   },
   "outputs": [
    {
     "name": "stdout",
     "output_type": "stream",
     "text": [
      "chi-square:15.201,p_value:0.055\n"
     ]
    }
   ],
   "source": [
    "# Analyze data\n",
    "mydf,obs,chi_square_value,p_value = analyse_category(data,attribute,categories=categories)\n",
    "print \"chi-square:%.3f,p_value:%.3f\"%(chi_square_value,p_value)"
   ]
  },
  {
   "cell_type": "code",
   "execution_count": 58,
   "metadata": {
    "collapsed": false
   },
   "outputs": [
    {
     "data": {
      "text/html": [
       "<div>\n",
       "<table border=\"1\" class=\"dataframe\">\n",
       "  <thead>\n",
       "    <tr style=\"text-align: right;\">\n",
       "      <th></th>\n",
       "      <th>Leg</th>\n",
       "      <th>Ankle</th>\n",
       "      <th>Hand</th>\n",
       "      <th>Wrist</th>\n",
       "      <th>Foot</th>\n",
       "      <th>Abdomen</th>\n",
       "      <th>Face</th>\n",
       "      <th>Knee</th>\n",
       "      <th>Forearm</th>\n",
       "    </tr>\n",
       "  </thead>\n",
       "  <tbody>\n",
       "    <tr>\n",
       "      <th>Group-A</th>\n",
       "      <td>30.000000</td>\n",
       "      <td>36.666667</td>\n",
       "      <td>3.333333</td>\n",
       "      <td>3.333333</td>\n",
       "      <td>10.000000</td>\n",
       "      <td>6.666667</td>\n",
       "      <td>10</td>\n",
       "      <td>0.000000</td>\n",
       "      <td>0.000000</td>\n",
       "    </tr>\n",
       "    <tr>\n",
       "      <th>Group-B</th>\n",
       "      <td>43.333333</td>\n",
       "      <td>26.666667</td>\n",
       "      <td>3.333333</td>\n",
       "      <td>0.000000</td>\n",
       "      <td>3.333333</td>\n",
       "      <td>0.000000</td>\n",
       "      <td>0</td>\n",
       "      <td>6.666667</td>\n",
       "      <td>16.666667</td>\n",
       "    </tr>\n",
       "  </tbody>\n",
       "</table>\n",
       "</div>"
      ],
      "text/plain": [
       "               Leg      Ankle      Hand     Wrist       Foot   Abdomen  Face  \\\n",
       "Group-A  30.000000  36.666667  3.333333  3.333333  10.000000  6.666667    10   \n",
       "Group-B  43.333333  26.666667  3.333333  0.000000   3.333333  0.000000     0   \n",
       "\n",
       "             Knee    Forearm  \n",
       "Group-A  0.000000   0.000000  \n",
       "Group-B  6.666667  16.666667  "
      ]
     },
     "execution_count": 58,
     "metadata": {},
     "output_type": "execute_result"
    }
   ],
   "source": [
    "mydf.head()"
   ]
  },
  {
   "cell_type": "code",
   "execution_count": 385,
   "metadata": {
    "collapsed": false
   },
   "outputs": [
    {
     "data": {
      "text/plain": [
       "array([[  9.,  11.,   1.,   1.,   3.,   2.,   3.,   0.,   0.],\n",
       "       [ 13.,   8.,   1.,   0.,   1.,   0.,   0.,   2.,   5.]])"
      ]
     },
     "execution_count": 385,
     "metadata": {},
     "output_type": "execute_result"
    }
   ],
   "source": [
    "print(obs)"
   ]
  },
  {
   "cell_type": "code",
   "execution_count": 5,
   "metadata": {
    "collapsed": false
   },
   "outputs": [
    {
     "data": {
      "image/png": "[encoded data removed]",
      "text/plain": [
       "<matplotlib.figure.Figure at 0x32dd7d0>"
      ]
     },
     "metadata": {},
     "output_type": "display_data"
    }
   ],
   "source": [
    "plot_graph(mydf,style=\"grayscale\",fname=\"sites_of_vitiligo\",stacked=True)"
   ]
  },
  {
   "cell_type": "markdown",
   "metadata": {},
   "source": [
    "## Onset distribution by sites"
   ]
  },
  {
   "cell_type": "code",
   "execution_count": 6,
   "metadata": {
    "collapsed": true
   },
   "outputs": [],
   "source": [
    "# Set input data\n",
    "attribute = \"onset\"\n",
    "data = (sdf_a,sdf_b)\n",
    "onset_ranges = [[1,14],[15,30],[31,90]]\n",
    "onset_unit = \"days\""
   ]
  },
  {
   "cell_type": "code",
   "execution_count": 7,
   "metadata": {
    "collapsed": false
   },
   "outputs": [
    {
     "name": "stdout",
     "output_type": "stream",
     "text": [
      "onset Statistics\n",
      "Number of elements:60\n",
      "ranges from 8 to 90 with mean=28.15 and SD=17.88\n",
      "onset Statistics\n",
      "Number of elements:30\n",
      "ranges from 8 to 30 with mean=13.97 and SD=4.79\n",
      "onset Statistics\n",
      "Number of elements:30\n",
      "ranges from 20 to 90 with mean=42.33 and SD=14.55\n"
     ]
    }
   ],
   "source": [
    "# Print stats\n",
    "print_attr_stats(sites_df,attribute)\n",
    "print_attr_stats(sdf_a,attribute)\n",
    "print_attr_stats(sdf_b,attribute)"
   ]
  },
  {
   "cell_type": "code",
   "execution_count": 8,
   "metadata": {
    "collapsed": false
   },
   "outputs": [
    {
     "name": "stdout",
     "output_type": "stream",
     "text": [
      "chi-square:31.200,p_value:0.000\n"
     ]
    }
   ],
   "source": [
    "# Analyze\n",
    "mydf,obs,chi_square_value,p_value = analyse_range(data,onset_ranges,attribute,onset_unit)\n",
    "print \"chi-square:%.3f,p_value:%.3f\"%(chi_square_value,p_value)"
   ]
  },
  {
   "cell_type": "code",
   "execution_count": 9,
   "metadata": {
    "collapsed": false
   },
   "outputs": [
    {
     "data": {
      "text/html": [
       "<div>\n",
       "<table border=\"1\" class=\"dataframe\">\n",
       "  <thead>\n",
       "    <tr style=\"text-align: right;\">\n",
       "      <th></th>\n",
       "      <th>1-14 days</th>\n",
       "      <th>15-30 days</th>\n",
       "      <th>31-90 days</th>\n",
       "    </tr>\n",
       "  </thead>\n",
       "  <tbody>\n",
       "    <tr>\n",
       "      <th>Group-A</th>\n",
       "      <td>40</td>\n",
       "      <td>60</td>\n",
       "      <td>0</td>\n",
       "    </tr>\n",
       "    <tr>\n",
       "      <th>Group-B</th>\n",
       "      <td>0</td>\n",
       "      <td>40</td>\n",
       "      <td>60</td>\n",
       "    </tr>\n",
       "  </tbody>\n",
       "</table>\n",
       "</div>"
      ],
      "text/plain": [
       "         1-14 days  15-30 days  31-90 days\n",
       "Group-A         40          60           0\n",
       "Group-B          0          40          60"
      ]
     },
     "execution_count": 9,
     "metadata": {},
     "output_type": "execute_result"
    }
   ],
   "source": [
    "mydf.head()"
   ]
  },
  {
   "cell_type": "code",
   "execution_count": 10,
   "metadata": {
    "collapsed": false
   },
   "outputs": [
    {
     "name": "stdout",
     "output_type": "stream",
     "text": [
      "[[ 12.  18.   0.]\n",
      " [  0.  12.  18.]]\n"
     ]
    }
   ],
   "source": [
    "print(obs)"
   ]
  },
  {
   "cell_type": "code",
   "execution_count": 11,
   "metadata": {
    "collapsed": false
   },
   "outputs": [
    {
     "data": {
      "image/png": "[encoded data removed]",
      "text/plain": [
       "<matplotlib.figure.Figure at 0x15320d0>"
      ]
     },
     "metadata": {},
     "output_type": "display_data"
    }
   ],
   "source": [
    "plot_graph(mydf,style=\"grayscale\",fname=\"onset_vitiligo\")"
   ]
  },
  {
   "cell_type": "markdown",
   "metadata": {},
   "source": [
    "## Type of Repigmentation"
   ]
  },
  {
   "cell_type": "code",
   "execution_count": 14,
   "metadata": {
    "collapsed": true
   },
   "outputs": [],
   "source": [
    "# Set input data\n",
    "attribute = \"type_of_repigmentation\"\n",
    "data = (sdf_a,sdf_b)\n",
    "categories = sites_df[attribute].unique()"
   ]
  },
  {
   "cell_type": "code",
   "execution_count": 15,
   "metadata": {
    "collapsed": false
   },
   "outputs": [
    {
     "name": "stdout",
     "output_type": "stream",
     "text": [
      "chi-square:21.818,p_value:0.000\n"
     ]
    }
   ],
   "source": [
    "# Analyze data\n",
    "mydf,obs,chi_square_value,p_value = analyse_category(data,attribute,categories=categories)\n",
    "print \"chi-square:%.3f,p_value:%.3f\"%(chi_square_value,p_value)"
   ]
  },
  {
   "cell_type": "code",
   "execution_count": 16,
   "metadata": {
    "collapsed": false
   },
   "outputs": [
    {
     "data": {
      "text/html": [
       "<div>\n",
       "<table border=\"1\" class=\"dataframe\">\n",
       "  <thead>\n",
       "    <tr style=\"text-align: right;\">\n",
       "      <th></th>\n",
       "      <th>Perifollicular</th>\n",
       "      <th>Diffuse</th>\n",
       "      <th>Marginal</th>\n",
       "    </tr>\n",
       "  </thead>\n",
       "  <tbody>\n",
       "    <tr>\n",
       "      <th>Group-A</th>\n",
       "      <td>33.333333</td>\n",
       "      <td>66.666667</td>\n",
       "      <td>0</td>\n",
       "    </tr>\n",
       "    <tr>\n",
       "      <th>Group-B</th>\n",
       "      <td>6.666667</td>\n",
       "      <td>43.333333</td>\n",
       "      <td>50</td>\n",
       "    </tr>\n",
       "  </tbody>\n",
       "</table>\n",
       "</div>"
      ],
      "text/plain": [
       "         Perifollicular    Diffuse  Marginal\n",
       "Group-A       33.333333  66.666667         0\n",
       "Group-B        6.666667  43.333333        50"
      ]
     },
     "execution_count": 16,
     "metadata": {},
     "output_type": "execute_result"
    }
   ],
   "source": [
    "mydf.head()"
   ]
  },
  {
   "cell_type": "code",
   "execution_count": 17,
   "metadata": {
    "collapsed": false
   },
   "outputs": [
    {
     "name": "stdout",
     "output_type": "stream",
     "text": [
      "[[ 10.  20.   0.]\n",
      " [  2.  13.  15.]]\n"
     ]
    }
   ],
   "source": [
    "print(obs)"
   ]
  },
  {
   "cell_type": "code",
   "execution_count": 18,
   "metadata": {
    "collapsed": false
   },
   "outputs": [
    {
     "data": {
      "image/png": "[encoded data removed]",
      "text/plain": [
       "<matplotlib.figure.Figure at 0x3bfb8d0>"
      ]
     },
     "metadata": {},
     "output_type": "display_data"
    }
   ],
   "source": [
    "plot_graph(mydf,style=\"grayscale\",fname=\"type_of_repigmentation\")"
   ]
  },
  {
   "cell_type": "markdown",
   "metadata": {},
   "source": [
    "## Degree of Repigmentation ( after 1 month)"
   ]
  },
  {
   "cell_type": "code",
   "execution_count": 32,
   "metadata": {
    "collapsed": true
   },
   "outputs": [],
   "source": [
    "# Set input data\n",
    "attribute = \"DOR_01\"\n",
    "dor_ranges = [[0,25],[26,50],[51,75],[76,100]]\n",
    "dor_unit = \"days\"\n",
    "data = (sdf_a,sdf_b)"
   ]
  },
  {
   "cell_type": "code",
   "execution_count": 33,
   "metadata": {
    "collapsed": false
   },
   "outputs": [
    {
     "name": "stdout",
     "output_type": "stream",
     "text": [
      "DOR_01 Statistics\n",
      "Number of elements:60\n",
      "ranges from 0 to 100 with mean=58.08 and SD=30.99\n",
      "DOR_01 Statistics\n",
      "Number of elements:30\n",
      "ranges from 50 to 100 with mean=74.67 and SD=16.13\n",
      "DOR_01 Statistics\n",
      "Number of elements:30\n",
      "ranges from 0 to 100 with mean=41.50 and SD=33.53\n"
     ]
    }
   ],
   "source": [
    "# Print tsts\n",
    "print_attr_stats(sites_df,attribute)\n",
    "print_attr_stats(sdf_a,attribute)\n",
    "print_attr_stats(sdf_b,attribute)"
   ]
  },
  {
   "cell_type": "code",
   "execution_count": 35,
   "metadata": {
    "collapsed": false
   },
   "outputs": [
    {
     "name": "stdout",
     "output_type": "stream",
     "text": [
      "chi-square:24.772,p_value:0.000\n"
     ]
    }
   ],
   "source": [
    "# Analyze\n",
    "mydf,obs,chi_square_value,p_value = analyse_range(data,dor_ranges,attribute,dor_unit)\n",
    "print \"chi-square:%.3f,p_value:%.3f\"%(chi_square_value,p_value)"
   ]
  },
  {
   "cell_type": "code",
   "execution_count": 36,
   "metadata": {
    "collapsed": false
   },
   "outputs": [
    {
     "data": {
      "text/html": [
       "<div>\n",
       "<table border=\"1\" class=\"dataframe\">\n",
       "  <thead>\n",
       "    <tr style=\"text-align: right;\">\n",
       "      <th></th>\n",
       "      <th>0-25 days</th>\n",
       "      <th>26-50 days</th>\n",
       "      <th>51-75 days</th>\n",
       "      <th>&gt;76 days</th>\n",
       "    </tr>\n",
       "  </thead>\n",
       "  <tbody>\n",
       "    <tr>\n",
       "      <th>Group-A</th>\n",
       "      <td>0.000000</td>\n",
       "      <td>23.333333</td>\n",
       "      <td>23.333333</td>\n",
       "      <td>53.333333</td>\n",
       "    </tr>\n",
       "    <tr>\n",
       "      <th>Group-B</th>\n",
       "      <td>46.666667</td>\n",
       "      <td>30.000000</td>\n",
       "      <td>0.000000</td>\n",
       "      <td>23.333333</td>\n",
       "    </tr>\n",
       "  </tbody>\n",
       "</table>\n",
       "</div>"
      ],
      "text/plain": [
       "         0-25 days  26-50 days  51-75 days   >76 days\n",
       "Group-A   0.000000   23.333333   23.333333  53.333333\n",
       "Group-B  46.666667   30.000000    0.000000  23.333333"
      ]
     },
     "execution_count": 36,
     "metadata": {},
     "output_type": "execute_result"
    }
   ],
   "source": [
    "mydf.head()"
   ]
  },
  {
   "cell_type": "code",
   "execution_count": 37,
   "metadata": {
    "collapsed": false
   },
   "outputs": [
    {
     "name": "stdout",
     "output_type": "stream",
     "text": [
      "[[  0.   7.   7.  16.]\n",
      " [ 14.   9.   0.   7.]]\n"
     ]
    }
   ],
   "source": [
    "print(obs)"
   ]
  },
  {
   "cell_type": "code",
   "execution_count": 38,
   "metadata": {
    "collapsed": false
   },
   "outputs": [
    {
     "data": {
      "image/png": "[encoded data removed]",
      "text/plain": [
       "<matplotlib.figure.Figure at 0x434aed0>"
      ]
     },
     "metadata": {},
     "output_type": "display_data"
    }
   ],
   "source": [
    "plot_graph(mydf,style=\"grayscale\",fname=\"dor_01\")"
   ]
  },
  {
   "cell_type": "code",
   "execution_count": null,
   "metadata": {
    "collapsed": true
   },
   "outputs": [],
   "source": []
  }
 ],
 "metadata": {
  "kernelspec": {
   "display_name": "Python 2",
   "language": "python",
   "name": "python2"
  },
  "language_info": {
   "codemirror_mode": {
    "name": "ipython",
    "version": 2
   },
   "file_extension": ".py",
   "mimetype": "text/x-python",
   "name": "python",
   "nbconvert_exporter": "python",
   "pygments_lexer": "ipython2",
   "version": "2.7.3"
  }
 },
 "nbformat": 4,
 "nbformat_minor": 0
}
