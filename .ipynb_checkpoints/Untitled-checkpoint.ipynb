{
 "cells": [
  {
   "cell_type": "code",
   "execution_count": 21,
   "metadata": {
    "collapsed": true
   },
   "outputs": [],
   "source": [
    "import numpy as np\n",
    "import scipy as sp\n",
    "import pandas as pd\n",
    "from pandas import DataFrame\n",
    "import matplotlib.pyplot as plt\n",
    "import matplotlib\n",
    "%matplotlib inline\n",
    "from scipy.stats import chi2_contingency\n",
    "from thesis import get_range_percentages,get_cat_percentages\n",
    "from thesis import print_attr_stats,plot_graph,analyse_range,analyse_category"
   ]
  },
  {
   "cell_type": "code",
   "execution_count": 22,
   "metadata": {
    "collapsed": true
   },
   "outputs": [],
   "source": [
    "part_map = {}\n",
    "part_map['Leg'] = 'Limb'\n",
    "part_map['Ankle'] = 'Joint'\n",
    "part_map['Hand'] = 'Acral'\n",
    "part_map['Wrist'] = 'Joint'\n",
    "part_map['Foot'] = 'Acral'\n",
    "part_map['Abdomen'] = 'Trunk'\n",
    "part_map['Face'] = 'Head and Neck'\n",
    "part_map['Knee'] = 'Joint'\n",
    "part_map['Forearm'] = 'Limb'"
   ]
  },
  {
   "cell_type": "code",
   "execution_count": 23,
   "metadata": {
    "collapsed": true
   },
   "outputs": [],
   "source": [
    "# Read the data from csv files\n",
    "patients_df = pd.read_csv(\"thesis_patient.csv\")\n",
    "pdf_a = patients_df[patients_df.group==\"A\"]\n",
    "pdf_b = patients_df[patients_df.group==\"B\"]\n",
    "sites_df = pd.read_csv(\"thesis_sites.csv\")\n",
    "sites_df['broad_site'] = sites_df['norm_sites'].map(lambda x : part_map[x])\n",
    "sdf_a = sites_df[sites_df.group==\"A\"]\n",
    "sdf_b = sites_df[sites_df.group==\"B\"]"
   ]
  },
  {
   "cell_type": "code",
   "execution_count": 24,
   "metadata": {
    "collapsed": false
   },
   "outputs": [
    {
     "data": {
      "text/plain": [
       "Index([u'patient_id', u'group', u'patient_name', u'age', u'gender', u'type_of_vitiligo', u'duration_of_vitiligo_yrs', u'sites', u'norm_sites', u'stability_yrs', u'donar_area', u'donar_size_cm2', u'site_id', u'area_transplanted', u'transpanted_area_cm2', u'type_of_repigmentation', u'onset', u'DOR_01', u'DOR_03', u'DOR_06', u'total_transplanted_area', u'no_of_reciepient_sites', u'Subj_01', u'Subj_03', u'Subj_06', u'Complications_Donor area_01', u'Complications_Donor_03', u'Complications_Donor_06', u'PGH_01', u'PGH_03', u'PGH_06', u'CM_01', u'CM_03', u'CM_06', u'broad_site'], dtype='object')"
      ]
     },
     "execution_count": 24,
     "metadata": {},
     "output_type": "execute_result"
    }
   ],
   "source": [
    "sdf_a.columns"
   ]
  },
  {
   "cell_type": "code",
   "execution_count": 28,
   "metadata": {
    "collapsed": false
   },
   "outputs": [
    {
     "data": {
      "text/html": [
       "<pre>\n",
       "&lt;class 'pandas.core.frame.DataFrame'&gt;\n",
       "Index: 5 entries, age to DOR_06\n",
       "Data columns (total 5 columns):\n",
       "age                         5  non-null values\n",
       "duration_of_vitiligo_yrs    5  non-null values\n",
       "stability_yrs               5  non-null values\n",
       "transpanted_area_cm2        5  non-null values\n",
       "DOR_06                      5  non-null values\n",
       "dtypes: float64(5)\n",
       "</pre>"
      ],
      "text/plain": [
       "                               age  duration_of_vitiligo_yrs  stability_yrs  \\\n",
       "age                       1.000000                  0.911090       0.964175   \n",
       "duration_of_vitiligo_yrs  0.911090                  1.000000       0.799243   \n",
       "stability_yrs             0.964175                  0.799243       1.000000   \n",
       "transpanted_area_cm2      0.252273                  0.299207       0.172652   \n",
       "DOR_06                   -0.635233                 -0.483649      -0.683443   \n",
       "\n",
       "                          transpanted_area_cm2    DOR_06  \n",
       "age                                   0.252273 -0.635233  \n",
       "duration_of_vitiligo_yrs              0.299207 -0.483649  \n",
       "stability_yrs                         0.172652 -0.683443  \n",
       "transpanted_area_cm2                  1.000000 -0.344062  \n",
       "DOR_06                               -0.344062  1.000000  "
      ]
     },
     "execution_count": 28,
     "metadata": {},
     "output_type": "execute_result"
    }
   ],
   "source": [
    "index = ['age','duration_of_vitiligo_yrs','stability_yrs','transpanted_area_cm2','DOR_06']\n",
    "rdata = sp.stats.spearmanr(sdf_a[['age','duration_of_vitiligo_yrs','stability_yrs','transpanted_area_cm2','DOR_06']])[0]\n",
    "df = pd.DataFrame(rdata,columns=index,index=index)\n",
    "df.head()"
   ]
  },
  {
   "cell_type": "code",
   "execution_count": 26,
   "metadata": {
    "collapsed": false
   },
   "outputs": [
    {
     "data": {
      "text/html": [
       "<pre>\n",
       "&lt;class 'pandas.core.frame.DataFrame'&gt;\n",
       "Int64Index: 5 entries, 0 to 4\n",
       "Data columns (total 13 columns):\n",
       "patient_id                  5  non-null values\n",
       "group                       5  non-null values\n",
       "patient_name                5  non-null values\n",
       "age                         5  non-null values\n",
       "gender                      5  non-null values\n",
       "type_of_vitiligo            5  non-null values\n",
       "duration_of_vitiligo_yrs    5  non-null values\n",
       "sites                       5  non-null values\n",
       "stability_yrs               5  non-null values\n",
       "donar_area                  5  non-null values\n",
       "donar_size_cm2              5  non-null values\n",
       "transpanted_area_cm2        5  non-null values\n",
       "no_of_recipient_sites       5  non-null values\n",
       "dtypes: float64(2), int64(4), object(7)\n",
       "</pre>"
      ],
      "text/plain": [
       "   patient_id group patient_name  age gender    type_of_vitiligo  \\\n",
       "0           1     A      Srishti   17      F  Segmental vitiligo   \n",
       "1           2     A         Aman   12      M   vitiligo vulgaris   \n",
       "2           3     A      Jahnavi   18      F   vitiligo vulgaris   \n",
       "3           4     A      Surabhi   21      F   vitiligo vulgaris   \n",
       "4           5     A      Surabhi   22      F   vitiligo vulgaris   \n",
       "\n",
       "   duration_of_vitiligo_yrs     sites  stability_yrs donar_area  \\\n",
       "0                        14    Rt leg            1.0   Lt thigh   \n",
       "1                         3  Rt ankle            1.5  Rt thigh    \n",
       "2                        10   Lt hand            2.0  Rt thigh    \n",
       "3                        14   Rt foot            3.0  Rt thigh    \n",
       "4                        15    Lt leg            4.0   lt thigh   \n",
       "\n",
       "  donar_size_cm2  transpanted_area_cm2  no_of_recipient_sites  \n",
       "0              8             11.500000                      3  \n",
       "1              4              7.346429                      4  \n",
       "2              4              9.000000                      2  \n",
       "3             20             63.250000                     13  \n",
       "4             15             37.928571                      7  "
      ]
     },
     "execution_count": 26,
     "metadata": {},
     "output_type": "execute_result"
    }
   ],
   "source": [
    "pdf_a.head()"
   ]
  },
  {
   "cell_type": "code",
   "execution_count": null,
   "metadata": {
    "collapsed": true
   },
   "outputs": [],
   "source": []
  }
 ],
 "metadata": {
  "kernelspec": {
   "display_name": "Python 2",
   "language": "python",
   "name": "python2"
  },
  "language_info": {
   "codemirror_mode": {
    "name": "ipython",
    "version": 2
   },
   "file_extension": ".py",
   "mimetype": "text/x-python",
   "name": "python",
   "nbconvert_exporter": "python",
   "pygments_lexer": "ipython2",
   "version": "2.7.3"
  }
 },
 "nbformat": 4,
 "nbformat_minor": 0
}
