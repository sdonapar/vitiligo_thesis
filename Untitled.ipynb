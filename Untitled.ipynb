{
 "cells": [
  {
   "cell_type": "code",
   "execution_count": 19,
   "metadata": {
    "collapsed": true
   },
   "outputs": [],
   "source": [
    "import numpy as np\n",
    "import scipy as sp\n",
    "import pandas as pd\n",
    "from pandas import DataFrame\n",
    "import matplotlib.pyplot as plt\n",
    "import matplotlib\n",
    "%matplotlib inline\n",
    "from scipy.stats import chi2_contingency\n",
    "from thesis import get_range_percentages,get_cat_percentages\n",
    "from thesis import print_attr_stats,plot_graph,analyse_range,analyse_category\n",
    "from sklearn import linear_model"
   ]
  },
  {
   "cell_type": "code",
   "execution_count": 2,
   "metadata": {
    "collapsed": true
   },
   "outputs": [],
   "source": [
    "part_map = {}\n",
    "part_map['Leg'] = 'Limb'\n",
    "part_map['Ankle'] = 'Joint'\n",
    "part_map['Hand'] = 'Acral'\n",
    "part_map['Wrist'] = 'Joint'\n",
    "part_map['Foot'] = 'Acral'\n",
    "part_map['Abdomen'] = 'Trunk'\n",
    "part_map['Face'] = 'Head and Neck'\n",
    "part_map['Knee'] = 'Joint'\n",
    "part_map['Forearm'] = 'Limb'"
   ]
  },
  {
   "cell_type": "code",
   "execution_count": 3,
   "metadata": {
    "collapsed": true
   },
   "outputs": [],
   "source": [
    "# Read the data from csv files\n",
    "patients_df = pd.read_csv(\"thesis_patient.csv\")\n",
    "pdf_a = patients_df[patients_df.group==\"A\"]\n",
    "pdf_b = patients_df[patients_df.group==\"B\"]\n",
    "sites_df = pd.read_csv(\"thesis_sites.csv\")\n",
    "sites_df['broad_site'] = sites_df['norm_sites'].map(lambda x : part_map[x])\n",
    "sdf_a = sites_df[sites_df.group==\"A\"]\n",
    "sdf_b = sites_df[sites_df.group==\"B\"]"
   ]
  },
  {
   "cell_type": "code",
   "execution_count": 4,
   "metadata": {
    "collapsed": false
   },
   "outputs": [
    {
     "data": {
      "text/plain": [
       "Index([u'patient_id', u'group', u'patient_name', u'age', u'gender',\n",
       "       u'type_of_vitiligo', u'duration_of_vitiligo_yrs', u'sites',\n",
       "       u'norm_sites', u'stability_yrs', u'donar_area', u'donar_size_cm2',\n",
       "       u'site_id', u'area_transplanted', u'transpanted_area_cm2',\n",
       "       u'type_of_repigmentation', u'onset', u'DOR_01', u'DOR_03', u'DOR_06',\n",
       "       u'total_transplanted_area', u'no_of_reciepient_sites', u'Subj_01',\n",
       "       u'Subj_03', u'Subj_06', u'Complications_Donor area_01',\n",
       "       u'Complications_Donor_03', u'Complications_Donor_06', u'PGH_01',\n",
       "       u'PGH_03', u'PGH_06', u'CM_01', u'CM_03', u'CM_06', u'broad_site'],\n",
       "      dtype='object')"
      ]
     },
     "execution_count": 4,
     "metadata": {},
     "output_type": "execute_result"
    }
   ],
   "source": [
    "sdf_a.columns"
   ]
  },
  {
   "cell_type": "code",
   "execution_count": 18,
   "metadata": {
    "collapsed": true
   },
   "outputs": [
    {
     "data": {
      "text/html": [
       "<div>\n",
       "<table border=\"1\" class=\"dataframe\">\n",
       "  <thead>\n",
       "    <tr style=\"text-align: right;\">\n",
       "      <th></th>\n",
       "      <th>age</th>\n",
       "      <th>duration_of_vitiligo_yrs</th>\n",
       "      <th>stability_yrs</th>\n",
       "      <th>transpanted_area_cm2</th>\n",
       "      <th>DOR_06</th>\n",
       "    </tr>\n",
       "  </thead>\n",
       "  <tbody>\n",
       "    <tr>\n",
       "      <th>age</th>\n",
       "      <td>1.000000</td>\n",
       "      <td>0.997048</td>\n",
       "      <td>0.848267</td>\n",
       "      <td>0.213047</td>\n",
       "      <td>-0.530512</td>\n",
       "    </tr>\n",
       "    <tr>\n",
       "      <th>duration_of_vitiligo_yrs</th>\n",
       "      <td>0.997048</td>\n",
       "      <td>1.000000</td>\n",
       "      <td>0.848267</td>\n",
       "      <td>0.223979</td>\n",
       "      <td>-0.530512</td>\n",
       "    </tr>\n",
       "    <tr>\n",
       "      <th>stability_yrs</th>\n",
       "      <td>0.848267</td>\n",
       "      <td>0.848267</td>\n",
       "      <td>1.000000</td>\n",
       "      <td>-0.111780</td>\n",
       "      <td>-0.254712</td>\n",
       "    </tr>\n",
       "    <tr>\n",
       "      <th>transpanted_area_cm2</th>\n",
       "      <td>0.213047</td>\n",
       "      <td>0.223979</td>\n",
       "      <td>-0.111780</td>\n",
       "      <td>1.000000</td>\n",
       "      <td>-0.433553</td>\n",
       "    </tr>\n",
       "    <tr>\n",
       "      <th>DOR_06</th>\n",
       "      <td>-0.530512</td>\n",
       "      <td>-0.530512</td>\n",
       "      <td>-0.254712</td>\n",
       "      <td>-0.433553</td>\n",
       "      <td>1.000000</td>\n",
       "    </tr>\n",
       "  </tbody>\n",
       "</table>\n",
       "</div>"
      ],
      "text/plain": [
       "                               age  duration_of_vitiligo_yrs  stability_yrs  \\\n",
       "age                       1.000000                  0.997048       0.848267   \n",
       "duration_of_vitiligo_yrs  0.997048                  1.000000       0.848267   \n",
       "stability_yrs             0.848267                  0.848267       1.000000   \n",
       "transpanted_area_cm2      0.213047                  0.223979      -0.111780   \n",
       "DOR_06                   -0.530512                 -0.530512      -0.254712   \n",
       "\n",
       "                          transpanted_area_cm2    DOR_06  \n",
       "age                                   0.213047 -0.530512  \n",
       "duration_of_vitiligo_yrs              0.223979 -0.530512  \n",
       "stability_yrs                        -0.111780 -0.254712  \n",
       "transpanted_area_cm2                  1.000000 -0.433553  \n",
       "DOR_06                               -0.433553  1.000000  "
      ]
     },
     "execution_count": 18,
     "metadata": {},
     "output_type": "execute_result"
    }
   ],
   "source": [
    "index = ['age','duration_of_vitiligo_yrs','stability_yrs','transpanted_area_cm2','DOR_06']\n",
    "rdata = sp.stats.spearmanr(sdf_b[['age','duration_of_vitiligo_yrs','stability_yrs','transpanted_area_cm2','DOR_06']])[0]\n",
    "df = pd.DataFrame(rdata,columns=index,index=index)\n",
    "df.head()"
   ]
  },
  {
   "cell_type": "code",
   "execution_count": 45,
   "metadata": {
    "collapsed": false
   },
   "outputs": [],
   "source": [
    "df = sdf_a[['age','duration_of_vitiligo_yrs','stability_yrs','transpanted_area_cm2']]\n",
    "xx = linear_model.LinearRegression()"
   ]
  },
  {
   "cell_type": "code",
   "execution_count": 46,
   "metadata": {
    "collapsed": false
   },
   "outputs": [
    {
     "data": {
      "text/plain": [
       "array([-3.59183708,  3.31748897,  3.09607609, -0.87694323])"
      ]
     },
     "execution_count": 46,
     "metadata": {},
     "output_type": "execute_result"
    }
   ],
   "source": [
    "x = np.array(sdf_b.age)\n",
    "y = np.array(sdf_b.DOR_06)\n",
    "xx.fit(df,y)\n",
    "xx.coef_"
   ]
  },
  {
   "cell_type": "code",
   "execution_count": 47,
   "metadata": {
    "collapsed": true
   },
   "outputs": [
    {
     "data": {
      "text/html": [
       "<div>\n",
       "<table border=\"1\" class=\"dataframe\">\n",
       "  <thead>\n",
       "    <tr style=\"text-align: right;\">\n",
       "      <th></th>\n",
       "      <th>age</th>\n",
       "      <th>duration_of_vitiligo_yrs</th>\n",
       "      <th>stability_yrs</th>\n",
       "      <th>transpanted_area_cm2</th>\n",
       "    </tr>\n",
       "  </thead>\n",
       "  <tbody>\n",
       "    <tr>\n",
       "      <th>0</th>\n",
       "      <td>17</td>\n",
       "      <td>14</td>\n",
       "      <td>1.0</td>\n",
       "      <td>3.00</td>\n",
       "    </tr>\n",
       "    <tr>\n",
       "      <th>1</th>\n",
       "      <td>17</td>\n",
       "      <td>14</td>\n",
       "      <td>1.0</td>\n",
       "      <td>2.25</td>\n",
       "    </tr>\n",
       "    <tr>\n",
       "      <th>2</th>\n",
       "      <td>17</td>\n",
       "      <td>14</td>\n",
       "      <td>1.0</td>\n",
       "      <td>6.25</td>\n",
       "    </tr>\n",
       "    <tr>\n",
       "      <th>3</th>\n",
       "      <td>12</td>\n",
       "      <td>3</td>\n",
       "      <td>1.5</td>\n",
       "      <td>6.00</td>\n",
       "    </tr>\n",
       "    <tr>\n",
       "      <th>4</th>\n",
       "      <td>12</td>\n",
       "      <td>3</td>\n",
       "      <td>1.5</td>\n",
       "      <td>0.65</td>\n",
       "    </tr>\n",
       "  </tbody>\n",
       "</table>\n",
       "</div>"
      ],
      "text/plain": [
       "   age  duration_of_vitiligo_yrs  stability_yrs  transpanted_area_cm2\n",
       "0   17                        14            1.0                  3.00\n",
       "1   17                        14            1.0                  2.25\n",
       "2   17                        14            1.0                  6.25\n",
       "3   12                         3            1.5                  6.00\n",
       "4   12                         3            1.5                  0.65"
      ]
     },
     "execution_count": 47,
     "metadata": {},
     "output_type": "execute_result"
    }
   ],
   "source": [
    "test = sdf_a[['age','duration_of_vitiligo_yrs','stability_yrs','transpanted_area_cm2']]\n",
    "test.head()"
   ]
  },
  {
   "cell_type": "code",
   "execution_count": 48,
   "metadata": {
    "collapsed": true
   },
   "outputs": [
    {
     "data": {
      "text/html": [
       "<div>\n",
       "<table border=\"1\" class=\"dataframe\">\n",
       "  <thead>\n",
       "    <tr style=\"text-align: right;\">\n",
       "      <th></th>\n",
       "      <th>patient_id</th>\n",
       "      <th>group</th>\n",
       "      <th>patient_name</th>\n",
       "      <th>age</th>\n",
       "      <th>gender</th>\n",
       "      <th>type_of_vitiligo</th>\n",
       "      <th>duration_of_vitiligo_yrs</th>\n",
       "      <th>sites</th>\n",
       "      <th>stability_yrs</th>\n",
       "      <th>donar_area</th>\n",
       "      <th>donar_size_cm2</th>\n",
       "      <th>transpanted_area_cm2</th>\n",
       "      <th>no_of_recipient_sites</th>\n",
       "    </tr>\n",
       "  </thead>\n",
       "  <tbody>\n",
       "    <tr>\n",
       "      <th>0</th>\n",
       "      <td>1</td>\n",
       "      <td>A</td>\n",
       "      <td>Srishti</td>\n",
       "      <td>17</td>\n",
       "      <td>F</td>\n",
       "      <td>Segmental vitiligo</td>\n",
       "      <td>14</td>\n",
       "      <td>Rt leg</td>\n",
       "      <td>1.0</td>\n",
       "      <td>Lt thigh</td>\n",
       "      <td>8</td>\n",
       "      <td>11.500000</td>\n",
       "      <td>3</td>\n",
       "    </tr>\n",
       "    <tr>\n",
       "      <th>1</th>\n",
       "      <td>2</td>\n",
       "      <td>A</td>\n",
       "      <td>Aman</td>\n",
       "      <td>12</td>\n",
       "      <td>M</td>\n",
       "      <td>vitiligo vulgaris</td>\n",
       "      <td>3</td>\n",
       "      <td>Rt ankle</td>\n",
       "      <td>1.5</td>\n",
       "      <td>Rt thigh</td>\n",
       "      <td>4</td>\n",
       "      <td>7.346429</td>\n",
       "      <td>4</td>\n",
       "    </tr>\n",
       "    <tr>\n",
       "      <th>2</th>\n",
       "      <td>3</td>\n",
       "      <td>A</td>\n",
       "      <td>Jahnavi</td>\n",
       "      <td>18</td>\n",
       "      <td>F</td>\n",
       "      <td>vitiligo vulgaris</td>\n",
       "      <td>10</td>\n",
       "      <td>Lt hand</td>\n",
       "      <td>2.0</td>\n",
       "      <td>Rt thigh</td>\n",
       "      <td>4</td>\n",
       "      <td>9.000000</td>\n",
       "      <td>2</td>\n",
       "    </tr>\n",
       "    <tr>\n",
       "      <th>3</th>\n",
       "      <td>4</td>\n",
       "      <td>A</td>\n",
       "      <td>Surabhi</td>\n",
       "      <td>21</td>\n",
       "      <td>F</td>\n",
       "      <td>vitiligo vulgaris</td>\n",
       "      <td>14</td>\n",
       "      <td>Rt foot</td>\n",
       "      <td>3.0</td>\n",
       "      <td>Rt thigh</td>\n",
       "      <td>20</td>\n",
       "      <td>63.250000</td>\n",
       "      <td>13</td>\n",
       "    </tr>\n",
       "    <tr>\n",
       "      <th>4</th>\n",
       "      <td>5</td>\n",
       "      <td>A</td>\n",
       "      <td>Surabhi</td>\n",
       "      <td>22</td>\n",
       "      <td>F</td>\n",
       "      <td>vitiligo vulgaris</td>\n",
       "      <td>15</td>\n",
       "      <td>Lt leg</td>\n",
       "      <td>4.0</td>\n",
       "      <td>lt thigh</td>\n",
       "      <td>15</td>\n",
       "      <td>37.928571</td>\n",
       "      <td>7</td>\n",
       "    </tr>\n",
       "  </tbody>\n",
       "</table>\n",
       "</div>"
      ],
      "text/plain": [
       "   patient_id group patient_name  age gender    type_of_vitiligo  \\\n",
       "0           1     A      Srishti   17      F  Segmental vitiligo   \n",
       "1           2     A         Aman   12      M   vitiligo vulgaris   \n",
       "2           3     A      Jahnavi   18      F   vitiligo vulgaris   \n",
       "3           4     A      Surabhi   21      F   vitiligo vulgaris   \n",
       "4           5     A      Surabhi   22      F   vitiligo vulgaris   \n",
       "\n",
       "   duration_of_vitiligo_yrs     sites  stability_yrs donar_area  \\\n",
       "0                        14    Rt leg            1.0   Lt thigh   \n",
       "1                         3  Rt ankle            1.5  Rt thigh    \n",
       "2                        10   Lt hand            2.0  Rt thigh    \n",
       "3                        14   Rt foot            3.0  Rt thigh    \n",
       "4                        15    Lt leg            4.0   lt thigh   \n",
       "\n",
       "  donar_size_cm2  transpanted_area_cm2  no_of_recipient_sites  \n",
       "0              8             11.500000                      3  \n",
       "1              4              7.346429                      4  \n",
       "2              4              9.000000                      2  \n",
       "3             20             63.250000                     13  \n",
       "4             15             37.928571                      7  "
      ]
     },
     "execution_count": 48,
     "metadata": {},
     "output_type": "execute_result"
    }
   ],
   "source": [
    "pdf_a.head()"
   ]
  },
  {
   "cell_type": "code",
   "execution_count": 52,
   "metadata": {
    "collapsed": true
   },
   "outputs": [
    {
     "data": {
      "text/plain": [
       "array([ 68.28861514])"
      ]
     },
     "execution_count": 52,
     "metadata": {},
     "output_type": "execute_result"
    }
   ],
   "source": [
    "xx.predict([17,14,1,3])"
   ]
  },
  {
   "cell_type": "code",
   "execution_count": 55,
   "metadata": {
    "collapsed": false
   },
   "outputs": [
    {
     "data": {
      "text/plain": [
       "<matplotlib.collections.PathCollection at 0x673e9d0>"
      ]
     },
     "execution_count": 55,
     "metadata": {},
     "output_type": "execute_result"
    },
    {
     "data": {
      "image/png": "[encoded data removed]",
      "text/plain": [
       "<matplotlib.figure.Figure at 0x62d9e90>"
      ]
     },
     "metadata": {},
     "output_type": "display_data"
    }
   ],
   "source": [
    "plt.scatter(sdf_a['duration_of_vitiligo_yrs'],sdf_a['DOR_06'])"
   ]
  },
  {
   "cell_type": "code",
   "execution_count": 57,
   "metadata": {
    "collapsed": false
   },
   "outputs": [
    {
     "data": {
      "text/plain": [
       "<matplotlib.collections.PathCollection at 0x6950dd0>"
      ]
     },
     "execution_count": 57,
     "metadata": {},
     "output_type": "execute_result"
    },
    {
     "data": {
      "image/png": "[encoded data removed]",
      "text/plain": [
       "<matplotlib.figure.Figure at 0x62f5890>"
      ]
     },
     "metadata": {},
     "output_type": "display_data"
    }
   ],
   "source": [
    "plt.scatter(sdf_a['DOR_01'],sdf_a['DOR_06'])"
   ]
  },
  {
   "cell_type": "code",
   "execution_count": null,
   "metadata": {
    "collapsed": true
   },
   "outputs": [],
   "source": []
  }
 ],
 "metadata": {
  "kernelspec": {
   "display_name": "Python 2",
   "language": "python",
   "name": "python2"
  },
  "language_info": {
   "codemirror_mode": {
    "name": "ipython",
    "version": 2
   },
   "file_extension": ".py",
   "mimetype": "text/x-python",
   "name": "python",
   "nbconvert_exporter": "python",
   "pygments_lexer": "ipython2",
   "version": "2.7.3"
  }
 },
 "nbformat": 4,
 "nbformat_minor": 0
}
