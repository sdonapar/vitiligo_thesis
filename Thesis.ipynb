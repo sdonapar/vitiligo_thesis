{
 "cells": [
  {
   "cell_type": "markdown",
   "metadata": {},
   "source": [
    "# Results"
   ]
  },
  {
   "cell_type": "code",
   "execution_count": 11,
   "metadata": {
    "collapsed": false
   },
   "outputs": [],
   "source": [
    "import numpy as np\n",
    "import scipy as sp\n",
    "import pandas as pd\n",
    "from pandas import DataFrame\n",
    "import matplotlib.pyplot as plt\n",
    "import matplotlib\n",
    "%matplotlib inline\n",
    "from scipy.stats import chi2_contingency\n",
    "from thesis import get_range_percentages,get_cat_percentages\n",
    "from thesis import print_attr_stats,plot_graph,analyse_range,analyse_category"
   ]
  },
  {
   "cell_type": "code",
   "execution_count": 12,
   "metadata": {
    "collapsed": false
   },
   "outputs": [],
   "source": [
    "part_map = {}\n",
    "part_map['Leg'] = 'Limb'\n",
    "part_map['Ankle'] = 'Joint'\n",
    "part_map['Hand'] = 'Acral'\n",
    "part_map['Wrist'] = 'Joint'\n",
    "part_map['Foot'] = 'Acral'\n",
    "part_map['Abdomen'] = 'Trunk'\n",
    "part_map['Face'] = 'Head and Neck'\n",
    "part_map['Knee'] = 'Joint'\n",
    "part_map['Forearm'] = 'Limb'"
   ]
  },
  {
   "cell_type": "code",
   "execution_count": 13,
   "metadata": {
    "collapsed": false
   },
   "outputs": [],
   "source": [
    "# Plotting defaults\n",
    "plotting_defaults = {}\n",
    "plotting_defaults[\"colormap\"] = matplotlib.cm.Accent\n",
    "plotting_defaults[\"stacked\"] = False\n",
    "plotting_defaults[\"grid\"] = True\n",
    "plotting_defaults[\"fontsize\"] = 15\n",
    "plotting_defaults[\"kind\"] = 'bar'\n",
    "plotting_defaults[\"figsize\"] = (6,4)\n",
    "plotting_defaults[\"rot\"] = 360\n",
    "#plotting_defaults[\"style\"] = \"grayscale\"\n",
    "plotting_defaults[\"ylim\"] = (0,105)\n",
    "plt.style.use(\"grayscale\")"
   ]
  },
  {
   "cell_type": "code",
   "execution_count": 14,
   "metadata": {
    "collapsed": false
   },
   "outputs": [],
   "source": [
    "# Read the data from csv files\n",
    "patients_df = pd.read_csv(\"thesis_patient.csv\")\n",
    "pdf_a = patients_df[patients_df.group==\"A\"]\n",
    "pdf_b = patients_df[patients_df.group==\"B\"]\n",
    "sites_df = pd.read_csv(\"thesis_sites.csv\")\n",
    "sites_df['broad_site'] = sites_df['norm_sites'].map(lambda x : part_map[x])\n",
    "sdf_a = sites_df[sites_df.group==\"A\"]\n",
    "sdf_b = sites_df[sites_df.group==\"B\"]"
   ]
  },
  {
   "cell_type": "markdown",
   "metadata": {},
   "source": [
    "A total of **11** patients were enrolled in the study, which included 30 vitiligo sites for split thickness skin grafting (STSG) (Group A) and 30 sites for autologous noncultured melanocyte transfer (AMT)(Group B). Though 30 sites each were subjected to surgery in both the groups,Therefore data of only 30 sites each of both the groups(total of 11 patients) were considered for the statistical analysis"
   ]
  },
  {
   "cell_type": "markdown",
   "metadata": {},
   "source": [
    "## Age Wise Distribution of patients"
   ]
  },
  {
   "cell_type": "code",
   "execution_count": 15,
   "metadata": {
    "collapsed": false
   },
   "outputs": [],
   "source": [
    "# Set the input data\n",
    "attribute = \"age\"\n",
    "age_ranges = [[12,25],[26,50]]\n",
    "age_unit = \"Years\"\n",
    "data = (pdf_a,pdf_b)"
   ]
  },
  {
   "cell_type": "code",
   "execution_count": 16,
   "metadata": {
    "collapsed": false
   },
   "outputs": [
    {
     "name": "stdout",
     "output_type": "stream",
     "text": [
      "age Statistics\n",
      "Number of elements:11\n",
      "ranges from 12 to 42 with mean=24.09 and SD=10.83\n",
      "age Statistics\n",
      "Number of elements:6\n",
      "ranges from 12 to 22 with mean=18.00 and SD=3.52\n",
      "age Statistics\n",
      "Number of elements:5\n",
      "ranges from 15 to 42 with mean=31.40 and SD=12.46\n"
     ]
    }
   ],
   "source": [
    "# Print stats\n",
    "print_attr_stats(patients_df,attribute)\n",
    "print_attr_stats(pdf_a,attribute)\n",
    "print_attr_stats(pdf_b,attribute)"
   ]
  },
  {
   "cell_type": "code",
   "execution_count": 17,
   "metadata": {
    "collapsed": false,
    "scrolled": true
   },
   "outputs": [
    {
     "name": "stdout",
     "output_type": "stream",
     "text": [
      "chi-square:4.950,p_value:0.026\n"
     ]
    }
   ],
   "source": [
    "# Analyze data\n",
    "(mydf,obs,chi_square_value,p_value) = analyse_range(data,age_ranges,attribute,age_unit)\n",
    "print \"chi-square:%.3f,p_value:%.3f\"%(chi_square_value,p_value)"
   ]
  },
  {
   "cell_type": "code",
   "execution_count": 18,
   "metadata": {
    "collapsed": false
   },
   "outputs": [
    {
     "data": {
      "text/html": [
       "<div>\n",
       "<table border=\"1\" class=\"dataframe\">\n",
       "  <thead>\n",
       "    <tr style=\"text-align: right;\">\n",
       "      <th></th>\n",
       "      <th>12-25 Years</th>\n",
       "      <th>26-50 Years</th>\n",
       "    </tr>\n",
       "  </thead>\n",
       "  <tbody>\n",
       "    <tr>\n",
       "      <th>Group-A</th>\n",
       "      <td>100</td>\n",
       "      <td>0</td>\n",
       "    </tr>\n",
       "    <tr>\n",
       "      <th>Group-B</th>\n",
       "      <td>40</td>\n",
       "      <td>60</td>\n",
       "    </tr>\n",
       "  </tbody>\n",
       "</table>\n",
       "</div>"
      ],
      "text/plain": [
       "         12-25 Years  26-50 Years\n",
       "Group-A          100            0\n",
       "Group-B           40           60"
      ]
     },
     "execution_count": 18,
     "metadata": {},
     "output_type": "execute_result"
    }
   ],
   "source": [
    "mydf.head()"
   ]
  },
  {
   "cell_type": "code",
   "execution_count": 19,
   "metadata": {
    "collapsed": false
   },
   "outputs": [
    {
     "name": "stdout",
     "output_type": "stream",
     "text": [
      "[[ 6.  0.]\n",
      " [ 2.  3.]]\n"
     ]
    }
   ],
   "source": [
    "print(obs)"
   ]
  },
  {
   "cell_type": "code",
   "execution_count": 20,
   "metadata": {
    "collapsed": false,
    "scrolled": false
   },
   "outputs": [
    {
     "data": {
      "image/png": "[encoded data removed]",
      "text/plain": [
       "<matplotlib.figure.Figure at 0x44f5ed0>"
      ]
     },
     "metadata": {},
     "output_type": "display_data"
    }
   ],
   "source": [
    "fname = \"age_distribution\"\n",
    "ylabel = \"Percentage of Patients\"\n",
    "ax = mydf.plot(**plotting_defaults)\n",
    "ax.set_ylabel(ylabel,fontdict={'fontsize':plotting_defaults[\"fontsize\"]})\n",
    "plt.savefig(fname)"
   ]
  },
  {
   "cell_type": "markdown",
   "metadata": {},
   "source": [
    "## Gender Wise Distribution of patients"
   ]
  },
  {
   "cell_type": "code",
   "execution_count": 21,
   "metadata": {
    "collapsed": true
   },
   "outputs": [],
   "source": [
    "# Set the input data\n",
    "attribute = \"gender\"\n",
    "data = (pdf_a,pdf_b)"
   ]
  },
  {
   "cell_type": "code",
   "execution_count": 22,
   "metadata": {
    "collapsed": false
   },
   "outputs": [
    {
     "name": "stdout",
     "output_type": "stream",
     "text": [
      "chi-square:4.412,p_value:0.036\n"
     ]
    }
   ],
   "source": [
    "# Analyze data\n",
    "mydf,obs,chi_square_value,p_value = analyse_category(data,attribute)\n",
    "print \"chi-square:%.3f,p_value:%.3f\"%(chi_square_value,p_value)"
   ]
  },
  {
   "cell_type": "code",
   "execution_count": 23,
   "metadata": {
    "collapsed": false
   },
   "outputs": [
    {
     "data": {
      "text/html": [
       "<div>\n",
       "<table border=\"1\" class=\"dataframe\">\n",
       "  <thead>\n",
       "    <tr style=\"text-align: right;\">\n",
       "      <th></th>\n",
       "      <th>F</th>\n",
       "      <th>M</th>\n",
       "    </tr>\n",
       "  </thead>\n",
       "  <tbody>\n",
       "    <tr>\n",
       "      <th>Group-A</th>\n",
       "      <td>83.333333</td>\n",
       "      <td>16.666667</td>\n",
       "    </tr>\n",
       "    <tr>\n",
       "      <th>Group-B</th>\n",
       "      <td>20.000000</td>\n",
       "      <td>80.000000</td>\n",
       "    </tr>\n",
       "  </tbody>\n",
       "</table>\n",
       "</div>"
      ],
      "text/plain": [
       "                 F          M\n",
       "Group-A  83.333333  16.666667\n",
       "Group-B  20.000000  80.000000"
      ]
     },
     "execution_count": 23,
     "metadata": {},
     "output_type": "execute_result"
    }
   ],
   "source": [
    "mydf.head()"
   ]
  },
  {
   "cell_type": "code",
   "execution_count": 24,
   "metadata": {
    "collapsed": false
   },
   "outputs": [
    {
     "name": "stdout",
     "output_type": "stream",
     "text": [
      "[[ 5.  1.]\n",
      " [ 1.  4.]]\n"
     ]
    }
   ],
   "source": [
    "print(obs)"
   ]
  },
  {
   "cell_type": "code",
   "execution_count": 25,
   "metadata": {
    "collapsed": false,
    "scrolled": true
   },
   "outputs": [
    {
     "data": {
      "image/png": "[encoded data removed]",
      "text/plain": [
       "<matplotlib.figure.Figure at 0x451b9d0>"
      ]
     },
     "metadata": {},
     "output_type": "display_data"
    }
   ],
   "source": [
    "fname=\"gender_distribution\"\n",
    "ylabel = \"Percentage of Patients\"\n",
    "ax = mydf.plot(**plotting_defaults)\n",
    "ax.set_ylabel(ylabel,fontdict={'fontsize':plotting_defaults[\"fontsize\"]})\n",
    "plt.savefig(fname)"
   ]
  },
  {
   "cell_type": "markdown",
   "metadata": {},
   "source": [
    "## Duration of Vitiligo by sites"
   ]
  },
  {
   "cell_type": "code",
   "execution_count": 26,
   "metadata": {
    "collapsed": true
   },
   "outputs": [],
   "source": [
    "# Set the input data\n",
    "attribute = \"duration_of_vitiligo_yrs\"\n",
    "dur_ranges = [[1,5],[6,10],[11,20],[21,100]]\n",
    "dur_unit = \"Years\"\n",
    "data = (sdf_a,sdf_b)"
   ]
  },
  {
   "cell_type": "code",
   "execution_count": 27,
   "metadata": {
    "collapsed": false
   },
   "outputs": [
    {
     "name": "stdout",
     "output_type": "stream",
     "text": [
      "duration_of_vitiligo_yrs Statistics\n",
      "Number of elements:60\n",
      "ranges from 2 to 32 with mean=18.77 and SD=9.61\n",
      "duration_of_vitiligo_yrs Statistics\n",
      "Number of elements:30\n",
      "ranges from 3 to 15 with mean=12.13 and SD=4.31\n",
      "duration_of_vitiligo_yrs Statistics\n",
      "Number of elements:30\n",
      "ranges from 2 to 32 with mean=25.40 and SD=8.85\n"
     ]
    }
   ],
   "source": [
    "# print stats\n",
    "print_attr_stats(sites_df,attribute)\n",
    "print_attr_stats(sdf_a,attribute)\n",
    "print_attr_stats(sdf_b,attribute)"
   ]
  },
  {
   "cell_type": "code",
   "execution_count": 28,
   "metadata": {
    "collapsed": false
   },
   "outputs": [
    {
     "name": "stdout",
     "output_type": "stream",
     "text": [
      "chi-square:51.111,p_value:0.000\n"
     ]
    }
   ],
   "source": [
    "# Analyze\n",
    "mydf,obs,chi_square_value,p_value = analyse_range(data,dur_ranges,attribute,dur_unit)\n",
    "print \"chi-square:%.3f,p_value:%.3f\"%(chi_square_value,p_value)"
   ]
  },
  {
   "cell_type": "code",
   "execution_count": 29,
   "metadata": {
    "collapsed": false
   },
   "outputs": [
    {
     "data": {
      "text/html": [
       "<div>\n",
       "<table border=\"1\" class=\"dataframe\">\n",
       "  <thead>\n",
       "    <tr style=\"text-align: right;\">\n",
       "      <th></th>\n",
       "      <th>1-5 Years</th>\n",
       "      <th>6-10 Years</th>\n",
       "      <th>11-20 Years</th>\n",
       "      <th>&gt;20 Years</th>\n",
       "    </tr>\n",
       "  </thead>\n",
       "  <tbody>\n",
       "    <tr>\n",
       "      <th>Group-A</th>\n",
       "      <td>16.666667</td>\n",
       "      <td>6.666667</td>\n",
       "      <td>76.666667</td>\n",
       "      <td>0.000000</td>\n",
       "    </tr>\n",
       "    <tr>\n",
       "      <th>Group-B</th>\n",
       "      <td>13.333333</td>\n",
       "      <td>0.000000</td>\n",
       "      <td>0.000000</td>\n",
       "      <td>86.666667</td>\n",
       "    </tr>\n",
       "  </tbody>\n",
       "</table>\n",
       "</div>"
      ],
      "text/plain": [
       "         1-5 Years  6-10 Years  11-20 Years  >20 Years\n",
       "Group-A  16.666667    6.666667    76.666667   0.000000\n",
       "Group-B  13.333333    0.000000     0.000000  86.666667"
      ]
     },
     "execution_count": 29,
     "metadata": {},
     "output_type": "execute_result"
    }
   ],
   "source": [
    "mydf.head()"
   ]
  },
  {
   "cell_type": "code",
   "execution_count": 30,
   "metadata": {
    "collapsed": false
   },
   "outputs": [
    {
     "data": {
      "image/png": "[encoded data removed]",
      "text/plain": [
       "<matplotlib.figure.Figure at 0x429ca10>"
      ]
     },
     "metadata": {},
     "output_type": "display_data"
    }
   ],
   "source": [
    "fname=\"duration_vitiligo\"\n",
    "ax = mydf.plot(**plotting_defaults)\n",
    "ax.set_ylabel(ylabel,fontdict={'fontsize':plotting_defaults[\"fontsize\"]})\n",
    "plt.savefig(fname)"
   ]
  },
  {
   "cell_type": "markdown",
   "metadata": {},
   "source": [
    "## Stability Duration by site"
   ]
  },
  {
   "cell_type": "code",
   "execution_count": 31,
   "metadata": {
    "collapsed": true
   },
   "outputs": [],
   "source": [
    "# Set the input data\n",
    "attribute = \"stability_yrs\"\n",
    "stb_ranges = [[1,2],[3,5],[6,10],[11,100]]\n",
    "stb_unit = \"Years\"\n",
    "data = (sdf_a,sdf_b)"
   ]
  },
  {
   "cell_type": "code",
   "execution_count": 32,
   "metadata": {
    "collapsed": false
   },
   "outputs": [
    {
     "name": "stdout",
     "output_type": "stream",
     "text": [
      "stability_yrs Statistics\n",
      "Number of elements:60\n",
      "ranges from 1 to 12 with mean=5.95 and SD=4.03\n",
      "stability_yrs Statistics\n",
      "Number of elements:30\n",
      "ranges from 1 to 4 with mean=2.77 and SD=0.99\n",
      "stability_yrs Statistics\n",
      "Number of elements:30\n",
      "ranges from 1 to 12 with mean=9.13 and SD=3.33\n"
     ]
    }
   ],
   "source": [
    "# print Stats\n",
    "print_attr_stats(sites_df,attribute)\n",
    "print_attr_stats(sdf_a,attribute)\n",
    "print_attr_stats(sdf_b,attribute)"
   ]
  },
  {
   "cell_type": "code",
   "execution_count": 33,
   "metadata": {
    "collapsed": false
   },
   "outputs": [
    {
     "name": "stdout",
     "output_type": "stream",
     "text": [
      "chi-square:48.923,p_value:0.000\n"
     ]
    }
   ],
   "source": [
    "# Analyze\n",
    "mydf,obs,chi_square_value,p_value = analyse_range(data,stb_ranges,attribute,stb_unit)\n",
    "print \"chi-square:%.3f,p_value:%.3f\"%(chi_square_value,p_value)"
   ]
  },
  {
   "cell_type": "code",
   "execution_count": 34,
   "metadata": {
    "collapsed": false
   },
   "outputs": [
    {
     "data": {
      "text/html": [
       "<div>\n",
       "<table border=\"1\" class=\"dataframe\">\n",
       "  <thead>\n",
       "    <tr style=\"text-align: right;\">\n",
       "      <th></th>\n",
       "      <th>1-2 Years</th>\n",
       "      <th>3-5 Years</th>\n",
       "      <th>6-10 Years</th>\n",
       "      <th>&gt;10 Years</th>\n",
       "    </tr>\n",
       "  </thead>\n",
       "  <tbody>\n",
       "    <tr>\n",
       "      <th>Group-A</th>\n",
       "      <td>30.000000</td>\n",
       "      <td>70</td>\n",
       "      <td>0</td>\n",
       "      <td>0.000000</td>\n",
       "    </tr>\n",
       "    <tr>\n",
       "      <th>Group-B</th>\n",
       "      <td>13.333333</td>\n",
       "      <td>0</td>\n",
       "      <td>70</td>\n",
       "      <td>16.666667</td>\n",
       "    </tr>\n",
       "  </tbody>\n",
       "</table>\n",
       "</div>"
      ],
      "text/plain": [
       "         1-2 Years  3-5 Years  6-10 Years  >10 Years\n",
       "Group-A  30.000000         70           0   0.000000\n",
       "Group-B  13.333333          0          70  16.666667"
      ]
     },
     "execution_count": 34,
     "metadata": {},
     "output_type": "execute_result"
    }
   ],
   "source": [
    "mydf.head()"
   ]
  },
  {
   "cell_type": "code",
   "execution_count": 35,
   "metadata": {
    "collapsed": false
   },
   "outputs": [
    {
     "name": "stdout",
     "output_type": "stream",
     "text": [
      "[[  9.  21.   0.   0.]\n",
      " [  4.   0.  21.   5.]]\n"
     ]
    }
   ],
   "source": [
    "print(obs)"
   ]
  },
  {
   "cell_type": "code",
   "execution_count": 36,
   "metadata": {
    "collapsed": false
   },
   "outputs": [
    {
     "data": {
      "image/png": "[encoded data removed]",
      "text/plain": [
       "<matplotlib.figure.Figure at 0x429c0d0>"
      ]
     },
     "metadata": {},
     "output_type": "display_data"
    }
   ],
   "source": [
    "fname=\"stability_vitiligo\"\n",
    "ylabel = \"Percentage of Patches\"\n",
    "ax = mydf.plot(**plotting_defaults)\n",
    "ax.set_ylabel(ylabel,fontdict={'fontsize':plotting_defaults[\"fontsize\"]})\n",
    "plt.savefig(fname)"
   ]
  },
  {
   "cell_type": "markdown",
   "metadata": {},
   "source": [
    "## Type of Vitiligo Distribution by sites"
   ]
  },
  {
   "cell_type": "code",
   "execution_count": 37,
   "metadata": {
    "collapsed": false
   },
   "outputs": [],
   "source": [
    "# Set input data\n",
    "attribute = \"type_of_vitiligo\"\n",
    "data = (sdf_a,sdf_b)\n",
    "categories = sites_df.type_of_vitiligo.unique()"
   ]
  },
  {
   "cell_type": "code",
   "execution_count": 38,
   "metadata": {
    "collapsed": false
   },
   "outputs": [
    {
     "name": "stdout",
     "output_type": "stream",
     "text": [
      "chi-square:4.286,p_value:0.117\n"
     ]
    }
   ],
   "source": [
    "# Analyze data\n",
    "mydf,obs,chi_square_value,p_value = analyse_category(data,attribute,categories=categories)\n",
    "print \"chi-square:%.3f,p_value:%.3f\"%(chi_square_value,p_value)"
   ]
  },
  {
   "cell_type": "code",
   "execution_count": 39,
   "metadata": {
    "collapsed": false
   },
   "outputs": [
    {
     "data": {
      "text/html": [
       "<div>\n",
       "<table border=\"1\" class=\"dataframe\">\n",
       "  <thead>\n",
       "    <tr style=\"text-align: right;\">\n",
       "      <th></th>\n",
       "      <th>Segmental vitiligo</th>\n",
       "      <th>Non Segmental</th>\n",
       "      <th>Focal viitligo</th>\n",
       "    </tr>\n",
       "  </thead>\n",
       "  <tbody>\n",
       "    <tr>\n",
       "      <th>Group-A</th>\n",
       "      <td>10</td>\n",
       "      <td>86.666667</td>\n",
       "      <td>3.333333</td>\n",
       "    </tr>\n",
       "    <tr>\n",
       "      <th>Group-B</th>\n",
       "      <td>0</td>\n",
       "      <td>100.000000</td>\n",
       "      <td>0.000000</td>\n",
       "    </tr>\n",
       "  </tbody>\n",
       "</table>\n",
       "</div>"
      ],
      "text/plain": [
       "         Segmental vitiligo  Non Segmental  Focal viitligo\n",
       "Group-A                  10      86.666667        3.333333\n",
       "Group-B                   0     100.000000        0.000000"
      ]
     },
     "execution_count": 39,
     "metadata": {},
     "output_type": "execute_result"
    }
   ],
   "source": [
    "mydf.head()"
   ]
  },
  {
   "cell_type": "code",
   "execution_count": 40,
   "metadata": {
    "collapsed": false
   },
   "outputs": [],
   "source": [
    "#new_df = pd.DataFrame([[10,86,4],[5,80,15],[20,80,0]],columns=('sv','nsv','fv'),index=('GrA','GrB','GrC'))\n",
    "#plot_graph(new_df,stacked=True)\n",
    "#xx = new_df.plot(kind='bar',figsize=(8,4),rot=360,colormap=matplotlib.cm.Accent_r,legend='reverse',stacked=True,width=0.3)\n",
    "#xx.set_\n",
    "#plt.show()"
   ]
  },
  {
   "cell_type": "code",
   "execution_count": 41,
   "metadata": {
    "collapsed": false
   },
   "outputs": [
    {
     "name": "stdout",
     "output_type": "stream",
     "text": [
      "[[  3.  26.   1.]\n",
      " [  0.  30.   0.]]\n"
     ]
    }
   ],
   "source": [
    "print(obs)"
   ]
  },
  {
   "cell_type": "code",
   "execution_count": 42,
   "metadata": {
    "collapsed": false
   },
   "outputs": [
    {
     "data": {
      "image/png": "[encoded data removed]",
      "text/plain": [
       "<matplotlib.figure.Figure at 0x4519910>"
      ]
     },
     "metadata": {},
     "output_type": "display_data"
    }
   ],
   "source": [
    "fname=\"type_of_vitiligo\"\n",
    "ylabel = \"Percentage of Patches\"\n",
    "plotting_defaults[\"figsize\"] = (7,4)\n",
    "ax = mydf.plot(**plotting_defaults)\n",
    "ax.set_ylabel(ylabel,fontdict={'fontsize':plotting_defaults[\"fontsize\"]})\n",
    "plt.savefig(\"fname\")\n",
    "plotting_defaults[\"figsize\"] = (6,4)"
   ]
  },
  {
   "cell_type": "markdown",
   "metadata": {},
   "source": [
    "## Sites of Vitiligo"
   ]
  },
  {
   "cell_type": "code",
   "execution_count": 43,
   "metadata": {
    "collapsed": false
   },
   "outputs": [],
   "source": [
    "# Set input data\n",
    "attribute = \"broad_site\"\n",
    "data = (sdf_a,sdf_b)\n",
    "categories = sites_df[attribute].unique()"
   ]
  },
  {
   "cell_type": "code",
   "execution_count": 44,
   "metadata": {
    "collapsed": false
   },
   "outputs": [
    {
     "name": "stdout",
     "output_type": "stream",
     "text": [
      "chi-square:8.848,p_value:0.065\n"
     ]
    }
   ],
   "source": [
    "# Analyze data\n",
    "mydf,obs,chi_square_value,p_value = analyse_category(data,attribute,categories=categories)\n",
    "print \"chi-square:%.3f,p_value:%.3f\"%(chi_square_value,p_value)"
   ]
  },
  {
   "cell_type": "code",
   "execution_count": 45,
   "metadata": {
    "collapsed": false
   },
   "outputs": [
    {
     "data": {
      "text/html": [
       "<div>\n",
       "<table border=\"1\" class=\"dataframe\">\n",
       "  <thead>\n",
       "    <tr style=\"text-align: right;\">\n",
       "      <th></th>\n",
       "      <th>Limb</th>\n",
       "      <th>Joint</th>\n",
       "      <th>Acral</th>\n",
       "      <th>Trunk</th>\n",
       "      <th>Head and Neck</th>\n",
       "    </tr>\n",
       "  </thead>\n",
       "  <tbody>\n",
       "    <tr>\n",
       "      <th>Group-A</th>\n",
       "      <td>30</td>\n",
       "      <td>40.000000</td>\n",
       "      <td>13.333333</td>\n",
       "      <td>6.666667</td>\n",
       "      <td>10</td>\n",
       "    </tr>\n",
       "    <tr>\n",
       "      <th>Group-B</th>\n",
       "      <td>60</td>\n",
       "      <td>33.333333</td>\n",
       "      <td>6.666667</td>\n",
       "      <td>0.000000</td>\n",
       "      <td>0</td>\n",
       "    </tr>\n",
       "  </tbody>\n",
       "</table>\n",
       "</div>"
      ],
      "text/plain": [
       "         Limb      Joint      Acral     Trunk  Head and Neck\n",
       "Group-A    30  40.000000  13.333333  6.666667             10\n",
       "Group-B    60  33.333333   6.666667  0.000000              0"
      ]
     },
     "execution_count": 45,
     "metadata": {},
     "output_type": "execute_result"
    }
   ],
   "source": [
    "mydf.head()"
   ]
  },
  {
   "cell_type": "code",
   "execution_count": 46,
   "metadata": {
    "collapsed": false
   },
   "outputs": [
    {
     "name": "stdout",
     "output_type": "stream",
     "text": [
      "[[  9.  12.   4.   2.   3.]\n",
      " [ 18.  10.   2.   0.   0.]]\n"
     ]
    }
   ],
   "source": [
    "print(obs)"
   ]
  },
  {
   "cell_type": "code",
   "execution_count": 47,
   "metadata": {
    "collapsed": false
   },
   "outputs": [
    {
     "data": {
      "image/png": "[encoded data removed]",
      "text/plain": [
       "<matplotlib.figure.Figure at 0x4623810>"
      ]
     },
     "metadata": {},
     "output_type": "display_data"
    }
   ],
   "source": [
    "fname=\"sites_of_vitiligo\"\n",
    "ylabel = \"Percentage of Patches\"\n",
    "plotting_defaults[\"figsize\"] = (10,6)\n",
    "plotting_defaults[\"stacked\"] = True\n",
    "ax = mydf.plot(**plotting_defaults)\n",
    "ax.set_ylabel(ylabel,fontdict={'fontsize':plotting_defaults[\"fontsize\"]})\n",
    "plt.savefig(fname)\n",
    "plotting_defaults[\"figsize\"] = (6,4)\n",
    "plotting_defaults[\"stacked\"] = False"
   ]
  },
  {
   "cell_type": "markdown",
   "metadata": {},
   "source": [
    "## Onset distribution by sites"
   ]
  },
  {
   "cell_type": "code",
   "execution_count": 48,
   "metadata": {
    "collapsed": true
   },
   "outputs": [],
   "source": [
    "# Set input data\n",
    "attribute = \"onset\"\n",
    "data = (sdf_a,sdf_b)\n",
    "onset_ranges = [[1,14],[15,30],[31,90]]\n",
    "onset_unit = \"days\""
   ]
  },
  {
   "cell_type": "code",
   "execution_count": 49,
   "metadata": {
    "collapsed": false
   },
   "outputs": [
    {
     "name": "stdout",
     "output_type": "stream",
     "text": [
      "onset Statistics\n",
      "Number of elements:60\n",
      "ranges from 8 to 90 with mean=28.15 and SD=17.88\n",
      "onset Statistics\n",
      "Number of elements:30\n",
      "ranges from 8 to 30 with mean=13.97 and SD=4.79\n",
      "onset Statistics\n",
      "Number of elements:30\n",
      "ranges from 20 to 90 with mean=42.33 and SD=14.55\n"
     ]
    }
   ],
   "source": [
    "# Print stats\n",
    "print_attr_stats(sites_df,attribute)\n",
    "print_attr_stats(sdf_a,attribute)\n",
    "print_attr_stats(sdf_b,attribute)"
   ]
  },
  {
   "cell_type": "code",
   "execution_count": 50,
   "metadata": {
    "collapsed": false
   },
   "outputs": [
    {
     "name": "stdout",
     "output_type": "stream",
     "text": [
      "chi-square:31.200,p_value:0.000\n"
     ]
    }
   ],
   "source": [
    "# Analyze\n",
    "mydf,obs,chi_square_value,p_value = analyse_range(data,onset_ranges,attribute,onset_unit)\n",
    "print \"chi-square:%.3f,p_value:%.3f\"%(chi_square_value,p_value)"
   ]
  },
  {
   "cell_type": "code",
   "execution_count": 51,
   "metadata": {
    "collapsed": false
   },
   "outputs": [
    {
     "data": {
      "text/html": [
       "<div>\n",
       "<table border=\"1\" class=\"dataframe\">\n",
       "  <thead>\n",
       "    <tr style=\"text-align: right;\">\n",
       "      <th></th>\n",
       "      <th>1-14 days</th>\n",
       "      <th>15-30 days</th>\n",
       "      <th>31-90 days</th>\n",
       "    </tr>\n",
       "  </thead>\n",
       "  <tbody>\n",
       "    <tr>\n",
       "      <th>Group-A</th>\n",
       "      <td>40</td>\n",
       "      <td>60</td>\n",
       "      <td>0</td>\n",
       "    </tr>\n",
       "    <tr>\n",
       "      <th>Group-B</th>\n",
       "      <td>0</td>\n",
       "      <td>40</td>\n",
       "      <td>60</td>\n",
       "    </tr>\n",
       "  </tbody>\n",
       "</table>\n",
       "</div>"
      ],
      "text/plain": [
       "         1-14 days  15-30 days  31-90 days\n",
       "Group-A         40          60           0\n",
       "Group-B          0          40          60"
      ]
     },
     "execution_count": 51,
     "metadata": {},
     "output_type": "execute_result"
    }
   ],
   "source": [
    "mydf.head()"
   ]
  },
  {
   "cell_type": "code",
   "execution_count": 52,
   "metadata": {
    "collapsed": false
   },
   "outputs": [
    {
     "name": "stdout",
     "output_type": "stream",
     "text": [
      "[[ 12.  18.   0.]\n",
      " [  0.  12.  18.]]\n"
     ]
    }
   ],
   "source": [
    "print(obs)"
   ]
  },
  {
   "cell_type": "code",
   "execution_count": 53,
   "metadata": {
    "collapsed": false
   },
   "outputs": [
    {
     "data": {
      "image/png": "[encoded data removed]",
      "text/plain": [
       "<matplotlib.figure.Figure at 0x4700490>"
      ]
     },
     "metadata": {},
     "output_type": "display_data"
    }
   ],
   "source": [
    "fname=\"onset_vitiligo\"\n",
    "ylabel = \"Percentage of Patches\"\n",
    "ax = mydf.plot(**plotting_defaults)\n",
    "ax.set_ylabel(ylabel,fontdict={'fontsize':plotting_defaults[\"fontsize\"]})\n",
    "plt.savefig(fname)"
   ]
  },
  {
   "cell_type": "markdown",
   "metadata": {},
   "source": [
    "## Type of Repigmentation"
   ]
  },
  {
   "cell_type": "code",
   "execution_count": 54,
   "metadata": {
    "collapsed": true
   },
   "outputs": [],
   "source": [
    "# Set input data\n",
    "attribute = \"type_of_repigmentation\"\n",
    "data = (sdf_a,sdf_b)\n",
    "categories = sites_df[attribute].unique()"
   ]
  },
  {
   "cell_type": "code",
   "execution_count": 55,
   "metadata": {
    "collapsed": false
   },
   "outputs": [
    {
     "name": "stdout",
     "output_type": "stream",
     "text": [
      "chi-square:21.818,p_value:0.000\n"
     ]
    }
   ],
   "source": [
    "# Analyze data\n",
    "mydf,obs,chi_square_value,p_value = analyse_category(data,attribute,categories=categories)\n",
    "print \"chi-square:%.3f,p_value:%.3f\"%(chi_square_value,p_value)"
   ]
  },
  {
   "cell_type": "code",
   "execution_count": 56,
   "metadata": {
    "collapsed": false
   },
   "outputs": [
    {
     "data": {
      "text/html": [
       "<div>\n",
       "<table border=\"1\" class=\"dataframe\">\n",
       "  <thead>\n",
       "    <tr style=\"text-align: right;\">\n",
       "      <th></th>\n",
       "      <th>Perifollicular</th>\n",
       "      <th>Diffuse</th>\n",
       "      <th>Marginal</th>\n",
       "    </tr>\n",
       "  </thead>\n",
       "  <tbody>\n",
       "    <tr>\n",
       "      <th>Group-A</th>\n",
       "      <td>33.333333</td>\n",
       "      <td>66.666667</td>\n",
       "      <td>0</td>\n",
       "    </tr>\n",
       "    <tr>\n",
       "      <th>Group-B</th>\n",
       "      <td>6.666667</td>\n",
       "      <td>43.333333</td>\n",
       "      <td>50</td>\n",
       "    </tr>\n",
       "  </tbody>\n",
       "</table>\n",
       "</div>"
      ],
      "text/plain": [
       "         Perifollicular    Diffuse  Marginal\n",
       "Group-A       33.333333  66.666667         0\n",
       "Group-B        6.666667  43.333333        50"
      ]
     },
     "execution_count": 56,
     "metadata": {},
     "output_type": "execute_result"
    }
   ],
   "source": [
    "mydf.head()"
   ]
  },
  {
   "cell_type": "code",
   "execution_count": 57,
   "metadata": {
    "collapsed": false
   },
   "outputs": [
    {
     "name": "stdout",
     "output_type": "stream",
     "text": [
      "[[ 10.  20.   0.]\n",
      " [  2.  13.  15.]]\n"
     ]
    }
   ],
   "source": [
    "print(obs)"
   ]
  },
  {
   "cell_type": "code",
   "execution_count": 58,
   "metadata": {
    "collapsed": false
   },
   "outputs": [
    {
     "data": {
      "image/png": "[encoded data removed]",
      "text/plain": [
       "<matplotlib.figure.Figure at 0x4c876d0>"
      ]
     },
     "metadata": {},
     "output_type": "display_data"
    }
   ],
   "source": [
    "fname=\"type_of_repigmentation\"\n",
    "ylabel = \"Percentage of Patches\"\n",
    "ax = mydf.plot(**plotting_defaults)\n",
    "ax.set_ylabel(ylabel,fontdict={'fontsize':plotting_defaults[\"fontsize\"]})\n",
    "plt.savefig(fname)"
   ]
  },
  {
   "cell_type": "markdown",
   "metadata": {},
   "source": [
    "## Comparision of Degree of Repigmentation(Sub)"
   ]
  },
  {
   "cell_type": "code",
   "execution_count": 59,
   "metadata": {
    "collapsed": true
   },
   "outputs": [],
   "source": [
    "# Ye to have the data"
   ]
  },
  {
   "cell_type": "code",
   "execution_count": 60,
   "metadata": {
    "collapsed": false
   },
   "outputs": [],
   "source": [
    "def get_matrix_ranges(col_attr,row_attr,col_ranges,row_ranges,col_unit,row_unit,data_set):\n",
    "    data = []\n",
    "    index = [str(x[0]) + \"-\" + str(x[1]) + \" \" + row_unit for x in row_ranges]\n",
    "    columns = [str(x[0]) + \"-\" + str(x[1]) + \" \" + col_unit for x in col_ranges]\n",
    "    data_set = data_set.copy()\n",
    "    for row_range in row_ranges:\n",
    "        row_range_min = row_range[0]\n",
    "        row_range_max = row_range[1]\n",
    "        subset = data_set[(data_set[row_attr] >= row_range_min) & (data_set[row_attr] <= row_range_max)]\n",
    "        if (len(subset) > 0):\n",
    "            mydf1 = get_range_percentages(subset,col_attr,col_ranges,col_unit)\n",
    "            data.append(np.array(mydf1[1]))\n",
    "        else:\n",
    "            data.append(np.zeros(len(col_ranges)))\n",
    "    return pd.DataFrame(data=data,index=index,columns=columns)"
   ]
  },
  {
   "cell_type": "code",
   "execution_count": 61,
   "metadata": {
    "collapsed": true
   },
   "outputs": [],
   "source": [
    "def get_matrix_categories(col_attr,row_attr,col_ranges,col_unit,data_set,categories):\n",
    "    data = []\n",
    "    index = categories\n",
    "    columns = [str(x[0]) + \"-\" + str(x[1]) + \" \" + col_unit for x in col_ranges]\n",
    "    data_set = data_set.copy()\n",
    "    for category in categories:\n",
    "        subset = data_set[data_set[row_attr] == category]\n",
    "        if (len(subset) > 0):\n",
    "            mydf1 = get_range_percentages(subset,col_attr,col_ranges,col_unit)\n",
    "            data.append(np.array(mydf1[1]))\n",
    "        else:\n",
    "            data.append(np.zeros(len(col_ranges)))\n",
    "    return pd.DataFrame(data=data,index=index,columns=columns)"
   ]
  },
  {
   "cell_type": "code",
   "execution_count": 62,
   "metadata": {
    "collapsed": true
   },
   "outputs": [],
   "source": [
    "def remove_zeros(obs):\n",
    "    non_zero_filter = ~((obs[0,] == 0) & (obs[1,] == 0))\n",
    "    first = (obs[0,][non_zero_filter])\n",
    "    second = (obs[1,][non_zero_filter])\n",
    "    new_obs = np.array([first,second])\n",
    "    return new_obs"
   ]
  },
  {
   "cell_type": "code",
   "execution_count": 63,
   "metadata": {
    "collapsed": true
   },
   "outputs": [],
   "source": [
    "def cal_percentage(df1):\n",
    "    df1p = df1.copy()\n",
    "    for idx in df1p.index:\n",
    "        df1p.loc[idx] = df1p.loc[idx]*100/df1p.loc[idx].sum()\n",
    "    return df1p"
   ]
  },
  {
   "cell_type": "markdown",
   "metadata": {},
   "source": [
    "## Comparision of Degree of Repigmentation(Obj) - Month wise"
   ]
  },
  {
   "cell_type": "code",
   "execution_count": 64,
   "metadata": {
    "collapsed": true
   },
   "outputs": [],
   "source": [
    "# Set input data\n",
    "attribute = \"DOR_01\"\n",
    "data = (sdf_a,sdf_b)\n",
    "col_ranges = [(0,25),(26,50),(51,75),(76,100)] # DOR ranges\n",
    "col_unit = \"%\""
   ]
  },
  {
   "cell_type": "code",
   "execution_count": 65,
   "metadata": {
    "collapsed": false
   },
   "outputs": [
    {
     "name": "stdout",
     "output_type": "stream",
     "text": [
      "chi-square:24.772,p_value:0.000\n"
     ]
    }
   ],
   "source": [
    "# Analyze\n",
    "mydf_01,obs,chi_square_value,p_value = analyse_range(data,col_ranges,attribute,col_unit)\n",
    "print \"chi-square:%.3f,p_value:%.3f\"%(chi_square_value,p_value)"
   ]
  },
  {
   "cell_type": "code",
   "execution_count": 66,
   "metadata": {
    "collapsed": false
   },
   "outputs": [],
   "source": [
    "# Set input data\n",
    "attribute = \"DOR_03\"\n",
    "data = (sdf_a,sdf_b)\n",
    "col_ranges = [(0,25),(26,50),(51,75),(76,100)] # DOR ranges\n",
    "col_unit = \"%\""
   ]
  },
  {
   "cell_type": "code",
   "execution_count": 67,
   "metadata": {
    "collapsed": false
   },
   "outputs": [
    {
     "name": "stdout",
     "output_type": "stream",
     "text": [
      "chi-square:26.084,p_value:0.000\n"
     ]
    }
   ],
   "source": [
    "# Analyze\n",
    "mydf_03,obs,chi_square_value,p_value = analyse_range(data,col_ranges,attribute,col_unit,convert_zero=True)\n",
    "print \"chi-square:%.3f,p_value:%.3f\"%(chi_square_value,p_value)"
   ]
  },
  {
   "cell_type": "code",
   "execution_count": 68,
   "metadata": {
    "collapsed": true
   },
   "outputs": [],
   "source": [
    "# Set input data\n",
    "attribute = \"DOR_06\"\n",
    "data = (sdf_a,sdf_b)\n",
    "col_ranges = [(0,25),(26,50),(51,75),(76,100)] # DOR ranges\n",
    "col_unit = \"%\""
   ]
  },
  {
   "cell_type": "code",
   "execution_count": 69,
   "metadata": {
    "collapsed": false
   },
   "outputs": [
    {
     "name": "stdout",
     "output_type": "stream",
     "text": [
      "chi-square:16.500,p_value:0.001\n"
     ]
    }
   ],
   "source": [
    "# Analyze\n",
    "mydf_06,obs,chi_square_value,p_value = analyse_range(data,col_ranges,attribute,col_unit,convert_zero=True)\n",
    "print \"chi-square:%.3f,p_value:%.3f\"%(chi_square_value,p_value)"
   ]
  },
  {
   "cell_type": "code",
   "execution_count": 70,
   "metadata": {
    "collapsed": false
   },
   "outputs": [
    {
     "data": {
      "text/html": [
       "<div>\n",
       "<table border=\"1\" class=\"dataframe\">\n",
       "  <thead>\n",
       "    <tr style=\"text-align: right;\">\n",
       "      <th></th>\n",
       "      <th>0-25 %</th>\n",
       "      <th>26-50 %</th>\n",
       "      <th>51-75 %</th>\n",
       "      <th>&gt;75 %</th>\n",
       "    </tr>\n",
       "  </thead>\n",
       "  <tbody>\n",
       "    <tr>\n",
       "      <th>1M</th>\n",
       "      <td>0</td>\n",
       "      <td>23.333333</td>\n",
       "      <td>23.333333</td>\n",
       "      <td>53.333333</td>\n",
       "    </tr>\n",
       "    <tr>\n",
       "      <th>3M</th>\n",
       "      <td>0</td>\n",
       "      <td>10.000000</td>\n",
       "      <td>0.000000</td>\n",
       "      <td>90.000000</td>\n",
       "    </tr>\n",
       "    <tr>\n",
       "      <th>6M</th>\n",
       "      <td>0</td>\n",
       "      <td>10.000000</td>\n",
       "      <td>0.000000</td>\n",
       "      <td>90.000000</td>\n",
       "    </tr>\n",
       "  </tbody>\n",
       "</table>\n",
       "</div>"
      ],
      "text/plain": [
       "    0-25 %    26-50 %    51-75 %      >75 %\n",
       "1M       0  23.333333  23.333333  53.333333\n",
       "3M       0  10.000000   0.000000  90.000000\n",
       "6M       0  10.000000   0.000000  90.000000"
      ]
     },
     "execution_count": 70,
     "metadata": {},
     "output_type": "execute_result"
    }
   ],
   "source": [
    "group_a_data = [mydf_01.loc['Group-A'],mydf_03.loc['Group-A'],mydf_06.loc['Group-A']]\n",
    "group_a_df = pd.DataFrame(data=group_a_data,columns=mydf_01.columns,index=['1M','3M','6M'])\n",
    "group_a_df.head()"
   ]
  },
  {
   "cell_type": "code",
   "execution_count": 71,
   "metadata": {
    "collapsed": false
   },
   "outputs": [
    {
     "data": {
      "image/png": "[encoded data removed]",
      "text/plain": [
       "<matplotlib.figure.Figure at 0x5017790>"
      ]
     },
     "metadata": {},
     "output_type": "display_data"
    }
   ],
   "source": [
    "fname=\"dor_comparision_GrA\"\n",
    "ylabel = \"Percentage of Patches\"\n",
    "ax = group_a_df.plot(**plotting_defaults)\n",
    "ax.set_ylabel(ylabel,fontdict={'fontsize':plotting_defaults[\"fontsize\"]})\n",
    "ax.set_title(\"Group-A\",fontdict={'fontsize':plotting_defaults[\"fontsize\"]})\n",
    "plt.savefig(fname)"
   ]
  },
  {
   "cell_type": "code",
   "execution_count": 72,
   "metadata": {
    "collapsed": false
   },
   "outputs": [
    {
     "data": {
      "text/html": [
       "<div>\n",
       "<table border=\"1\" class=\"dataframe\">\n",
       "  <thead>\n",
       "    <tr style=\"text-align: right;\">\n",
       "      <th></th>\n",
       "      <th>0-25 %</th>\n",
       "      <th>26-50 %</th>\n",
       "      <th>51-75 %</th>\n",
       "      <th>&gt;75 %</th>\n",
       "    </tr>\n",
       "  </thead>\n",
       "  <tbody>\n",
       "    <tr>\n",
       "      <th>1M</th>\n",
       "      <td>46.666667</td>\n",
       "      <td>30.000000</td>\n",
       "      <td>0.000000</td>\n",
       "      <td>23.333333</td>\n",
       "    </tr>\n",
       "    <tr>\n",
       "      <th>3M</th>\n",
       "      <td>40.000000</td>\n",
       "      <td>33.333333</td>\n",
       "      <td>0.000000</td>\n",
       "      <td>26.666667</td>\n",
       "    </tr>\n",
       "    <tr>\n",
       "      <th>6M</th>\n",
       "      <td>30.000000</td>\n",
       "      <td>23.333333</td>\n",
       "      <td>3.333333</td>\n",
       "      <td>43.333333</td>\n",
       "    </tr>\n",
       "  </tbody>\n",
       "</table>\n",
       "</div>"
      ],
      "text/plain": [
       "       0-25 %    26-50 %   51-75 %      >75 %\n",
       "1M  46.666667  30.000000  0.000000  23.333333\n",
       "3M  40.000000  33.333333  0.000000  26.666667\n",
       "6M  30.000000  23.333333  3.333333  43.333333"
      ]
     },
     "execution_count": 72,
     "metadata": {},
     "output_type": "execute_result"
    }
   ],
   "source": [
    "group_b_data = [mydf_01.loc['Group-B'],mydf_03.loc['Group-B'],mydf_06.loc['Group-B']]\n",
    "group_b_df = pd.DataFrame(data=group_b_data,columns=mydf_01.columns,index=['1M','3M','6M'])\n",
    "group_b_df.head()"
   ]
  },
  {
   "cell_type": "code",
   "execution_count": 73,
   "metadata": {
    "collapsed": false
   },
   "outputs": [
    {
     "data": {
      "image/png": "[encoded data removed]",
      "text/plain": [
       "<matplotlib.figure.Figure at 0x4a94950>"
      ]
     },
     "metadata": {},
     "output_type": "display_data"
    }
   ],
   "source": [
    "fname=\"dor_comparision_GrB\"\n",
    "ylabel = \"Percentage of Patches\"\n",
    "plotting_defaults[\"ylim\"] = (0,70)\n",
    "ax = group_b_df.plot(**plotting_defaults)\n",
    "ax.set_ylabel(ylabel,fontdict={'fontsize':plotting_defaults[\"fontsize\"]})\n",
    "ax.set_title(\"Group-B\",fontdict={'fontsize':plotting_defaults[\"fontsize\"]})\n",
    "plt.savefig(fname)\n",
    "plotting_defaults[\"ylim\"] = (0,105)"
   ]
  },
  {
   "cell_type": "code",
   "execution_count": 74,
   "metadata": {
    "collapsed": false
   },
   "outputs": [
    {
     "data": {
      "image/png": "[encoded data removed]",
      "text/plain": [
       "<matplotlib.figure.Figure at 0x5010410>"
      ]
     },
     "metadata": {},
     "output_type": "display_data"
    }
   ],
   "source": [
    "mydf_06.T\n",
    "fname=\"dor_comparision_06_GrA_GrB\"\n",
    "ylabel = \"Percentage of Patches\"\n",
    "ax = mydf_06.T.plot(**plotting_defaults)\n",
    "ax.set_ylabel(ylabel,fontdict={'fontsize':plotting_defaults[\"fontsize\"]})\n",
    "#ax.set_title(\"Group-B\",fontdict={'fontsize':plotting_defaults[\"fontsize\"]})\n",
    "plt.savefig(fname)"
   ]
  },
  {
   "cell_type": "markdown",
   "metadata": {},
   "source": [
    "## Comparision of  lesions achieving 100% repigmentation in 06 Months in both groups"
   ]
  },
  {
   "cell_type": "code",
   "execution_count": 75,
   "metadata": {
    "collapsed": true
   },
   "outputs": [],
   "source": [
    "# Set the input data\n",
    "attribute = \"DOR_06\"\n",
    "dor_ranges = [[0,89],[90,100]]\n",
    "dor_unit = \"%\"\n",
    "data = (sdf_a,sdf_b)"
   ]
  },
  {
   "cell_type": "code",
   "execution_count": 76,
   "metadata": {
    "collapsed": false
   },
   "outputs": [
    {
     "name": "stdout",
     "output_type": "stream",
     "text": [
      "chi-square:10.335,p_value:0.001\n"
     ]
    }
   ],
   "source": [
    "# Analyze\n",
    "mydf,obs,chi_square_value,p_value = analyse_range(data,dor_ranges,attribute,dor_unit,convert_zero=False)\n",
    "print \"chi-square:%.3f,p_value:%.3f\"%(chi_square_value,p_value)"
   ]
  },
  {
   "cell_type": "code",
   "execution_count": 77,
   "metadata": {
    "collapsed": false
   },
   "outputs": [
    {
     "name": "stdout",
     "output_type": "stream",
     "text": [
      "[[  5.  25.]\n",
      " [ 17.  13.]]\n"
     ]
    }
   ],
   "source": [
    "print (obs)"
   ]
  },
  {
   "cell_type": "code",
   "execution_count": 80,
   "metadata": {
    "collapsed": false
   },
   "outputs": [
    {
     "data": {
      "text/html": [
       "<div>\n",
       "<table border=\"1\" class=\"dataframe\">\n",
       "  <thead>\n",
       "    <tr style=\"text-align: right;\">\n",
       "      <th></th>\n",
       "      <th>0-89 %</th>\n",
       "      <th>&gt;89 %</th>\n",
       "    </tr>\n",
       "  </thead>\n",
       "  <tbody>\n",
       "    <tr>\n",
       "      <th>Group-A</th>\n",
       "      <td>16.666667</td>\n",
       "      <td>83.333333</td>\n",
       "    </tr>\n",
       "    <tr>\n",
       "      <th>Group-B</th>\n",
       "      <td>56.666667</td>\n",
       "      <td>43.333333</td>\n",
       "    </tr>\n",
       "  </tbody>\n",
       "</table>\n",
       "</div>"
      ],
      "text/plain": [
       "            0-89 %      >89 %\n",
       "Group-A  16.666667  83.333333\n",
       "Group-B  56.666667  43.333333"
      ]
     },
     "execution_count": 80,
     "metadata": {},
     "output_type": "execute_result"
    }
   ],
   "source": [
    "mydf.head()"
   ]
  },
  {
   "cell_type": "code",
   "execution_count": 81,
   "metadata": {
    "collapsed": false
   },
   "outputs": [
    {
     "data": {
      "image/png": "[encoded data removed]",
      "text/plain": [
       "<matplotlib.figure.Figure at 0x5019650>"
      ]
     },
     "metadata": {},
     "output_type": "display_data"
    }
   ],
   "source": [
    "fname=\"dor_comparision_100percnet_06_GrA_GrB\"\n",
    "ylabel = \"Percentage of Patches\"\n",
    "plotting_defaults['legend'] = False\n",
    "ax = mydf[['>89 %']].plot(**plotting_defaults)\n",
    "ax.set_ylabel(ylabel,fontdict={'fontsize':plotting_defaults[\"fontsize\"]})\n",
    "#ax.set_title(\"Group-B\",fontdict={'fontsize':plotting_defaults[\"fontsize\"]})\n",
    "ax.text(-0.06,40,\"83.3%\",fontdict={'fontsize':plotting_defaults[\"fontsize\"]})\n",
    "ax.text(0.95,20,\"43.3%\",fontdict={'fontsize':plotting_defaults[\"fontsize\"]})\n",
    "plt.savefig(fname)\n",
    "plotting_defaults['legend'] = True"
   ]
  },
  {
   "cell_type": "markdown",
   "metadata": {},
   "source": [
    "## Effect of Duration of Stability on Degree of Repigmentation"
   ]
  },
  {
   "cell_type": "code",
   "execution_count": 82,
   "metadata": {
    "collapsed": false
   },
   "outputs": [
    {
     "data": {
      "text/html": [
       "<div>\n",
       "<table border=\"1\" class=\"dataframe\">\n",
       "  <thead>\n",
       "    <tr style=\"text-align: right;\">\n",
       "      <th></th>\n",
       "      <th>0-25</th>\n",
       "      <th>26-50</th>\n",
       "      <th>51-75</th>\n",
       "      <th>76-100</th>\n",
       "    </tr>\n",
       "  </thead>\n",
       "  <tbody>\n",
       "    <tr>\n",
       "      <th>1-2 Y</th>\n",
       "      <td>0</td>\n",
       "      <td>0</td>\n",
       "      <td>0</td>\n",
       "      <td>9</td>\n",
       "    </tr>\n",
       "    <tr>\n",
       "      <th>3-5 Y</th>\n",
       "      <td>0</td>\n",
       "      <td>3</td>\n",
       "      <td>0</td>\n",
       "      <td>18</td>\n",
       "    </tr>\n",
       "    <tr>\n",
       "      <th>6-10 Y</th>\n",
       "      <td>0</td>\n",
       "      <td>0</td>\n",
       "      <td>0</td>\n",
       "      <td>0</td>\n",
       "    </tr>\n",
       "    <tr>\n",
       "      <th>11-25 Y</th>\n",
       "      <td>0</td>\n",
       "      <td>0</td>\n",
       "      <td>0</td>\n",
       "      <td>0</td>\n",
       "    </tr>\n",
       "  </tbody>\n",
       "</table>\n",
       "</div>"
      ],
      "text/plain": [
       "         0-25   26-50   51-75   76-100 \n",
       "1-2 Y        0       0       0        9\n",
       "3-5 Y        0       3       0       18\n",
       "6-10 Y       0       0       0        0\n",
       "11-25 Y      0       0       0        0"
      ]
     },
     "execution_count": 82,
     "metadata": {},
     "output_type": "execute_result"
    }
   ],
   "source": [
    "col_ranges = [(0,25),(26,50),(51,75),(76,100)] # DOR ranges\n",
    "col_unit = \"\"\n",
    "row_ranges = [(1,2),(3,5),(6,10),(11,25)] # stbility\n",
    "row_unit = \"Y\"\n",
    "attr_col = \"DOR_06\"\n",
    "attr_row = \"stability_yrs\"\n",
    "df1 = get_matrix_ranges(attr_col,attr_row,col_ranges,row_ranges,col_unit,row_unit,sdf_a)\n",
    "df1.head()"
   ]
  },
  {
   "cell_type": "code",
   "execution_count": 83,
   "metadata": {
    "collapsed": false
   },
   "outputs": [
    {
     "data": {
      "text/html": [
       "<div>\n",
       "<table border=\"1\" class=\"dataframe\">\n",
       "  <thead>\n",
       "    <tr style=\"text-align: right;\">\n",
       "      <th></th>\n",
       "      <th>0-25</th>\n",
       "      <th>26-50</th>\n",
       "      <th>51-75</th>\n",
       "      <th>76-100</th>\n",
       "    </tr>\n",
       "  </thead>\n",
       "  <tbody>\n",
       "    <tr>\n",
       "      <th>1-2 Y</th>\n",
       "      <td>0</td>\n",
       "      <td>0.000000</td>\n",
       "      <td>0</td>\n",
       "      <td>100.000000</td>\n",
       "    </tr>\n",
       "    <tr>\n",
       "      <th>3-5 Y</th>\n",
       "      <td>0</td>\n",
       "      <td>14.285714</td>\n",
       "      <td>0</td>\n",
       "      <td>85.714286</td>\n",
       "    </tr>\n",
       "    <tr>\n",
       "      <th>6-10 Y</th>\n",
       "      <td>NaN</td>\n",
       "      <td>NaN</td>\n",
       "      <td>NaN</td>\n",
       "      <td>NaN</td>\n",
       "    </tr>\n",
       "    <tr>\n",
       "      <th>11-25 Y</th>\n",
       "      <td>NaN</td>\n",
       "      <td>NaN</td>\n",
       "      <td>NaN</td>\n",
       "      <td>NaN</td>\n",
       "    </tr>\n",
       "  </tbody>\n",
       "</table>\n",
       "</div>"
      ],
      "text/plain": [
       "         0-25      26-50   51-75      76-100 \n",
       "1-2 Y        0   0.000000       0  100.000000\n",
       "3-5 Y        0  14.285714       0   85.714286\n",
       "6-10 Y     NaN        NaN     NaN         NaN\n",
       "11-25 Y    NaN        NaN     NaN         NaN"
      ]
     },
     "execution_count": 83,
     "metadata": {},
     "output_type": "execute_result"
    }
   ],
   "source": [
    "df1p = cal_percentage(df1)\n",
    "df1p.head()"
   ]
  },
  {
   "cell_type": "code",
   "execution_count": 84,
   "metadata": {
    "collapsed": false
   },
   "outputs": [
    {
     "data": {
      "image/png": "[encoded data removed]",
      "text/plain": [
       "<matplotlib.figure.Figure at 0x5c4bd50>"
      ]
     },
     "metadata": {},
     "output_type": "display_data"
    }
   ],
   "source": [
    "fname=\"stability_dor_GrA\"\n",
    "ylabel = \"Percentage of Patches\"\n",
    "ax = df1p.plot(**plotting_defaults)\n",
    "ax.set_ylabel(ylabel,fontdict={'fontsize':plotting_defaults[\"fontsize\"]})\n",
    "ax.set_title(\"Group-A\",fontdict={'fontsize':plotting_defaults[\"fontsize\"]})\n",
    "plt.savefig(fname)"
   ]
  },
  {
   "cell_type": "code",
   "execution_count": 85,
   "metadata": {
    "collapsed": false
   },
   "outputs": [
    {
     "data": {
      "text/html": [
       "<div>\n",
       "<table border=\"1\" class=\"dataframe\">\n",
       "  <thead>\n",
       "    <tr style=\"text-align: right;\">\n",
       "      <th></th>\n",
       "      <th>0-25</th>\n",
       "      <th>26-50</th>\n",
       "      <th>51-75</th>\n",
       "      <th>76-100</th>\n",
       "    </tr>\n",
       "  </thead>\n",
       "  <tbody>\n",
       "    <tr>\n",
       "      <th>1-2 Y</th>\n",
       "      <td>0</td>\n",
       "      <td>0</td>\n",
       "      <td>0</td>\n",
       "      <td>4</td>\n",
       "    </tr>\n",
       "    <tr>\n",
       "      <th>3-5 Y</th>\n",
       "      <td>0</td>\n",
       "      <td>0</td>\n",
       "      <td>0</td>\n",
       "      <td>0</td>\n",
       "    </tr>\n",
       "    <tr>\n",
       "      <th>6-10 Y</th>\n",
       "      <td>8</td>\n",
       "      <td>6</td>\n",
       "      <td>1</td>\n",
       "      <td>6</td>\n",
       "    </tr>\n",
       "    <tr>\n",
       "      <th>11-25 Y</th>\n",
       "      <td>1</td>\n",
       "      <td>1</td>\n",
       "      <td>0</td>\n",
       "      <td>3</td>\n",
       "    </tr>\n",
       "  </tbody>\n",
       "</table>\n",
       "</div>"
      ],
      "text/plain": [
       "         0-25   26-50   51-75   76-100 \n",
       "1-2 Y        0       0       0        4\n",
       "3-5 Y        0       0       0        0\n",
       "6-10 Y       8       6       1        6\n",
       "11-25 Y      1       1       0        3"
      ]
     },
     "execution_count": 85,
     "metadata": {},
     "output_type": "execute_result"
    }
   ],
   "source": [
    "col_ranges = [(0,25),(26,50),(51,75),(76,100)] # DOR ranges\n",
    "col_unit = \"\"\n",
    "row_ranges = [(1,2),(3,5),(6,10),(11,25)] # stbility\n",
    "row_unit = \"Y\"\n",
    "attr_col = \"DOR_06\"\n",
    "attr_row = \"stability_yrs\"\n",
    "df1 = get_matrix_ranges(attr_col,attr_row,col_ranges,row_ranges,col_unit,row_unit,sdf_b)\n",
    "df1.head()"
   ]
  },
  {
   "cell_type": "code",
   "execution_count": 86,
   "metadata": {
    "collapsed": false
   },
   "outputs": [],
   "source": [
    "df1p = cal_percentage(df1)"
   ]
  },
  {
   "cell_type": "code",
   "execution_count": 87,
   "metadata": {
    "collapsed": false
   },
   "outputs": [
    {
     "data": {
      "image/png": "[encoded data removed]",
      "text/plain": [
       "<matplotlib.figure.Figure at 0x5c2cad0>"
      ]
     },
     "metadata": {},
     "output_type": "display_data"
    }
   ],
   "source": [
    "fname=\"stability_dor_GrB\"\n",
    "ylabel = \"Percentage of Patches\"\n",
    "ax = df1p.plot(**plotting_defaults)\n",
    "ax.set_ylabel(ylabel,fontdict={'fontsize':plotting_defaults[\"fontsize\"]})\n",
    "ax.set_title(\"Group-B\",fontdict={'fontsize':plotting_defaults[\"fontsize\"]})\n",
    "plt.savefig(fname)"
   ]
  },
  {
   "cell_type": "markdown",
   "metadata": {},
   "source": [
    "## Effect of Type of Vitiligo on 100% repigmentation"
   ]
  },
  {
   "cell_type": "code",
   "execution_count": 88,
   "metadata": {
    "collapsed": false
   },
   "outputs": [
    {
     "data": {
      "text/html": [
       "<div>\n",
       "<table border=\"1\" class=\"dataframe\">\n",
       "  <thead>\n",
       "    <tr style=\"text-align: right;\">\n",
       "      <th></th>\n",
       "      <th>0-89 %</th>\n",
       "      <th>90-100 %</th>\n",
       "    </tr>\n",
       "  </thead>\n",
       "  <tbody>\n",
       "    <tr>\n",
       "      <th>Segmental vitiligo</th>\n",
       "      <td>0.000000</td>\n",
       "      <td>100.000000</td>\n",
       "    </tr>\n",
       "    <tr>\n",
       "      <th>Non Segmental</th>\n",
       "      <td>19.230769</td>\n",
       "      <td>80.769231</td>\n",
       "    </tr>\n",
       "    <tr>\n",
       "      <th>Focal viitligo</th>\n",
       "      <td>0.000000</td>\n",
       "      <td>100.000000</td>\n",
       "    </tr>\n",
       "  </tbody>\n",
       "</table>\n",
       "</div>"
      ],
      "text/plain": [
       "                       0-89 %    90-100 %\n",
       "Segmental vitiligo   0.000000  100.000000\n",
       "Non Segmental       19.230769   80.769231\n",
       "Focal viitligo       0.000000  100.000000"
      ]
     },
     "execution_count": 88,
     "metadata": {},
     "output_type": "execute_result"
    }
   ],
   "source": [
    "# Group A\n",
    "col_ranges =  [[0,89],[90,100]]\n",
    "col_unit = \"%\"\n",
    "attr_col = \"DOR_06\"\n",
    "attr_row = \"type_of_vitiligo\"\n",
    "categories = sites_df[attr_row].unique()\n",
    "dfa = get_matrix_categories(attr_col,attr_row,col_ranges,col_unit,sdf_a,categories)\n",
    "dfap = cal_percentage(dfa)\n",
    "dfap.head()"
   ]
  },
  {
   "cell_type": "code",
   "execution_count": 89,
   "metadata": {
    "collapsed": false
   },
   "outputs": [
    {
     "data": {
      "text/html": [
       "<div>\n",
       "<table border=\"1\" class=\"dataframe\">\n",
       "  <thead>\n",
       "    <tr style=\"text-align: right;\">\n",
       "      <th></th>\n",
       "      <th>0-89 %</th>\n",
       "      <th>90-100 %</th>\n",
       "    </tr>\n",
       "  </thead>\n",
       "  <tbody>\n",
       "    <tr>\n",
       "      <th>Segmental vitiligo</th>\n",
       "      <td>NaN</td>\n",
       "      <td>NaN</td>\n",
       "    </tr>\n",
       "    <tr>\n",
       "      <th>Non Segmental</th>\n",
       "      <td>56.666667</td>\n",
       "      <td>43.333333</td>\n",
       "    </tr>\n",
       "    <tr>\n",
       "      <th>Focal viitligo</th>\n",
       "      <td>NaN</td>\n",
       "      <td>NaN</td>\n",
       "    </tr>\n",
       "  </tbody>\n",
       "</table>\n",
       "</div>"
      ],
      "text/plain": [
       "                       0-89 %   90-100 %\n",
       "Segmental vitiligo        NaN        NaN\n",
       "Non Segmental       56.666667  43.333333\n",
       "Focal viitligo            NaN        NaN"
      ]
     },
     "execution_count": 89,
     "metadata": {},
     "output_type": "execute_result"
    }
   ],
   "source": [
    "# Group A\n",
    "col_ranges =  [[0,89],[90,100]]\n",
    "col_unit = \"%\"\n",
    "attr_col = \"DOR_06\"\n",
    "attr_row = \"type_of_vitiligo\"\n",
    "categories = sites_df[attr_row].unique()\n",
    "dfb = get_matrix_categories(attr_col,attr_row,col_ranges,col_unit,sdf_b,categories)\n",
    "dfbp = cal_percentage(dfb)\n",
    "dfbp.head()"
   ]
  },
  {
   "cell_type": "code",
   "execution_count": 90,
   "metadata": {
    "collapsed": false
   },
   "outputs": [
    {
     "data": {
      "text/html": [
       "<div>\n",
       "<table border=\"1\" class=\"dataframe\">\n",
       "  <thead>\n",
       "    <tr style=\"text-align: right;\">\n",
       "      <th></th>\n",
       "      <th>Segmental</th>\n",
       "      <th>Non-Segmental</th>\n",
       "      <th>Focal</th>\n",
       "    </tr>\n",
       "  </thead>\n",
       "  <tbody>\n",
       "    <tr>\n",
       "      <th>Group-A</th>\n",
       "      <td>100</td>\n",
       "      <td>80.769231</td>\n",
       "      <td>100</td>\n",
       "    </tr>\n",
       "    <tr>\n",
       "      <th>Group-B</th>\n",
       "      <td>NaN</td>\n",
       "      <td>43.333333</td>\n",
       "      <td>NaN</td>\n",
       "    </tr>\n",
       "  </tbody>\n",
       "</table>\n",
       "</div>"
      ],
      "text/plain": [
       "         Segmental  Non-Segmental  Focal\n",
       "Group-A        100      80.769231    100\n",
       "Group-B        NaN      43.333333    NaN"
      ]
     },
     "execution_count": 90,
     "metadata": {},
     "output_type": "execute_result"
    }
   ],
   "source": [
    "index = ['Group-A','Group-B']\n",
    "columns = ['Segmental','Non-Segmental','Focal']\n",
    "data = [np.array(dfap[\"90-100 %\"]),np.array(dfbp[\"90-100 %\"])]\n",
    "data\n",
    "df_ab = pd.DataFrame(data=data,index = index ,columns=columns)\n",
    "df_ab.head()"
   ]
  },
  {
   "cell_type": "code",
   "execution_count": 91,
   "metadata": {
    "collapsed": false
   },
   "outputs": [
    {
     "data": {
      "image/png": "[encoded data removed]",
      "text/plain": [
       "<matplotlib.figure.Figure at 0x54e9910>"
      ]
     },
     "metadata": {},
     "output_type": "display_data"
    }
   ],
   "source": [
    "fname=\"dor_type_100percnet_06_GrA_GrB\"\n",
    "ylabel = \"Percentage of Patches\"\n",
    "#plotting_defaults['legend'] = False\n",
    "ax = df_ab.plot(**plotting_defaults)\n",
    "ax.set_ylabel(ylabel,fontdict={'fontsize':plotting_defaults[\"fontsize\"]})\n",
    "#ax.set_title(\"Group-B\",fontdict={'fontsize':plotting_defaults[\"fontsize\"]})\n",
    "#ax.text(-0.06,40,\"83.3%\",fontdict={'fontsize':plotting_defaults[\"fontsize\"]})\n",
    "#ax.text(0.95,20,\"43.3%\",fontdict={'fontsize':plotting_defaults[\"fontsize\"]})\n",
    "plt.savefig(fname)\n",
    "plotting_defaults['legend'] = True"
   ]
  },
  {
   "cell_type": "markdown",
   "metadata": {},
   "source": [
    "## Effect of Type of Vitiligo on Degree of Repigmentation"
   ]
  },
  {
   "cell_type": "code",
   "execution_count": 92,
   "metadata": {
    "collapsed": false
   },
   "outputs": [
    {
     "data": {
      "text/html": [
       "<div>\n",
       "<table border=\"1\" class=\"dataframe\">\n",
       "  <thead>\n",
       "    <tr style=\"text-align: right;\">\n",
       "      <th></th>\n",
       "      <th>0-25 %</th>\n",
       "      <th>26-50 %</th>\n",
       "      <th>51-75 %</th>\n",
       "      <th>76-100 %</th>\n",
       "    </tr>\n",
       "  </thead>\n",
       "  <tbody>\n",
       "    <tr>\n",
       "      <th>Segmental vitiligo</th>\n",
       "      <td>0</td>\n",
       "      <td>0</td>\n",
       "      <td>0</td>\n",
       "      <td>3</td>\n",
       "    </tr>\n",
       "    <tr>\n",
       "      <th>Non Segmental</th>\n",
       "      <td>0</td>\n",
       "      <td>3</td>\n",
       "      <td>0</td>\n",
       "      <td>23</td>\n",
       "    </tr>\n",
       "    <tr>\n",
       "      <th>Focal viitligo</th>\n",
       "      <td>0</td>\n",
       "      <td>0</td>\n",
       "      <td>0</td>\n",
       "      <td>1</td>\n",
       "    </tr>\n",
       "  </tbody>\n",
       "</table>\n",
       "</div>"
      ],
      "text/plain": [
       "                    0-25 %  26-50 %  51-75 %  76-100 %\n",
       "Segmental vitiligo       0        0        0         3\n",
       "Non Segmental            0        3        0        23\n",
       "Focal viitligo           0        0        0         1"
      ]
     },
     "execution_count": 92,
     "metadata": {},
     "output_type": "execute_result"
    }
   ],
   "source": [
    "# Group A\n",
    "col_ranges = [(0,25),(26,50),(51,75),(76,100)] # DOR ranges\n",
    "col_unit = \"%\"\n",
    "attr_col = \"DOR_06\"\n",
    "attr_row = \"type_of_vitiligo\"\n",
    "categories = sites_df[attr_row].unique()\n",
    "df1 = get_matrix_categories(attr_col,attr_row,col_ranges,col_unit,sdf_a,categories)\n",
    "df1.head()"
   ]
  },
  {
   "cell_type": "code",
   "execution_count": 93,
   "metadata": {
    "collapsed": false
   },
   "outputs": [
    {
     "data": {
      "text/html": [
       "<div>\n",
       "<table border=\"1\" class=\"dataframe\">\n",
       "  <thead>\n",
       "    <tr style=\"text-align: right;\">\n",
       "      <th></th>\n",
       "      <th>0-25 %</th>\n",
       "      <th>26-50 %</th>\n",
       "      <th>51-75 %</th>\n",
       "      <th>76-100 %</th>\n",
       "    </tr>\n",
       "  </thead>\n",
       "  <tbody>\n",
       "    <tr>\n",
       "      <th>Segmental</th>\n",
       "      <td>0</td>\n",
       "      <td>0.000000</td>\n",
       "      <td>0</td>\n",
       "      <td>100.000000</td>\n",
       "    </tr>\n",
       "    <tr>\n",
       "      <th>Non-Segmental</th>\n",
       "      <td>0</td>\n",
       "      <td>11.538462</td>\n",
       "      <td>0</td>\n",
       "      <td>88.461538</td>\n",
       "    </tr>\n",
       "    <tr>\n",
       "      <th>Focal</th>\n",
       "      <td>0</td>\n",
       "      <td>0.000000</td>\n",
       "      <td>0</td>\n",
       "      <td>100.000000</td>\n",
       "    </tr>\n",
       "  </tbody>\n",
       "</table>\n",
       "</div>"
      ],
      "text/plain": [
       "               0-25 %    26-50 %  51-75 %    76-100 %\n",
       "Segmental           0   0.000000        0  100.000000\n",
       "Non-Segmental       0  11.538462        0   88.461538\n",
       "Focal               0   0.000000        0  100.000000"
      ]
     },
     "execution_count": 93,
     "metadata": {},
     "output_type": "execute_result"
    }
   ],
   "source": [
    "df1p = cal_percentage(df1)\n",
    "df1p.index = ('Segmental','Non-Segmental','Focal')\n",
    "df1p.head()"
   ]
  },
  {
   "cell_type": "code",
   "execution_count": 94,
   "metadata": {
    "collapsed": false
   },
   "outputs": [
    {
     "data": {
      "image/png": "[encoded data removed]",
      "text/plain": [
       "<matplotlib.figure.Figure at 0x54f8b10>"
      ]
     },
     "metadata": {},
     "output_type": "display_data"
    }
   ],
   "source": [
    "fname=\"type_of_vitiligo_dor_GrA\"\n",
    "ylabel = \"Percentage of Patches\"\n",
    "plotting_defaults[\"figsize\"] = (10,6)\n",
    "ax = df1p.plot(**plotting_defaults)\n",
    "ax.set_ylabel(ylabel,fontdict={'fontsize':plotting_defaults[\"fontsize\"]})\n",
    "ax.set_title(\"Group-A\",fontdict={'fontsize':plotting_defaults[\"fontsize\"]})\n",
    "plt.savefig(fname)\n",
    "plotting_defaults[\"figsize\"] = (6,4)"
   ]
  },
  {
   "cell_type": "code",
   "execution_count": 95,
   "metadata": {
    "collapsed": false
   },
   "outputs": [
    {
     "data": {
      "text/html": [
       "<div>\n",
       "<table border=\"1\" class=\"dataframe\">\n",
       "  <thead>\n",
       "    <tr style=\"text-align: right;\">\n",
       "      <th></th>\n",
       "      <th>0-25 %</th>\n",
       "      <th>26-50 %</th>\n",
       "      <th>51-75 %</th>\n",
       "      <th>76-100 %</th>\n",
       "    </tr>\n",
       "  </thead>\n",
       "  <tbody>\n",
       "    <tr>\n",
       "      <th>Segmental vitiligo</th>\n",
       "      <td>0</td>\n",
       "      <td>0</td>\n",
       "      <td>0</td>\n",
       "      <td>0</td>\n",
       "    </tr>\n",
       "    <tr>\n",
       "      <th>Non Segmental</th>\n",
       "      <td>9</td>\n",
       "      <td>7</td>\n",
       "      <td>1</td>\n",
       "      <td>13</td>\n",
       "    </tr>\n",
       "    <tr>\n",
       "      <th>Focal viitligo</th>\n",
       "      <td>0</td>\n",
       "      <td>0</td>\n",
       "      <td>0</td>\n",
       "      <td>0</td>\n",
       "    </tr>\n",
       "  </tbody>\n",
       "</table>\n",
       "</div>"
      ],
      "text/plain": [
       "                    0-25 %  26-50 %  51-75 %  76-100 %\n",
       "Segmental vitiligo       0        0        0         0\n",
       "Non Segmental            9        7        1        13\n",
       "Focal viitligo           0        0        0         0"
      ]
     },
     "execution_count": 95,
     "metadata": {},
     "output_type": "execute_result"
    }
   ],
   "source": [
    "# Group B\n",
    "col_ranges = [(0,25),(26,50),(51,75),(76,100)] # DOR ranges\n",
    "col_unit = \"%\"\n",
    "attr_col = \"DOR_06\"\n",
    "attr_row = \"type_of_vitiligo\"\n",
    "categories = sites_df[attr_row].unique()\n",
    "df1 = get_matrix_categories(attr_col,attr_row,col_ranges,col_unit,sdf_b,categories)\n",
    "df1.head()"
   ]
  },
  {
   "cell_type": "code",
   "execution_count": 96,
   "metadata": {
    "collapsed": false
   },
   "outputs": [
    {
     "data": {
      "text/html": [
       "<div>\n",
       "<table border=\"1\" class=\"dataframe\">\n",
       "  <thead>\n",
       "    <tr style=\"text-align: right;\">\n",
       "      <th></th>\n",
       "      <th>0-25 %</th>\n",
       "      <th>26-50 %</th>\n",
       "      <th>51-75 %</th>\n",
       "      <th>76-100 %</th>\n",
       "    </tr>\n",
       "  </thead>\n",
       "  <tbody>\n",
       "    <tr>\n",
       "      <th>Segmental</th>\n",
       "      <td>NaN</td>\n",
       "      <td>NaN</td>\n",
       "      <td>NaN</td>\n",
       "      <td>NaN</td>\n",
       "    </tr>\n",
       "    <tr>\n",
       "      <th>Non-Segmental</th>\n",
       "      <td>30</td>\n",
       "      <td>23.333333</td>\n",
       "      <td>3.333333</td>\n",
       "      <td>43.333333</td>\n",
       "    </tr>\n",
       "    <tr>\n",
       "      <th>Focal</th>\n",
       "      <td>NaN</td>\n",
       "      <td>NaN</td>\n",
       "      <td>NaN</td>\n",
       "      <td>NaN</td>\n",
       "    </tr>\n",
       "  </tbody>\n",
       "</table>\n",
       "</div>"
      ],
      "text/plain": [
       "               0-25 %    26-50 %   51-75 %   76-100 %\n",
       "Segmental         NaN        NaN       NaN        NaN\n",
       "Non-Segmental      30  23.333333  3.333333  43.333333\n",
       "Focal             NaN        NaN       NaN        NaN"
      ]
     },
     "execution_count": 96,
     "metadata": {},
     "output_type": "execute_result"
    }
   ],
   "source": [
    "df1p = cal_percentage(df1)\n",
    "df1p.index = ('Segmental','Non-Segmental','Focal')\n",
    "df1p.head()"
   ]
  },
  {
   "cell_type": "code",
   "execution_count": 97,
   "metadata": {
    "collapsed": false
   },
   "outputs": [
    {
     "data": {
      "image/png": "[encoded data removed]",
      "text/plain": [
       "<matplotlib.figure.Figure at 0x5c2c490>"
      ]
     },
     "metadata": {},
     "output_type": "display_data"
    }
   ],
   "source": [
    "fname=\"type_of_vitiligo_dor_GrB\"\n",
    "ylabel = \"Percentage of Patches\"\n",
    "plotting_defaults[\"ylim\"] = (0,50)\n",
    "ax = df1p.plot(**plotting_defaults)\n",
    "ax.set_ylabel(ylabel,fontdict={'fontsize':plotting_defaults[\"fontsize\"]})\n",
    "ax.set_title(\"Group-B\",fontdict={'fontsize':plotting_defaults[\"fontsize\"]})\n",
    "plt.savefig(fname)\n",
    "plotting_defaults[\"ylim\"] = (0,105)\n",
    "plotting_defaults[\"figsize\"] = (6,4)"
   ]
  },
  {
   "cell_type": "code",
   "execution_count": 98,
   "metadata": {
    "collapsed": false
   },
   "outputs": [
    {
     "data": {
      "text/html": [
       "<div>\n",
       "<table border=\"1\" class=\"dataframe\">\n",
       "  <thead>\n",
       "    <tr style=\"text-align: right;\">\n",
       "      <th></th>\n",
       "      <th>0-89.9999999 %</th>\n",
       "      <th>90-100 %</th>\n",
       "    </tr>\n",
       "  </thead>\n",
       "  <tbody>\n",
       "    <tr>\n",
       "      <th>Segmental vitiligo</th>\n",
       "      <td>0</td>\n",
       "      <td>3</td>\n",
       "    </tr>\n",
       "    <tr>\n",
       "      <th>Non Segmental</th>\n",
       "      <td>5</td>\n",
       "      <td>21</td>\n",
       "    </tr>\n",
       "    <tr>\n",
       "      <th>Focal viitligo</th>\n",
       "      <td>0</td>\n",
       "      <td>1</td>\n",
       "    </tr>\n",
       "  </tbody>\n",
       "</table>\n",
       "</div>"
      ],
      "text/plain": [
       "                    0-89.9999999 %  90-100 %\n",
       "Segmental vitiligo               0         3\n",
       "Non Segmental                    5        21\n",
       "Focal viitligo                   0         1"
      ]
     },
     "execution_count": 98,
     "metadata": {},
     "output_type": "execute_result"
    }
   ],
   "source": [
    "# just for 06 month - Group A\n",
    "col_ranges = [(0,89.9999999),(90,100)] # DOR ranges\n",
    "col_unit = \"%\"\n",
    "attr_col = \"DOR_06\"\n",
    "attr_row = \"type_of_vitiligo\"\n",
    "categories = sites_df[attr_row].unique()\n",
    "df1 = get_matrix_categories(attr_col,attr_row,col_ranges,col_unit,sdf_a,categories)\n",
    "df1.head()"
   ]
  },
  {
   "cell_type": "code",
   "execution_count": 99,
   "metadata": {
    "collapsed": false
   },
   "outputs": [
    {
     "data": {
      "text/html": [
       "<div>\n",
       "<table border=\"1\" class=\"dataframe\">\n",
       "  <thead>\n",
       "    <tr style=\"text-align: right;\">\n",
       "      <th></th>\n",
       "      <th>0-89.9999999 %</th>\n",
       "      <th>90-100 %</th>\n",
       "    </tr>\n",
       "  </thead>\n",
       "  <tbody>\n",
       "    <tr>\n",
       "      <th>Segmental vitiligo</th>\n",
       "      <td>0</td>\n",
       "      <td>0</td>\n",
       "    </tr>\n",
       "    <tr>\n",
       "      <th>Non Segmental</th>\n",
       "      <td>17</td>\n",
       "      <td>13</td>\n",
       "    </tr>\n",
       "    <tr>\n",
       "      <th>Focal viitligo</th>\n",
       "      <td>0</td>\n",
       "      <td>0</td>\n",
       "    </tr>\n",
       "  </tbody>\n",
       "</table>\n",
       "</div>"
      ],
      "text/plain": [
       "                    0-89.9999999 %  90-100 %\n",
       "Segmental vitiligo               0         0\n",
       "Non Segmental                   17        13\n",
       "Focal viitligo                   0         0"
      ]
     },
     "execution_count": 99,
     "metadata": {},
     "output_type": "execute_result"
    }
   ],
   "source": [
    "# just for 06 month - Group B\n",
    "col_ranges = [(0,89.9999999),(90,100)] # DOR ranges\n",
    "col_unit = \"%\"\n",
    "attr_col = \"DOR_06\"\n",
    "attr_row = \"type_of_vitiligo\"\n",
    "categories = sites_df[attr_row].unique()\n",
    "df1 = get_matrix_categories(attr_col,attr_row,col_ranges,col_unit,sdf_b,categories)\n",
    "#df1*100/30\n",
    "df1.head()"
   ]
  },
  {
   "cell_type": "code",
   "execution_count": 100,
   "metadata": {
    "collapsed": false
   },
   "outputs": [
    {
     "name": "stdout",
     "output_type": "stream",
     "text": [
      "chi-square:2.325,p_value:0.313\n"
     ]
    }
   ],
   "source": [
    "ct = chi2_contingency(np.array([[3,21,1],[0,13,0]]),correction=False)\n",
    "print \"chi-square:%.3f,p_value:%.3f\"%(ct[0],ct[1])"
   ]
  },
  {
   "cell_type": "markdown",
   "metadata": {},
   "source": [
    "## Effect of anatomical site of lesion on degree of repigmentation"
   ]
  },
  {
   "cell_type": "code",
   "execution_count": 101,
   "metadata": {
    "collapsed": false
   },
   "outputs": [
    {
     "data": {
      "text/html": [
       "<div>\n",
       "<table border=\"1\" class=\"dataframe\">\n",
       "  <thead>\n",
       "    <tr style=\"text-align: right;\">\n",
       "      <th></th>\n",
       "      <th>0-25</th>\n",
       "      <th>26-50</th>\n",
       "      <th>51-75</th>\n",
       "      <th>76-100</th>\n",
       "    </tr>\n",
       "  </thead>\n",
       "  <tbody>\n",
       "    <tr>\n",
       "      <th>Limb</th>\n",
       "      <td>0</td>\n",
       "      <td>2</td>\n",
       "      <td>0</td>\n",
       "      <td>7</td>\n",
       "    </tr>\n",
       "    <tr>\n",
       "      <th>Joint</th>\n",
       "      <td>0</td>\n",
       "      <td>0</td>\n",
       "      <td>0</td>\n",
       "      <td>12</td>\n",
       "    </tr>\n",
       "    <tr>\n",
       "      <th>Acral</th>\n",
       "      <td>0</td>\n",
       "      <td>0</td>\n",
       "      <td>0</td>\n",
       "      <td>4</td>\n",
       "    </tr>\n",
       "    <tr>\n",
       "      <th>Trunk</th>\n",
       "      <td>0</td>\n",
       "      <td>1</td>\n",
       "      <td>0</td>\n",
       "      <td>1</td>\n",
       "    </tr>\n",
       "    <tr>\n",
       "      <th>Head and Neck</th>\n",
       "      <td>0</td>\n",
       "      <td>0</td>\n",
       "      <td>0</td>\n",
       "      <td>3</td>\n",
       "    </tr>\n",
       "  </tbody>\n",
       "</table>\n",
       "</div>"
      ],
      "text/plain": [
       "               0-25   26-50   51-75   76-100 \n",
       "Limb               0       2       0        7\n",
       "Joint              0       0       0       12\n",
       "Acral              0       0       0        4\n",
       "Trunk              0       1       0        1\n",
       "Head and Neck      0       0       0        3"
      ]
     },
     "execution_count": 101,
     "metadata": {},
     "output_type": "execute_result"
    }
   ],
   "source": [
    "\n",
    "# 6 month - Group A\n",
    "col_ranges = [(0,25),(26,50),(51,75),(76,100)] # DOR ranges\n",
    "col_unit = \"\"\n",
    "attr_col = \"DOR_06\"\n",
    "attr_row = \"broad_site\"\n",
    "categories = sites_df[attr_row].unique()\n",
    "df1 = get_matrix_categories(attr_col,attr_row,col_ranges,col_unit,sdf_a,categories)\n",
    "df1.head()"
   ]
  },
  {
   "cell_type": "code",
   "execution_count": 102,
   "metadata": {
    "collapsed": false
   },
   "outputs": [
    {
     "data": {
      "text/html": [
       "<div>\n",
       "<table border=\"1\" class=\"dataframe\">\n",
       "  <thead>\n",
       "    <tr style=\"text-align: right;\">\n",
       "      <th></th>\n",
       "      <th>0-25</th>\n",
       "      <th>26-50</th>\n",
       "      <th>51-75</th>\n",
       "      <th>76-100</th>\n",
       "    </tr>\n",
       "  </thead>\n",
       "  <tbody>\n",
       "    <tr>\n",
       "      <th>Limb</th>\n",
       "      <td>0</td>\n",
       "      <td>22.222222</td>\n",
       "      <td>0</td>\n",
       "      <td>77.777778</td>\n",
       "    </tr>\n",
       "    <tr>\n",
       "      <th>Joint</th>\n",
       "      <td>0</td>\n",
       "      <td>0.000000</td>\n",
       "      <td>0</td>\n",
       "      <td>100.000000</td>\n",
       "    </tr>\n",
       "    <tr>\n",
       "      <th>Acral</th>\n",
       "      <td>0</td>\n",
       "      <td>0.000000</td>\n",
       "      <td>0</td>\n",
       "      <td>100.000000</td>\n",
       "    </tr>\n",
       "    <tr>\n",
       "      <th>Trunk</th>\n",
       "      <td>0</td>\n",
       "      <td>50.000000</td>\n",
       "      <td>0</td>\n",
       "      <td>50.000000</td>\n",
       "    </tr>\n",
       "    <tr>\n",
       "      <th>Head and Neck</th>\n",
       "      <td>0</td>\n",
       "      <td>0.000000</td>\n",
       "      <td>0</td>\n",
       "      <td>100.000000</td>\n",
       "    </tr>\n",
       "  </tbody>\n",
       "</table>\n",
       "</div>"
      ],
      "text/plain": [
       "               0-25      26-50   51-75      76-100 \n",
       "Limb               0  22.222222       0   77.777778\n",
       "Joint              0   0.000000       0  100.000000\n",
       "Acral              0   0.000000       0  100.000000\n",
       "Trunk              0  50.000000       0   50.000000\n",
       "Head and Neck      0   0.000000       0  100.000000"
      ]
     },
     "execution_count": 102,
     "metadata": {},
     "output_type": "execute_result"
    }
   ],
   "source": [
    "df1p = cal_percentage(df1)\n",
    "df1p.head()"
   ]
  },
  {
   "cell_type": "code",
   "execution_count": 103,
   "metadata": {
    "collapsed": false
   },
   "outputs": [
    {
     "data": {
      "image/png": "[encoded data removed]",
      "text/plain": [
       "<matplotlib.figure.Figure at 0x54e94d0>"
      ]
     },
     "metadata": {},
     "output_type": "display_data"
    }
   ],
   "source": [
    "fname=\"broad_site_dor_GrA\"\n",
    "ylabel = \"Percentage of Patches\"\n",
    "#plotting_defaults[\"ylim\"] = (0,50)\n",
    "plotting_defaults[\"figsize\"] = (10,6)\n",
    "ax = df1p.plot(**plotting_defaults)\n",
    "ax.set_ylabel(ylabel,fontdict={'fontsize':plotting_defaults[\"fontsize\"]})\n",
    "ax.set_title(\"Group-A\",fontdict={'fontsize':plotting_defaults[\"fontsize\"]})\n",
    "plt.savefig(fname)\n",
    "#plotting_defaults[\"ylim\"] = (0,105)\n",
    "plotting_defaults[\"figsize\"] = (6,4)"
   ]
  },
  {
   "cell_type": "code",
   "execution_count": 104,
   "metadata": {
    "collapsed": false
   },
   "outputs": [
    {
     "data": {
      "text/html": [
       "<div>\n",
       "<table border=\"1\" class=\"dataframe\">\n",
       "  <thead>\n",
       "    <tr style=\"text-align: right;\">\n",
       "      <th></th>\n",
       "      <th>0-25 %</th>\n",
       "      <th>26-50 %</th>\n",
       "      <th>51-75 %</th>\n",
       "      <th>76-100 %</th>\n",
       "    </tr>\n",
       "  </thead>\n",
       "  <tbody>\n",
       "    <tr>\n",
       "      <th>Limb</th>\n",
       "      <td>7</td>\n",
       "      <td>4</td>\n",
       "      <td>0</td>\n",
       "      <td>7</td>\n",
       "    </tr>\n",
       "    <tr>\n",
       "      <th>Joint</th>\n",
       "      <td>2</td>\n",
       "      <td>3</td>\n",
       "      <td>1</td>\n",
       "      <td>4</td>\n",
       "    </tr>\n",
       "    <tr>\n",
       "      <th>Acral</th>\n",
       "      <td>0</td>\n",
       "      <td>0</td>\n",
       "      <td>0</td>\n",
       "      <td>2</td>\n",
       "    </tr>\n",
       "    <tr>\n",
       "      <th>Trunk</th>\n",
       "      <td>0</td>\n",
       "      <td>0</td>\n",
       "      <td>0</td>\n",
       "      <td>0</td>\n",
       "    </tr>\n",
       "    <tr>\n",
       "      <th>Head and Neck</th>\n",
       "      <td>0</td>\n",
       "      <td>0</td>\n",
       "      <td>0</td>\n",
       "      <td>0</td>\n",
       "    </tr>\n",
       "  </tbody>\n",
       "</table>\n",
       "</div>"
      ],
      "text/plain": [
       "               0-25 %  26-50 %  51-75 %  76-100 %\n",
       "Limb                7        4        0         7\n",
       "Joint               2        3        1         4\n",
       "Acral               0        0        0         2\n",
       "Trunk               0        0        0         0\n",
       "Head and Neck       0        0        0         0"
      ]
     },
     "execution_count": 104,
     "metadata": {},
     "output_type": "execute_result"
    }
   ],
   "source": [
    "# 6 moth - Group B\n",
    "col_ranges = [(0,25),(26,50),(51,75),(76,100)] # DOR ranges\n",
    "col_unit = \"%\"\n",
    "attr_col = \"DOR_06\"\n",
    "attr_row = \"broad_site\"\n",
    "categories = sites_df[attr_row].unique()\n",
    "df1 = get_matrix_categories(attr_col,attr_row,col_ranges,col_unit,sdf_b,categories)\n",
    "df1.head()"
   ]
  },
  {
   "cell_type": "code",
   "execution_count": 105,
   "metadata": {
    "collapsed": false
   },
   "outputs": [
    {
     "data": {
      "text/html": [
       "<div>\n",
       "<table border=\"1\" class=\"dataframe\">\n",
       "  <thead>\n",
       "    <tr style=\"text-align: right;\">\n",
       "      <th></th>\n",
       "      <th>0-25 %</th>\n",
       "      <th>26-50 %</th>\n",
       "      <th>51-75 %</th>\n",
       "      <th>76-100 %</th>\n",
       "    </tr>\n",
       "  </thead>\n",
       "  <tbody>\n",
       "    <tr>\n",
       "      <th>Limb</th>\n",
       "      <td>38.888889</td>\n",
       "      <td>22.222222</td>\n",
       "      <td>0</td>\n",
       "      <td>38.888889</td>\n",
       "    </tr>\n",
       "    <tr>\n",
       "      <th>Joint</th>\n",
       "      <td>20.000000</td>\n",
       "      <td>30.000000</td>\n",
       "      <td>10</td>\n",
       "      <td>40.000000</td>\n",
       "    </tr>\n",
       "    <tr>\n",
       "      <th>Acral</th>\n",
       "      <td>0.000000</td>\n",
       "      <td>0.000000</td>\n",
       "      <td>0</td>\n",
       "      <td>100.000000</td>\n",
       "    </tr>\n",
       "    <tr>\n",
       "      <th>Trunk</th>\n",
       "      <td>NaN</td>\n",
       "      <td>NaN</td>\n",
       "      <td>NaN</td>\n",
       "      <td>NaN</td>\n",
       "    </tr>\n",
       "    <tr>\n",
       "      <th>Head and Neck</th>\n",
       "      <td>NaN</td>\n",
       "      <td>NaN</td>\n",
       "      <td>NaN</td>\n",
       "      <td>NaN</td>\n",
       "    </tr>\n",
       "  </tbody>\n",
       "</table>\n",
       "</div>"
      ],
      "text/plain": [
       "                  0-25 %    26-50 %  51-75 %    76-100 %\n",
       "Limb           38.888889  22.222222        0   38.888889\n",
       "Joint          20.000000  30.000000       10   40.000000\n",
       "Acral           0.000000   0.000000        0  100.000000\n",
       "Trunk                NaN        NaN      NaN         NaN\n",
       "Head and Neck        NaN        NaN      NaN         NaN"
      ]
     },
     "execution_count": 105,
     "metadata": {},
     "output_type": "execute_result"
    }
   ],
   "source": [
    "df1p = cal_percentage(df1)\n",
    "df1p.head()"
   ]
  },
  {
   "cell_type": "code",
   "execution_count": 106,
   "metadata": {
    "collapsed": false
   },
   "outputs": [
    {
     "data": {
      "image/png": "[encoded data removed]",
      "text/plain": [
       "<matplotlib.figure.Figure at 0x42cd550>"
      ]
     },
     "metadata": {},
     "output_type": "display_data"
    }
   ],
   "source": [
    "fname=\"broad_site_dor_GrB\"\n",
    "ylabel = \"Percentage of Patches\"\n",
    "#plotting_defaults[\"ylim\"] = (0,50)\n",
    "plotting_defaults[\"figsize\"] = (10,6)\n",
    "ax = df1p.plot(**plotting_defaults)\n",
    "ax.set_ylabel(ylabel,fontdict={'fontsize':plotting_defaults[\"fontsize\"]})\n",
    "ax.set_title(\"Group-B\",fontdict={'fontsize':plotting_defaults[\"fontsize\"]})\n",
    "plt.savefig(fname)\n",
    "#plotting_defaults[\"ylim\"] = (0,105)\n",
    "plotting_defaults[\"figsize\"] = (6,4)"
   ]
  },
  {
   "cell_type": "markdown",
   "metadata": {},
   "source": [
    "## Effect of size of lesion on degree of repigmentation"
   ]
  },
  {
   "cell_type": "code",
   "execution_count": 107,
   "metadata": {
    "collapsed": false
   },
   "outputs": [
    {
     "data": {
      "text/html": [
       "<div>\n",
       "<table border=\"1\" class=\"dataframe\">\n",
       "  <thead>\n",
       "    <tr style=\"text-align: right;\">\n",
       "      <th></th>\n",
       "      <th>0-25 %</th>\n",
       "      <th>26-50 %</th>\n",
       "      <th>51-75 %</th>\n",
       "      <th>76-100 %</th>\n",
       "    </tr>\n",
       "  </thead>\n",
       "  <tbody>\n",
       "    <tr>\n",
       "      <th>0-0.999999 sq. cm</th>\n",
       "      <td>0</td>\n",
       "      <td>1</td>\n",
       "      <td>0</td>\n",
       "      <td>4</td>\n",
       "    </tr>\n",
       "    <tr>\n",
       "      <th>1-5 sq. cm</th>\n",
       "      <td>0</td>\n",
       "      <td>1</td>\n",
       "      <td>0</td>\n",
       "      <td>14</td>\n",
       "    </tr>\n",
       "    <tr>\n",
       "      <th>6-10 sq. cm</th>\n",
       "      <td>0</td>\n",
       "      <td>1</td>\n",
       "      <td>0</td>\n",
       "      <td>6</td>\n",
       "    </tr>\n",
       "    <tr>\n",
       "      <th>11-25 sq. cm</th>\n",
       "      <td>0</td>\n",
       "      <td>0</td>\n",
       "      <td>0</td>\n",
       "      <td>3</td>\n",
       "    </tr>\n",
       "    <tr>\n",
       "      <th>26-50 sq. cm</th>\n",
       "      <td>0</td>\n",
       "      <td>0</td>\n",
       "      <td>0</td>\n",
       "      <td>0</td>\n",
       "    </tr>\n",
       "  </tbody>\n",
       "</table>\n",
       "</div>"
      ],
      "text/plain": [
       "                   0-25 %  26-50 %  51-75 %  76-100 %\n",
       "0-0.999999 sq. cm       0        1        0         4\n",
       "1-5 sq. cm              0        1        0        14\n",
       "6-10 sq. cm             0        1        0         6\n",
       "11-25 sq. cm            0        0        0         3\n",
       "26-50 sq. cm            0        0        0         0"
      ]
     },
     "execution_count": 107,
     "metadata": {},
     "output_type": "execute_result"
    }
   ],
   "source": [
    "# 6 month - Group A\n",
    "col_ranges = [(0,25),(26,50),(51,75),(76,100)] # DOR ranges\n",
    "col_unit = \"%\"\n",
    "row_ranges = [(0,0.999999),(1,5),(6,10),(11,25),(26,50)] #area\n",
    "row_unit = \"sq. cm\"\n",
    "attr_col = \"DOR_06\"\n",
    "attr_row = \"transpanted_area_cm2\"\n",
    "dfa = get_matrix_ranges(attr_col,attr_row,col_ranges,row_ranges,col_unit,row_unit,sdf_a)\n",
    "dfa.head()"
   ]
  },
  {
   "cell_type": "code",
   "execution_count": 108,
   "metadata": {
    "collapsed": false
   },
   "outputs": [
    {
     "data": {
      "text/html": [
       "<div>\n",
       "<table border=\"1\" class=\"dataframe\">\n",
       "  <thead>\n",
       "    <tr style=\"text-align: right;\">\n",
       "      <th></th>\n",
       "      <th>0-25 %</th>\n",
       "      <th>26-50 %</th>\n",
       "      <th>51-75 %</th>\n",
       "      <th>76-100 %</th>\n",
       "    </tr>\n",
       "  </thead>\n",
       "  <tbody>\n",
       "    <tr>\n",
       "      <th>&lt; 1 sq.cm</th>\n",
       "      <td>0</td>\n",
       "      <td>20.000000</td>\n",
       "      <td>0</td>\n",
       "      <td>80.000000</td>\n",
       "    </tr>\n",
       "    <tr>\n",
       "      <th>1-5 sq. cm</th>\n",
       "      <td>0</td>\n",
       "      <td>6.666667</td>\n",
       "      <td>0</td>\n",
       "      <td>93.333333</td>\n",
       "    </tr>\n",
       "    <tr>\n",
       "      <th>6-10 sq. cm</th>\n",
       "      <td>0</td>\n",
       "      <td>14.285714</td>\n",
       "      <td>0</td>\n",
       "      <td>85.714286</td>\n",
       "    </tr>\n",
       "    <tr>\n",
       "      <th>11-25 sq. cm</th>\n",
       "      <td>0</td>\n",
       "      <td>0.000000</td>\n",
       "      <td>0</td>\n",
       "      <td>100.000000</td>\n",
       "    </tr>\n",
       "    <tr>\n",
       "      <th>26-50 sq. cm</th>\n",
       "      <td>NaN</td>\n",
       "      <td>NaN</td>\n",
       "      <td>NaN</td>\n",
       "      <td>NaN</td>\n",
       "    </tr>\n",
       "  </tbody>\n",
       "</table>\n",
       "</div>"
      ],
      "text/plain": [
       "              0-25 %    26-50 %  51-75 %    76-100 %\n",
       "< 1 sq.cm          0  20.000000        0   80.000000\n",
       "1-5 sq. cm         0   6.666667        0   93.333333\n",
       "6-10 sq. cm        0  14.285714        0   85.714286\n",
       "11-25 sq. cm       0   0.000000        0  100.000000\n",
       "26-50 sq. cm     NaN        NaN      NaN         NaN"
      ]
     },
     "execution_count": 108,
     "metadata": {},
     "output_type": "execute_result"
    }
   ],
   "source": [
    "dfap = cal_percentage(dfa)\n",
    "idx = list(dfap.index)\n",
    "idx[0] = '< 1 sq.cm'\n",
    "dfap.index  = idx\n",
    "dfap.head()"
   ]
  },
  {
   "cell_type": "code",
   "execution_count": 109,
   "metadata": {
    "collapsed": false
   },
   "outputs": [
    {
     "data": {
      "image/png": "[encoded data removed]",
      "text/plain": [
       "<matplotlib.figure.Figure at 0x4aad050>"
      ]
     },
     "metadata": {},
     "output_type": "display_data"
    }
   ],
   "source": [
    "fname=\"size_lesion_dor_GrA\"\n",
    "ylabel = \"Percentage of Patches\"\n",
    "#plotting_defaults[\"ylim\"] = (0,50)\n",
    "plotting_defaults[\"figsize\"] = (10,6)\n",
    "ax = dfap.plot(**plotting_defaults)\n",
    "ax.set_ylabel(ylabel,fontdict={'fontsize':plotting_defaults[\"fontsize\"]})\n",
    "ax.set_title(\"Group-A\",fontdict={'fontsize':plotting_defaults[\"fontsize\"]})\n",
    "plt.savefig(fname)\n",
    "#plotting_defaults[\"ylim\"] = (0,105)\n",
    "#plotting_defaults[\"figsize\"] = (6,4)"
   ]
  },
  {
   "cell_type": "code",
   "execution_count": 110,
   "metadata": {
    "collapsed": false
   },
   "outputs": [
    {
     "data": {
      "text/html": [
       "<div>\n",
       "<table border=\"1\" class=\"dataframe\">\n",
       "  <thead>\n",
       "    <tr style=\"text-align: right;\">\n",
       "      <th></th>\n",
       "      <th>0-25 %</th>\n",
       "      <th>26-50 %</th>\n",
       "      <th>51-75 %</th>\n",
       "      <th>76-100 %</th>\n",
       "    </tr>\n",
       "  </thead>\n",
       "  <tbody>\n",
       "    <tr>\n",
       "      <th>0-0.999999 sq. cm</th>\n",
       "      <td>1</td>\n",
       "      <td>4</td>\n",
       "      <td>0</td>\n",
       "      <td>8</td>\n",
       "    </tr>\n",
       "    <tr>\n",
       "      <th>1-5 sq. cm</th>\n",
       "      <td>4</td>\n",
       "      <td>3</td>\n",
       "      <td>1</td>\n",
       "      <td>3</td>\n",
       "    </tr>\n",
       "    <tr>\n",
       "      <th>6-10 sq. cm</th>\n",
       "      <td>3</td>\n",
       "      <td>0</td>\n",
       "      <td>0</td>\n",
       "      <td>2</td>\n",
       "    </tr>\n",
       "    <tr>\n",
       "      <th>11-25 sq. cm</th>\n",
       "      <td>0</td>\n",
       "      <td>0</td>\n",
       "      <td>0</td>\n",
       "      <td>0</td>\n",
       "    </tr>\n",
       "    <tr>\n",
       "      <th>26-50 sq. cm</th>\n",
       "      <td>1</td>\n",
       "      <td>0</td>\n",
       "      <td>0</td>\n",
       "      <td>0</td>\n",
       "    </tr>\n",
       "  </tbody>\n",
       "</table>\n",
       "</div>"
      ],
      "text/plain": [
       "                   0-25 %  26-50 %  51-75 %  76-100 %\n",
       "0-0.999999 sq. cm       1        4        0         8\n",
       "1-5 sq. cm              4        3        1         3\n",
       "6-10 sq. cm             3        0        0         2\n",
       "11-25 sq. cm            0        0        0         0\n",
       "26-50 sq. cm            1        0        0         0"
      ]
     },
     "execution_count": 110,
     "metadata": {},
     "output_type": "execute_result"
    }
   ],
   "source": [
    "# 6 month - Group B\n",
    "col_ranges = [(0,25),(26,50),(51,75),(76,100)] # DOR ranges\n",
    "col_unit = \"%\"\n",
    "row_ranges = [(0,0.999999),(1,5),(6,10),(11,25),(26,50)] #area\n",
    "row_unit = \"sq. cm\"\n",
    "attr_col = \"DOR_06\"\n",
    "attr_row = \"transpanted_area_cm2\"\n",
    "dfb = get_matrix_ranges(attr_col,attr_row,col_ranges,row_ranges,col_unit,row_unit,sdf_b)\n",
    "dfb.head()"
   ]
  },
  {
   "cell_type": "code",
   "execution_count": 111,
   "metadata": {
    "collapsed": false
   },
   "outputs": [
    {
     "data": {
      "text/html": [
       "<div>\n",
       "<table border=\"1\" class=\"dataframe\">\n",
       "  <thead>\n",
       "    <tr style=\"text-align: right;\">\n",
       "      <th></th>\n",
       "      <th>0-25 %</th>\n",
       "      <th>26-50 %</th>\n",
       "      <th>51-75 %</th>\n",
       "      <th>76-100 %</th>\n",
       "    </tr>\n",
       "  </thead>\n",
       "  <tbody>\n",
       "    <tr>\n",
       "      <th>&lt; 1 sq.cm</th>\n",
       "      <td>7.692308</td>\n",
       "      <td>30.769231</td>\n",
       "      <td>0.000000</td>\n",
       "      <td>61.538462</td>\n",
       "    </tr>\n",
       "    <tr>\n",
       "      <th>1-5 sq. cm</th>\n",
       "      <td>36.363636</td>\n",
       "      <td>27.272727</td>\n",
       "      <td>9.090909</td>\n",
       "      <td>27.272727</td>\n",
       "    </tr>\n",
       "    <tr>\n",
       "      <th>6-10 sq. cm</th>\n",
       "      <td>60.000000</td>\n",
       "      <td>0.000000</td>\n",
       "      <td>0.000000</td>\n",
       "      <td>40.000000</td>\n",
       "    </tr>\n",
       "    <tr>\n",
       "      <th>11-25 sq. cm</th>\n",
       "      <td>NaN</td>\n",
       "      <td>NaN</td>\n",
       "      <td>NaN</td>\n",
       "      <td>NaN</td>\n",
       "    </tr>\n",
       "    <tr>\n",
       "      <th>26-50 sq. cm</th>\n",
       "      <td>100.000000</td>\n",
       "      <td>0.000000</td>\n",
       "      <td>0.000000</td>\n",
       "      <td>0.000000</td>\n",
       "    </tr>\n",
       "  </tbody>\n",
       "</table>\n",
       "</div>"
      ],
      "text/plain": [
       "                  0-25 %    26-50 %   51-75 %   76-100 %\n",
       "< 1 sq.cm       7.692308  30.769231  0.000000  61.538462\n",
       "1-5 sq. cm     36.363636  27.272727  9.090909  27.272727\n",
       "6-10 sq. cm    60.000000   0.000000  0.000000  40.000000\n",
       "11-25 sq. cm         NaN        NaN       NaN        NaN\n",
       "26-50 sq. cm  100.000000   0.000000  0.000000   0.000000"
      ]
     },
     "execution_count": 111,
     "metadata": {},
     "output_type": "execute_result"
    }
   ],
   "source": [
    "dfbp = cal_percentage(dfb)\n",
    "idx = list(dfbp.index)\n",
    "idx[0] = '< 1 sq.cm'\n",
    "dfbp.index  = idx\n",
    "dfbp.head()"
   ]
  },
  {
   "cell_type": "code",
   "execution_count": 112,
   "metadata": {
    "collapsed": false
   },
   "outputs": [
    {
     "data": {
      "image/png": "[encoded data removed]",
      "text/plain": [
       "<matplotlib.figure.Figure at 0x5034fd0>"
      ]
     },
     "metadata": {},
     "output_type": "display_data"
    }
   ],
   "source": [
    "fname=\"size_lesion_dor_GrB\"\n",
    "ylabel = \"Percentage of Patches\"\n",
    "#plotting_defaults[\"ylim\"] = (0,50)\n",
    "plotting_defaults[\"figsize\"] = (10,6)\n",
    "ax = dfap.plot(**plotting_defaults)\n",
    "ax.set_ylabel(ylabel,fontdict={'fontsize':plotting_defaults[\"fontsize\"]})\n",
    "ax.set_title(\"Group-B\",fontdict={'fontsize':plotting_defaults[\"fontsize\"]})\n",
    "plt.savefig(fname)\n",
    "#plotting_defaults[\"ylim\"] = (0,105)\n",
    "#plotting_defaults[\"figsize\"] = (6,4)"
   ]
  },
  {
   "cell_type": "code",
   "execution_count": 113,
   "metadata": {
    "collapsed": false
   },
   "outputs": [
    {
     "name": "stdout",
     "output_type": "stream",
     "text": [
      "0-0.999999 sq. cm: chi-square:0.720,p_value:0.698\n",
      "1-5 sq. cm: chi-square:12.805,p_value:0.005\n",
      "6-10 sq. cm: chi-square:5.829,p_value:0.054\n"
     ]
    }
   ],
   "source": [
    "# last index has all zeros\n",
    "for idx in dfa.index:\n",
    "    x = dfa.loc[idx]\n",
    "    y = dfb.loc[idx]\n",
    "    obs = remove_zeros(np.array([x,y]))\n",
    "    if (obs.size > 2):\n",
    "        ct = chi2_contingency(obs,correction=False)\n",
    "        print idx + \": chi-square:%.3f,p_value:%.3f\"%(ct[0],ct[1])"
   ]
  },
  {
   "cell_type": "markdown",
   "metadata": {},
   "source": [
    "## "
   ]
  },
  {
   "cell_type": "code",
   "execution_count": 114,
   "metadata": {
    "collapsed": false
   },
   "outputs": [
    {
     "data": {
      "text/html": [
       "<div>\n",
       "<table border=\"1\" class=\"dataframe\">\n",
       "  <thead>\n",
       "    <tr style=\"text-align: right;\">\n",
       "      <th></th>\n",
       "      <th>0-25 %</th>\n",
       "      <th>26-50 %</th>\n",
       "      <th>51-75 %</th>\n",
       "      <th>76-100 %</th>\n",
       "    </tr>\n",
       "  </thead>\n",
       "  <tbody>\n",
       "    <tr>\n",
       "      <th>0-0.999999 sq. cm</th>\n",
       "      <td>0</td>\n",
       "      <td>1</td>\n",
       "      <td>0</td>\n",
       "      <td>4</td>\n",
       "    </tr>\n",
       "    <tr>\n",
       "      <th>1-5 sq. cm</th>\n",
       "      <td>0</td>\n",
       "      <td>1</td>\n",
       "      <td>0</td>\n",
       "      <td>14</td>\n",
       "    </tr>\n",
       "    <tr>\n",
       "      <th>6-10 sq. cm</th>\n",
       "      <td>0</td>\n",
       "      <td>1</td>\n",
       "      <td>0</td>\n",
       "      <td>6</td>\n",
       "    </tr>\n",
       "    <tr>\n",
       "      <th>11-25 sq. cm</th>\n",
       "      <td>0</td>\n",
       "      <td>0</td>\n",
       "      <td>0</td>\n",
       "      <td>3</td>\n",
       "    </tr>\n",
       "    <tr>\n",
       "      <th>26-50 sq. cm</th>\n",
       "      <td>0</td>\n",
       "      <td>0</td>\n",
       "      <td>0</td>\n",
       "      <td>0</td>\n",
       "    </tr>\n",
       "  </tbody>\n",
       "</table>\n",
       "</div>"
      ],
      "text/plain": [
       "                   0-25 %  26-50 %  51-75 %  76-100 %\n",
       "0-0.999999 sq. cm       0        1        0         4\n",
       "1-5 sq. cm              0        1        0        14\n",
       "6-10 sq. cm             0        1        0         6\n",
       "11-25 sq. cm            0        0        0         3\n",
       "26-50 sq. cm            0        0        0         0"
      ]
     },
     "execution_count": 114,
     "metadata": {},
     "output_type": "execute_result"
    }
   ],
   "source": [
    "col_ranges = [(0,25),(26,50),(51,75),(76,100)] # DOR ranges\n",
    "col_unit = \"%\"\n",
    "row_ranges = [(0,0.999999),(1,5),(6,10),(11,25),(26,50)] #area\n",
    "row_unit = \"sq. cm\"\n",
    "attr_col = \"DOR_06\"\n",
    "attr_row = \"transpanted_area_cm2\"\n",
    "df1 = get_matrix_ranges(attr_col,attr_row,col_ranges,row_ranges,col_unit,row_unit,sdf_a)\n",
    "df1.head()"
   ]
  },
  {
   "cell_type": "code",
   "execution_count": 115,
   "metadata": {
    "collapsed": false
   },
   "outputs": [
    {
     "data": {
      "text/html": [
       "<div>\n",
       "<table border=\"1\" class=\"dataframe\">\n",
       "  <thead>\n",
       "    <tr style=\"text-align: right;\">\n",
       "      <th></th>\n",
       "      <th>0-25 %</th>\n",
       "      <th>26-50 %</th>\n",
       "      <th>51-75 %</th>\n",
       "      <th>76-100 %</th>\n",
       "    </tr>\n",
       "  </thead>\n",
       "  <tbody>\n",
       "    <tr>\n",
       "      <th>0-0.999999 sq. cm</th>\n",
       "      <td>1</td>\n",
       "      <td>4</td>\n",
       "      <td>0</td>\n",
       "      <td>8</td>\n",
       "    </tr>\n",
       "    <tr>\n",
       "      <th>1-5 sq. cm</th>\n",
       "      <td>4</td>\n",
       "      <td>3</td>\n",
       "      <td>1</td>\n",
       "      <td>3</td>\n",
       "    </tr>\n",
       "    <tr>\n",
       "      <th>6-10 sq. cm</th>\n",
       "      <td>3</td>\n",
       "      <td>0</td>\n",
       "      <td>0</td>\n",
       "      <td>2</td>\n",
       "    </tr>\n",
       "    <tr>\n",
       "      <th>11-25 sq. cm</th>\n",
       "      <td>0</td>\n",
       "      <td>0</td>\n",
       "      <td>0</td>\n",
       "      <td>0</td>\n",
       "    </tr>\n",
       "    <tr>\n",
       "      <th>26-50 sq. cm</th>\n",
       "      <td>1</td>\n",
       "      <td>0</td>\n",
       "      <td>0</td>\n",
       "      <td>0</td>\n",
       "    </tr>\n",
       "  </tbody>\n",
       "</table>\n",
       "</div>"
      ],
      "text/plain": [
       "                   0-25 %  26-50 %  51-75 %  76-100 %\n",
       "0-0.999999 sq. cm       1        4        0         8\n",
       "1-5 sq. cm              4        3        1         3\n",
       "6-10 sq. cm             3        0        0         2\n",
       "11-25 sq. cm            0        0        0         0\n",
       "26-50 sq. cm            1        0        0         0"
      ]
     },
     "execution_count": 115,
     "metadata": {},
     "output_type": "execute_result"
    }
   ],
   "source": [
    "df1 = get_matrix_ranges(attr_col,attr_row,col_ranges,row_ranges,col_unit,row_unit,sdf_b)\n",
    "df1.head()"
   ]
  },
  {
   "cell_type": "code",
   "execution_count": 116,
   "metadata": {
    "collapsed": false
   },
   "outputs": [
    {
     "data": {
      "text/plain": [
       "1.2257405515832482"
      ]
     },
     "execution_count": 116,
     "metadata": {},
     "output_type": "execute_result"
    }
   ],
   "source": [
    "#patients_df.transpanted_area_cm2\n",
    "x = 8+4+4+20+15+1.0\n",
    "y=11.50+7.75+9+63.25+37.93+1.5\n",
    "y/x\n",
    "patients_df[['donar_size_cm2','transpanted_area_cm2']]\n",
    "x1 = 10+20+30+20+40\n",
    "y1 = 1.0+14.79+63.98+11.29+6.84\n",
    "x1/y1"
   ]
  }
 ],
 "metadata": {
  "kernelspec": {
   "display_name": "Python 2",
   "language": "python",
   "name": "python2"
  },
  "language_info": {
   "codemirror_mode": {
    "name": "ipython",
    "version": 2
   },
   "file_extension": ".py",
   "mimetype": "text/x-python",
   "name": "python",
   "nbconvert_exporter": "python",
   "pygments_lexer": "ipython2",
   "version": "2.7.3"
  }
 },
 "nbformat": 4,
 "nbformat_minor": 0
}
